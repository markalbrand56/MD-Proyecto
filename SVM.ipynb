{
 "cells": [
  {
   "cell_type": "code",
   "execution_count": 80,
   "metadata": {
    "ExecuteTime": {
     "end_time": "2024-05-15T00:06:17.313571Z",
     "start_time": "2024-05-15T00:06:17.310662Z"
    }
   },
   "outputs": [],
   "source": [
    "import numpy as np\n",
    "import matplotlib.pyplot as plt\n",
    "import pandas as pd\n",
    "import seaborn as sns\n",
    "\n",
    "# ignore all FutureWarnings\n",
    "import warnings\n",
    "warnings.simplefilter(action='ignore', category=FutureWarning)"
   ]
  },
  {
   "cell_type": "code",
   "execution_count": 81,
   "metadata": {
    "ExecuteTime": {
     "end_time": "2024-05-15T00:06:17.333321Z",
     "start_time": "2024-05-15T00:06:17.314581Z"
    }
   },
   "outputs": [],
   "source": [
    "# indices en la primera columna\n",
    "datos_procesados = pd.read_csv('data_procesada.csv', sep=',', encoding='utf-8', index_col=0)\n",
    "datos_procesados.head()\n",
    "datos_procesados.reset_index(drop=True, inplace=True)"
   ]
  },
  {
   "cell_type": "markdown",
   "metadata": {},
   "source": [
    "## Análisis de Datos"
   ]
  },
  {
   "cell_type": "markdown",
   "metadata": {},
   "source": [
    "### Análisis Estadístico"
   ]
  },
  {
   "cell_type": "code",
   "execution_count": 82,
   "metadata": {
    "ExecuteTime": {
     "end_time": "2024-05-15T00:06:17.468438Z",
     "start_time": "2024-05-15T00:06:17.334845Z"
    }
   },
   "outputs": [
    {
     "name": "stdout",
     "output_type": "stream",
     "text": [
      "Media: 3334.6581320026503\n"
     ]
    },
    {
     "data": {
      "text/plain": [
       "Text(0.5, 1.0, 'Depressive disorder rates (number suffering per 100,000)')"
      ]
     },
     "execution_count": 82,
     "metadata": {},
     "output_type": "execute_result"
    },
    {
     "data": {
      "image/png": "[encoded data removed]",
      "text/plain": [
       "<Figure size 1000x600 with 1 Axes>"
      ]
     },
     "metadata": {},
     "output_type": "display_data"
    }
   ],
   "source": [
    "#sacar la media, hacer caja de bigotes de 'Depressive disorder rates (number suffering per 100,000)'\n",
    "\n",
    "mean = datos_procesados['Depressive disorder rates (number suffering per 100,000)'].mean()\n",
    "print (f'Media: {mean}')\n",
    "\n",
    "plt.figure(figsize=(10,6))\n",
    "sns.boxplot(datos_procesados['Depressive disorder rates (number suffering per 100,000)'])\n",
    "plt.title('Depressive disorder rates (number suffering per 100,000)')"
   ]
  },
  {
   "cell_type": "markdown",
   "metadata": {},
   "source": [
    "#### Resultado Estadístico\n",
    "En base a los resultados obtenidos, se puede afirmar que la media es de 3334.65, aproximadamente 3335 personas que sufren depresión por cada 100,000 habitantes.\n",
    "\n",
    "El análisis de la gráfica de caja y bigotes indica que el cuartil superior se encuentra entre 3500 y 4000 personas con depresión por cada 100,000 habitantes, mientras que el cuartil inferior oscila entre 2600 y 3000 personas por cada 100,000 habitantes. Aunque los valores atípicos pueden alcanzar hasta 6000 personas, se puede concluir que esta variable es adecuada para su uso, ya que los valores se mantienen en rangos similares."
   ]
  },
  {
   "cell_type": "markdown",
   "metadata": {},
   "source": [
    "### Presencia: Baja, Media y Alta de la Depresión\n",
    "\n",
    "Para este punto y este modelo, se decidió agregar una nueva variable que indica la presencia de la depresión en tres niveles, según la cantidad de personas que la padecen por cada 100,000 habitantes. La clasificación es la siguiente: 1 representa una presencia baja, 2 una presencia media y 3 una presencia alta.\n",
    "\n",
    "Para definir esta variable, se utilizaron como umbrales el cuartil inferior (2800) y el cuartil superior (3800), estableciendo así los límites para cada nivel de presencia de depresión."
   ]
  },
  {
   "cell_type": "code",
   "execution_count": 83,
   "metadata": {
    "ExecuteTime": {
     "end_time": "2024-05-15T00:06:17.483880Z",
     "start_time": "2024-05-15T00:06:17.469449Z"
    }
   },
   "outputs": [
    {
     "data": {
      "text/html": [
       "<div>\n",
       "<style scoped>\n",
       "    .dataframe tbody tr th:only-of-type {\n",
       "        vertical-align: middle;\n",
       "    }\n",
       "\n",
       "    .dataframe tbody tr th {\n",
       "        vertical-align: top;\n",
       "    }\n",
       "\n",
       "    .dataframe thead th {\n",
       "        text-align: right;\n",
       "    }\n",
       "</style>\n",
       "<table border=\"1\" class=\"dataframe\">\n",
       "  <thead>\n",
       "    <tr style=\"text-align: right;\">\n",
       "      <th></th>\n",
       "      <th>Entity</th>\n",
       "      <th>Code</th>\n",
       "      <th>Year</th>\n",
       "      <th>Schizophrenia (%)</th>\n",
       "      <th>Bipolar disorder (%)</th>\n",
       "      <th>Eating disorders (%)</th>\n",
       "      <th>Anxiety disorders (%)</th>\n",
       "      <th>Drug use disorders (%)</th>\n",
       "      <th>Depression (%)</th>\n",
       "      <th>Alcohol use disorders (%)</th>\n",
       "      <th>...</th>\n",
       "      <th>10-14 years old (%)</th>\n",
       "      <th>All ages (%)</th>\n",
       "      <th>70+ years old (%)</th>\n",
       "      <th>30-34 years old (%)</th>\n",
       "      <th>15-19 years old (%)</th>\n",
       "      <th>25-29 years old (%)</th>\n",
       "      <th>50-69 years old (%)</th>\n",
       "      <th>Age-standardized (%)</th>\n",
       "      <th>15-49 years old (%)</th>\n",
       "      <th>Depression_binary</th>\n",
       "    </tr>\n",
       "  </thead>\n",
       "  <tbody>\n",
       "    <tr>\n",
       "      <th>0</th>\n",
       "      <td>Afghanistan</td>\n",
       "      <td>AFG</td>\n",
       "      <td>1990</td>\n",
       "      <td>0.160560</td>\n",
       "      <td>0.697779</td>\n",
       "      <td>0.101855</td>\n",
       "      <td>4.828830</td>\n",
       "      <td>1.677082</td>\n",
       "      <td>4.071831</td>\n",
       "      <td>0.672404</td>\n",
       "      <td>...</td>\n",
       "      <td>1.594676</td>\n",
       "      <td>3.218871</td>\n",
       "      <td>5.202803</td>\n",
       "      <td>5.799034</td>\n",
       "      <td>3.455708</td>\n",
       "      <td>5.175856</td>\n",
       "      <td>5.917752</td>\n",
       "      <td>4.071831</td>\n",
       "      <td>4.939766</td>\n",
       "      <td>2</td>\n",
       "    </tr>\n",
       "    <tr>\n",
       "      <th>1</th>\n",
       "      <td>Afghanistan</td>\n",
       "      <td>AFG</td>\n",
       "      <td>1991</td>\n",
       "      <td>0.160312</td>\n",
       "      <td>0.697961</td>\n",
       "      <td>0.099313</td>\n",
       "      <td>4.829740</td>\n",
       "      <td>1.684746</td>\n",
       "      <td>4.079531</td>\n",
       "      <td>0.671768</td>\n",
       "      <td>...</td>\n",
       "      <td>1.588356</td>\n",
       "      <td>3.203468</td>\n",
       "      <td>5.192849</td>\n",
       "      <td>5.814828</td>\n",
       "      <td>3.451880</td>\n",
       "      <td>5.176729</td>\n",
       "      <td>5.927093</td>\n",
       "      <td>4.079531</td>\n",
       "      <td>4.902682</td>\n",
       "      <td>2</td>\n",
       "    </tr>\n",
       "    <tr>\n",
       "      <th>2</th>\n",
       "      <td>Afghanistan</td>\n",
       "      <td>AFG</td>\n",
       "      <td>1992</td>\n",
       "      <td>0.160135</td>\n",
       "      <td>0.698107</td>\n",
       "      <td>0.096692</td>\n",
       "      <td>4.831108</td>\n",
       "      <td>1.694334</td>\n",
       "      <td>4.088358</td>\n",
       "      <td>0.670644</td>\n",
       "      <td>...</td>\n",
       "      <td>1.577980</td>\n",
       "      <td>3.156559</td>\n",
       "      <td>5.176872</td>\n",
       "      <td>5.829745</td>\n",
       "      <td>3.434982</td>\n",
       "      <td>5.160249</td>\n",
       "      <td>5.945656</td>\n",
       "      <td>4.088358</td>\n",
       "      <td>4.837097</td>\n",
       "      <td>2</td>\n",
       "    </tr>\n",
       "    <tr>\n",
       "      <th>3</th>\n",
       "      <td>Afghanistan</td>\n",
       "      <td>AFG</td>\n",
       "      <td>1993</td>\n",
       "      <td>0.160037</td>\n",
       "      <td>0.698257</td>\n",
       "      <td>0.094336</td>\n",
       "      <td>4.830864</td>\n",
       "      <td>1.705320</td>\n",
       "      <td>4.096190</td>\n",
       "      <td>0.669738</td>\n",
       "      <td>...</td>\n",
       "      <td>1.577201</td>\n",
       "      <td>3.120655</td>\n",
       "      <td>5.167355</td>\n",
       "      <td>5.853060</td>\n",
       "      <td>3.420210</td>\n",
       "      <td>5.148767</td>\n",
       "      <td>5.966915</td>\n",
       "      <td>4.096190</td>\n",
       "      <td>4.813657</td>\n",
       "      <td>2</td>\n",
       "    </tr>\n",
       "    <tr>\n",
       "      <th>4</th>\n",
       "      <td>Afghanistan</td>\n",
       "      <td>AFG</td>\n",
       "      <td>1994</td>\n",
       "      <td>0.160022</td>\n",
       "      <td>0.698469</td>\n",
       "      <td>0.092439</td>\n",
       "      <td>4.829423</td>\n",
       "      <td>1.716069</td>\n",
       "      <td>4.099582</td>\n",
       "      <td>0.669260</td>\n",
       "      <td>...</td>\n",
       "      <td>1.570846</td>\n",
       "      <td>3.082179</td>\n",
       "      <td>5.157549</td>\n",
       "      <td>5.852851</td>\n",
       "      <td>3.425222</td>\n",
       "      <td>5.148227</td>\n",
       "      <td>5.975907</td>\n",
       "      <td>4.099582</td>\n",
       "      <td>4.839340</td>\n",
       "      <td>2</td>\n",
       "    </tr>\n",
       "  </tbody>\n",
       "</table>\n",
       "<p>5 rows × 28 columns</p>\n",
       "</div>"
      ],
      "text/plain": [
       "        Entity Code  Year  Schizophrenia (%)  Bipolar disorder (%)  \\\n",
       "0  Afghanistan  AFG  1990           0.160560              0.697779   \n",
       "1  Afghanistan  AFG  1991           0.160312              0.697961   \n",
       "2  Afghanistan  AFG  1992           0.160135              0.698107   \n",
       "3  Afghanistan  AFG  1993           0.160037              0.698257   \n",
       "4  Afghanistan  AFG  1994           0.160022              0.698469   \n",
       "\n",
       "   Eating disorders (%)  Anxiety disorders (%)  Drug use disorders (%)  \\\n",
       "0              0.101855               4.828830                1.677082   \n",
       "1              0.099313               4.829740                1.684746   \n",
       "2              0.096692               4.831108                1.694334   \n",
       "3              0.094336               4.830864                1.705320   \n",
       "4              0.092439               4.829423                1.716069   \n",
       "\n",
       "   Depression (%)  Alcohol use disorders (%)  ...  10-14 years old (%)  \\\n",
       "0        4.071831                   0.672404  ...             1.594676   \n",
       "1        4.079531                   0.671768  ...             1.588356   \n",
       "2        4.088358                   0.670644  ...             1.577980   \n",
       "3        4.096190                   0.669738  ...             1.577201   \n",
       "4        4.099582                   0.669260  ...             1.570846   \n",
       "\n",
       "   All ages (%)  70+ years old (%)  30-34 years old (%)  15-19 years old (%)  \\\n",
       "0      3.218871           5.202803             5.799034             3.455708   \n",
       "1      3.203468           5.192849             5.814828             3.451880   \n",
       "2      3.156559           5.176872             5.829745             3.434982   \n",
       "3      3.120655           5.167355             5.853060             3.420210   \n",
       "4      3.082179           5.157549             5.852851             3.425222   \n",
       "\n",
       "   25-29 years old (%)  50-69 years old (%)  Age-standardized (%)  \\\n",
       "0             5.175856             5.917752              4.071831   \n",
       "1             5.176729             5.927093              4.079531   \n",
       "2             5.160249             5.945656              4.088358   \n",
       "3             5.148767             5.966915              4.096190   \n",
       "4             5.148227             5.975907              4.099582   \n",
       "\n",
       "   15-49 years old (%)  Depression_binary  \n",
       "0             4.939766                  2  \n",
       "1             4.902682                  2  \n",
       "2             4.837097                  2  \n",
       "3             4.813657                  2  \n",
       "4             4.839340                  2  \n",
       "\n",
       "[5 rows x 28 columns]"
      ]
     },
     "execution_count": 83,
     "metadata": {},
     "output_type": "execute_result"
    }
   ],
   "source": [
    "bajo = 2800\n",
    "alto = 3800\n",
    "datos_procesados['Depression_binary'] = np.where(datos_procesados['Depressive disorder rates (number suffering per 100,000)'] > alto, 2 , np.where(datos_procesados['Depressive disorder rates (number suffering per 100,000)'] > bajo, 1, 0)) \n",
    "datos_procesados.head()"
   ]
  },
  {
   "cell_type": "code",
   "execution_count": 84,
   "metadata": {
    "ExecuteTime": {
     "end_time": "2024-05-15T00:06:17.489117Z",
     "start_time": "2024-05-15T00:06:17.484888Z"
    }
   },
   "outputs": [
    {
     "name": "stdout",
     "output_type": "stream",
     "text": [
      "Depression_binary\n",
      "1    3011\n",
      "0    1192\n",
      "2    1089\n",
      "Name: count, dtype: int64\n"
     ]
    }
   ],
   "source": [
    "print(datos_procesados['Depression_binary'].value_counts())"
   ]
  },
  {
   "cell_type": "markdown",
   "metadata": {},
   "source": [
    "### Estandarización de Datos"
   ]
  },
  {
   "cell_type": "code",
   "execution_count": 85,
   "metadata": {
    "ExecuteTime": {
     "end_time": "2024-05-15T00:06:17.788336Z",
     "start_time": "2024-05-15T00:06:17.490042Z"
    }
   },
   "outputs": [
    {
     "data": {
      "text/html": [
       "<div>\n",
       "<style scoped>\n",
       "    .dataframe tbody tr th:only-of-type {\n",
       "        vertical-align: middle;\n",
       "    }\n",
       "\n",
       "    .dataframe tbody tr th {\n",
       "        vertical-align: top;\n",
       "    }\n",
       "\n",
       "    .dataframe thead th {\n",
       "        text-align: right;\n",
       "    }\n",
       "</style>\n",
       "<table border=\"1\" class=\"dataframe\">\n",
       "  <thead>\n",
       "    <tr style=\"text-align: right;\">\n",
       "      <th></th>\n",
       "      <th>Code</th>\n",
       "      <th>Year</th>\n",
       "      <th>Schizophrenia (%)</th>\n",
       "      <th>Bipolar disorder (%)</th>\n",
       "      <th>Eating disorders (%)</th>\n",
       "      <th>Anxiety disorders (%)</th>\n",
       "      <th>Drug use disorders (%)</th>\n",
       "      <th>Depression (%)</th>\n",
       "      <th>Alcohol use disorders (%)</th>\n",
       "      <th>Prevalence in males (%)</th>\n",
       "      <th>...</th>\n",
       "      <th>10-14 years old (%)</th>\n",
       "      <th>All ages (%)</th>\n",
       "      <th>70+ years old (%)</th>\n",
       "      <th>30-34 years old (%)</th>\n",
       "      <th>15-19 years old (%)</th>\n",
       "      <th>25-29 years old (%)</th>\n",
       "      <th>50-69 years old (%)</th>\n",
       "      <th>Age-standardized (%)</th>\n",
       "      <th>15-49 years old (%)</th>\n",
       "      <th>Depression_binary</th>\n",
       "    </tr>\n",
       "  </thead>\n",
       "  <tbody>\n",
       "    <tr>\n",
       "      <th>0</th>\n",
       "      <td>AFG</td>\n",
       "      <td>-1.669046</td>\n",
       "      <td>-1.130788</td>\n",
       "      <td>-0.115495</td>\n",
       "      <td>-0.854313</td>\n",
       "      <td>0.777467</td>\n",
       "      <td>1.924461</td>\n",
       "      <td>0.885951</td>\n",
       "      <td>-1.030982</td>\n",
       "      <td>1.274053</td>\n",
       "      <td>...</td>\n",
       "      <td>0.569148</td>\n",
       "      <td>-0.008861</td>\n",
       "      <td>-0.618060</td>\n",
       "      <td>1.691212</td>\n",
       "      <td>0.474128</td>\n",
       "      <td>1.262396</td>\n",
       "      <td>0.251961</td>\n",
       "      <td>0.885951</td>\n",
       "      <td>0.986979</td>\n",
       "      <td>2</td>\n",
       "    </tr>\n",
       "    <tr>\n",
       "      <th>1</th>\n",
       "      <td>AFG</td>\n",
       "      <td>-1.540658</td>\n",
       "      <td>-1.136682</td>\n",
       "      <td>-0.114392</td>\n",
       "      <td>-0.870847</td>\n",
       "      <td>0.778270</td>\n",
       "      <td>1.941911</td>\n",
       "      <td>0.897398</td>\n",
       "      <td>-1.031719</td>\n",
       "      <td>1.281231</td>\n",
       "      <td>...</td>\n",
       "      <td>0.553161</td>\n",
       "      <td>-0.026673</td>\n",
       "      <td>-0.624645</td>\n",
       "      <td>1.706406</td>\n",
       "      <td>0.469611</td>\n",
       "      <td>1.263243</td>\n",
       "      <td>0.260895</td>\n",
       "      <td>0.897398</td>\n",
       "      <td>0.948894</td>\n",
       "      <td>2</td>\n",
       "    </tr>\n",
       "    <tr>\n",
       "      <th>2</th>\n",
       "      <td>AFG</td>\n",
       "      <td>-1.412270</td>\n",
       "      <td>-1.140897</td>\n",
       "      <td>-0.113501</td>\n",
       "      <td>-0.887895</td>\n",
       "      <td>0.779475</td>\n",
       "      <td>1.963742</td>\n",
       "      <td>0.910521</td>\n",
       "      <td>-1.033021</td>\n",
       "      <td>1.290220</td>\n",
       "      <td>...</td>\n",
       "      <td>0.526916</td>\n",
       "      <td>-0.080917</td>\n",
       "      <td>-0.635213</td>\n",
       "      <td>1.720756</td>\n",
       "      <td>0.449665</td>\n",
       "      <td>1.247253</td>\n",
       "      <td>0.278649</td>\n",
       "      <td>0.910521</td>\n",
       "      <td>0.881539</td>\n",
       "      <td>2</td>\n",
       "    </tr>\n",
       "    <tr>\n",
       "      <th>3</th>\n",
       "      <td>AFG</td>\n",
       "      <td>-1.283881</td>\n",
       "      <td>-1.143216</td>\n",
       "      <td>-0.112588</td>\n",
       "      <td>-0.903218</td>\n",
       "      <td>0.779259</td>\n",
       "      <td>1.988757</td>\n",
       "      <td>0.922163</td>\n",
       "      <td>-1.034071</td>\n",
       "      <td>1.298398</td>\n",
       "      <td>...</td>\n",
       "      <td>0.524946</td>\n",
       "      <td>-0.122438</td>\n",
       "      <td>-0.641509</td>\n",
       "      <td>1.743186</td>\n",
       "      <td>0.432229</td>\n",
       "      <td>1.236111</td>\n",
       "      <td>0.298982</td>\n",
       "      <td>0.922163</td>\n",
       "      <td>0.857466</td>\n",
       "      <td>2</td>\n",
       "    </tr>\n",
       "    <tr>\n",
       "      <th>4</th>\n",
       "      <td>AFG</td>\n",
       "      <td>-1.155493</td>\n",
       "      <td>-1.143575</td>\n",
       "      <td>-0.111296</td>\n",
       "      <td>-0.915552</td>\n",
       "      <td>0.777990</td>\n",
       "      <td>2.013230</td>\n",
       "      <td>0.927205</td>\n",
       "      <td>-1.034626</td>\n",
       "      <td>1.302288</td>\n",
       "      <td>...</td>\n",
       "      <td>0.508872</td>\n",
       "      <td>-0.166931</td>\n",
       "      <td>-0.647996</td>\n",
       "      <td>1.742984</td>\n",
       "      <td>0.438144</td>\n",
       "      <td>1.235588</td>\n",
       "      <td>0.307583</td>\n",
       "      <td>0.927205</td>\n",
       "      <td>0.883842</td>\n",
       "      <td>2</td>\n",
       "    </tr>\n",
       "  </tbody>\n",
       "</table>\n",
       "<p>5 rows × 27 columns</p>\n",
       "</div>"
      ],
      "text/plain": [
       "  Code      Year  Schizophrenia (%)  Bipolar disorder (%)  \\\n",
       "0  AFG -1.669046          -1.130788             -0.115495   \n",
       "1  AFG -1.540658          -1.136682             -0.114392   \n",
       "2  AFG -1.412270          -1.140897             -0.113501   \n",
       "3  AFG -1.283881          -1.143216             -0.112588   \n",
       "4  AFG -1.155493          -1.143575             -0.111296   \n",
       "\n",
       "   Eating disorders (%)  Anxiety disorders (%)  Drug use disorders (%)  \\\n",
       "0             -0.854313               0.777467                1.924461   \n",
       "1             -0.870847               0.778270                1.941911   \n",
       "2             -0.887895               0.779475                1.963742   \n",
       "3             -0.903218               0.779259                1.988757   \n",
       "4             -0.915552               0.777990                2.013230   \n",
       "\n",
       "   Depression (%)  Alcohol use disorders (%)  Prevalence in males (%)  ...  \\\n",
       "0        0.885951                  -1.030982                 1.274053  ...   \n",
       "1        0.897398                  -1.031719                 1.281231  ...   \n",
       "2        0.910521                  -1.033021                 1.290220  ...   \n",
       "3        0.922163                  -1.034071                 1.298398  ...   \n",
       "4        0.927205                  -1.034626                 1.302288  ...   \n",
       "\n",
       "   10-14 years old (%)  All ages (%)  70+ years old (%)  30-34 years old (%)  \\\n",
       "0             0.569148     -0.008861          -0.618060             1.691212   \n",
       "1             0.553161     -0.026673          -0.624645             1.706406   \n",
       "2             0.526916     -0.080917          -0.635213             1.720756   \n",
       "3             0.524946     -0.122438          -0.641509             1.743186   \n",
       "4             0.508872     -0.166931          -0.647996             1.742984   \n",
       "\n",
       "   15-19 years old (%)  25-29 years old (%)  50-69 years old (%)  \\\n",
       "0             0.474128             1.262396             0.251961   \n",
       "1             0.469611             1.263243             0.260895   \n",
       "2             0.449665             1.247253             0.278649   \n",
       "3             0.432229             1.236111             0.298982   \n",
       "4             0.438144             1.235588             0.307583   \n",
       "\n",
       "   Age-standardized (%)  15-49 years old (%)  Depression_binary  \n",
       "0              0.885951             0.986979                  2  \n",
       "1              0.897398             0.948894                  2  \n",
       "2              0.910521             0.881539                  2  \n",
       "3              0.922163             0.857466                  2  \n",
       "4              0.927205             0.883842                  2  \n",
       "\n",
       "[5 rows x 27 columns]"
      ]
     },
     "execution_count": 85,
     "metadata": {},
     "output_type": "execute_result"
    }
   ],
   "source": [
    "#standar scaler\n",
    "from sklearn.preprocessing import StandardScaler\n",
    "\n",
    "scaler = StandardScaler()\n",
    "datos_procesados_scaled = datos_procesados.copy()\n",
    "datos_procesados_scaled.drop(columns=['Entity'], inplace=True)\n",
    "\n",
    "columnas_a_escalar = datos_procesados_scaled.columns.difference(['Code', 'Depression_binary'])\n",
    "\n",
    "datos_procesados_scaled[columnas_a_escalar] = scaler.fit_transform(datos_procesados_scaled[columnas_a_escalar])\n",
    "\n",
    "datos_procesados_scaled.head()\n"
   ]
  },
  {
   "cell_type": "code",
   "execution_count": 86,
   "metadata": {
    "ExecuteTime": {
     "end_time": "2024-05-15T00:06:17.792629Z",
     "start_time": "2024-05-15T00:06:17.789492Z"
    }
   },
   "outputs": [],
   "source": [
    "qualitative_columns = ['Code']"
   ]
  },
  {
   "cell_type": "markdown",
   "metadata": {},
   "source": [
    "### Label Encoder para codificar la variable de Code (código del país)"
   ]
  },
  {
   "cell_type": "code",
   "execution_count": 87,
   "metadata": {
    "ExecuteTime": {
     "end_time": "2024-05-15T00:06:17.809010Z",
     "start_time": "2024-05-15T00:06:17.793637Z"
    }
   },
   "outputs": [
    {
     "data": {
      "text/html": [
       "<div>\n",
       "<style scoped>\n",
       "    .dataframe tbody tr th:only-of-type {\n",
       "        vertical-align: middle;\n",
       "    }\n",
       "\n",
       "    .dataframe tbody tr th {\n",
       "        vertical-align: top;\n",
       "    }\n",
       "\n",
       "    .dataframe thead th {\n",
       "        text-align: right;\n",
       "    }\n",
       "</style>\n",
       "<table border=\"1\" class=\"dataframe\">\n",
       "  <thead>\n",
       "    <tr style=\"text-align: right;\">\n",
       "      <th></th>\n",
       "      <th>Code</th>\n",
       "      <th>Year</th>\n",
       "      <th>Schizophrenia (%)</th>\n",
       "      <th>Bipolar disorder (%)</th>\n",
       "      <th>Eating disorders (%)</th>\n",
       "      <th>Anxiety disorders (%)</th>\n",
       "      <th>Drug use disorders (%)</th>\n",
       "      <th>Depression (%)</th>\n",
       "      <th>Alcohol use disorders (%)</th>\n",
       "      <th>Prevalence in males (%)</th>\n",
       "      <th>...</th>\n",
       "      <th>10-14 years old (%)</th>\n",
       "      <th>All ages (%)</th>\n",
       "      <th>70+ years old (%)</th>\n",
       "      <th>30-34 years old (%)</th>\n",
       "      <th>15-19 years old (%)</th>\n",
       "      <th>25-29 years old (%)</th>\n",
       "      <th>50-69 years old (%)</th>\n",
       "      <th>Age-standardized (%)</th>\n",
       "      <th>15-49 years old (%)</th>\n",
       "      <th>Depression_binary</th>\n",
       "    </tr>\n",
       "  </thead>\n",
       "  <tbody>\n",
       "    <tr>\n",
       "      <th>0</th>\n",
       "      <td>0</td>\n",
       "      <td>-1.669046</td>\n",
       "      <td>-1.130788</td>\n",
       "      <td>-0.115495</td>\n",
       "      <td>-0.854313</td>\n",
       "      <td>0.777467</td>\n",
       "      <td>1.924461</td>\n",
       "      <td>0.885951</td>\n",
       "      <td>-1.030982</td>\n",
       "      <td>1.274053</td>\n",
       "      <td>...</td>\n",
       "      <td>0.569148</td>\n",
       "      <td>-0.008861</td>\n",
       "      <td>-0.618060</td>\n",
       "      <td>1.691212</td>\n",
       "      <td>0.474128</td>\n",
       "      <td>1.262396</td>\n",
       "      <td>0.251961</td>\n",
       "      <td>0.885951</td>\n",
       "      <td>0.986979</td>\n",
       "      <td>2</td>\n",
       "    </tr>\n",
       "    <tr>\n",
       "      <th>1</th>\n",
       "      <td>0</td>\n",
       "      <td>-1.540658</td>\n",
       "      <td>-1.136682</td>\n",
       "      <td>-0.114392</td>\n",
       "      <td>-0.870847</td>\n",
       "      <td>0.778270</td>\n",
       "      <td>1.941911</td>\n",
       "      <td>0.897398</td>\n",
       "      <td>-1.031719</td>\n",
       "      <td>1.281231</td>\n",
       "      <td>...</td>\n",
       "      <td>0.553161</td>\n",
       "      <td>-0.026673</td>\n",
       "      <td>-0.624645</td>\n",
       "      <td>1.706406</td>\n",
       "      <td>0.469611</td>\n",
       "      <td>1.263243</td>\n",
       "      <td>0.260895</td>\n",
       "      <td>0.897398</td>\n",
       "      <td>0.948894</td>\n",
       "      <td>2</td>\n",
       "    </tr>\n",
       "    <tr>\n",
       "      <th>2</th>\n",
       "      <td>0</td>\n",
       "      <td>-1.412270</td>\n",
       "      <td>-1.140897</td>\n",
       "      <td>-0.113501</td>\n",
       "      <td>-0.887895</td>\n",
       "      <td>0.779475</td>\n",
       "      <td>1.963742</td>\n",
       "      <td>0.910521</td>\n",
       "      <td>-1.033021</td>\n",
       "      <td>1.290220</td>\n",
       "      <td>...</td>\n",
       "      <td>0.526916</td>\n",
       "      <td>-0.080917</td>\n",
       "      <td>-0.635213</td>\n",
       "      <td>1.720756</td>\n",
       "      <td>0.449665</td>\n",
       "      <td>1.247253</td>\n",
       "      <td>0.278649</td>\n",
       "      <td>0.910521</td>\n",
       "      <td>0.881539</td>\n",
       "      <td>2</td>\n",
       "    </tr>\n",
       "    <tr>\n",
       "      <th>3</th>\n",
       "      <td>0</td>\n",
       "      <td>-1.283881</td>\n",
       "      <td>-1.143216</td>\n",
       "      <td>-0.112588</td>\n",
       "      <td>-0.903218</td>\n",
       "      <td>0.779259</td>\n",
       "      <td>1.988757</td>\n",
       "      <td>0.922163</td>\n",
       "      <td>-1.034071</td>\n",
       "      <td>1.298398</td>\n",
       "      <td>...</td>\n",
       "      <td>0.524946</td>\n",
       "      <td>-0.122438</td>\n",
       "      <td>-0.641509</td>\n",
       "      <td>1.743186</td>\n",
       "      <td>0.432229</td>\n",
       "      <td>1.236111</td>\n",
       "      <td>0.298982</td>\n",
       "      <td>0.922163</td>\n",
       "      <td>0.857466</td>\n",
       "      <td>2</td>\n",
       "    </tr>\n",
       "    <tr>\n",
       "      <th>4</th>\n",
       "      <td>0</td>\n",
       "      <td>-1.155493</td>\n",
       "      <td>-1.143575</td>\n",
       "      <td>-0.111296</td>\n",
       "      <td>-0.915552</td>\n",
       "      <td>0.777990</td>\n",
       "      <td>2.013230</td>\n",
       "      <td>0.927205</td>\n",
       "      <td>-1.034626</td>\n",
       "      <td>1.302288</td>\n",
       "      <td>...</td>\n",
       "      <td>0.508872</td>\n",
       "      <td>-0.166931</td>\n",
       "      <td>-0.647996</td>\n",
       "      <td>1.742984</td>\n",
       "      <td>0.438144</td>\n",
       "      <td>1.235588</td>\n",
       "      <td>0.307583</td>\n",
       "      <td>0.927205</td>\n",
       "      <td>0.883842</td>\n",
       "      <td>2</td>\n",
       "    </tr>\n",
       "  </tbody>\n",
       "</table>\n",
       "<p>5 rows × 27 columns</p>\n",
       "</div>"
      ],
      "text/plain": [
       "   Code      Year  Schizophrenia (%)  Bipolar disorder (%)  \\\n",
       "0     0 -1.669046          -1.130788             -0.115495   \n",
       "1     0 -1.540658          -1.136682             -0.114392   \n",
       "2     0 -1.412270          -1.140897             -0.113501   \n",
       "3     0 -1.283881          -1.143216             -0.112588   \n",
       "4     0 -1.155493          -1.143575             -0.111296   \n",
       "\n",
       "   Eating disorders (%)  Anxiety disorders (%)  Drug use disorders (%)  \\\n",
       "0             -0.854313               0.777467                1.924461   \n",
       "1             -0.870847               0.778270                1.941911   \n",
       "2             -0.887895               0.779475                1.963742   \n",
       "3             -0.903218               0.779259                1.988757   \n",
       "4             -0.915552               0.777990                2.013230   \n",
       "\n",
       "   Depression (%)  Alcohol use disorders (%)  Prevalence in males (%)  ...  \\\n",
       "0        0.885951                  -1.030982                 1.274053  ...   \n",
       "1        0.897398                  -1.031719                 1.281231  ...   \n",
       "2        0.910521                  -1.033021                 1.290220  ...   \n",
       "3        0.922163                  -1.034071                 1.298398  ...   \n",
       "4        0.927205                  -1.034626                 1.302288  ...   \n",
       "\n",
       "   10-14 years old (%)  All ages (%)  70+ years old (%)  30-34 years old (%)  \\\n",
       "0             0.569148     -0.008861          -0.618060             1.691212   \n",
       "1             0.553161     -0.026673          -0.624645             1.706406   \n",
       "2             0.526916     -0.080917          -0.635213             1.720756   \n",
       "3             0.524946     -0.122438          -0.641509             1.743186   \n",
       "4             0.508872     -0.166931          -0.647996             1.742984   \n",
       "\n",
       "   15-19 years old (%)  25-29 years old (%)  50-69 years old (%)  \\\n",
       "0             0.474128             1.262396             0.251961   \n",
       "1             0.469611             1.263243             0.260895   \n",
       "2             0.449665             1.247253             0.278649   \n",
       "3             0.432229             1.236111             0.298982   \n",
       "4             0.438144             1.235588             0.307583   \n",
       "\n",
       "   Age-standardized (%)  15-49 years old (%)  Depression_binary  \n",
       "0              0.885951             0.986979                  2  \n",
       "1              0.897398             0.948894                  2  \n",
       "2              0.910521             0.881539                  2  \n",
       "3              0.922163             0.857466                  2  \n",
       "4              0.927205             0.883842                  2  \n",
       "\n",
       "[5 rows x 27 columns]"
      ]
     },
     "execution_count": 87,
     "metadata": {},
     "output_type": "execute_result"
    }
   ],
   "source": [
    "from sklearn.preprocessing import LabelEncoder, OrdinalEncoder\n",
    "\n",
    "# LabelEncoder para las columnas cualitativas\n",
    "label_encoder = LabelEncoder()\n",
    "\n",
    "for column in qualitative_columns:\n",
    "    datos_procesados_scaled[column] = label_encoder.fit_transform(datos_procesados_scaled[column])\n",
    "\n",
    "datos_procesados_scaled.head()\n",
    "datos_procesados_ecoding = datos_procesados_scaled.copy()\n",
    "datos_procesados_ecoding.head()"
   ]
  },
  {
   "cell_type": "markdown",
   "metadata": {},
   "source": [
    "### Entreno del Modelo\n",
    "Para entrenar el modelo se utilizaron la variable previamente creada que indica la presencia de la depresión por niveles y la variable objetivo."
   ]
  },
  {
   "cell_type": "code",
   "execution_count": 88,
   "metadata": {
    "ExecuteTime": {
     "end_time": "2024-05-15T00:06:17.813845Z",
     "start_time": "2024-05-15T00:06:17.810024Z"
    }
   },
   "outputs": [],
   "source": [
    "X = datos_procesados_ecoding.drop(columns=[\"Depression_binary\", \"Depressive disorder rates (number suffering per 100,000)\"])\n",
    "y = datos_procesados_ecoding[\"Depression_binary\"]"
   ]
  },
  {
   "cell_type": "code",
   "execution_count": 89,
   "metadata": {
    "ExecuteTime": {
     "end_time": "2024-05-15T00:06:17.876308Z",
     "start_time": "2024-05-15T00:06:17.814854Z"
    }
   },
   "outputs": [],
   "source": [
    "from sklearn.model_selection import train_test_split"
   ]
  },
  {
   "cell_type": "code",
   "execution_count": 90,
   "metadata": {
    "ExecuteTime": {
     "end_time": "2024-05-15T00:06:17.883735Z",
     "start_time": "2024-05-15T00:06:17.877614Z"
    }
   },
   "outputs": [],
   "source": [
    "X_entreno, X_prueba, y_entreno, y_prueba = train_test_split(X, y, test_size=0.3, random_state=0)"
   ]
  },
  {
   "cell_type": "code",
   "execution_count": 91,
   "metadata": {
    "ExecuteTime": {
     "end_time": "2024-05-15T00:06:17.890100Z",
     "start_time": "2024-05-15T00:06:17.884741Z"
    }
   },
   "outputs": [
    {
     "data": {
      "text/plain": [
       "29      0\n",
       "521     1\n",
       "608     1\n",
       "3795    0\n",
       "2188    2\n",
       "       ..\n",
       "4287    1\n",
       "5102    0\n",
       "1202    1\n",
       "4799    1\n",
       "622     0\n",
       "Name: Depression_binary, Length: 1588, dtype: int64"
      ]
     },
     "execution_count": 91,
     "metadata": {},
     "output_type": "execute_result"
    }
   ],
   "source": [
    "y_prueba"
   ]
  },
  {
   "cell_type": "code",
   "execution_count": 92,
   "metadata": {
    "ExecuteTime": {
     "end_time": "2024-05-15T00:06:17.896759Z",
     "start_time": "2024-05-15T00:06:17.890617Z"
    }
   },
   "outputs": [
    {
     "data": {
      "text/plain": [
       "Code                                                                                                         0\n",
       "Year                                                                                                         0\n",
       "Schizophrenia (%)                                                                                            0\n",
       "Bipolar disorder (%)                                                                                         0\n",
       "Eating disorders (%)                                                                                         0\n",
       "Anxiety disorders (%)                                                                                        0\n",
       "Drug use disorders (%)                                                                                       0\n",
       "Depression (%)                                                                                               0\n",
       "Alcohol use disorders (%)                                                                                    0\n",
       "Prevalence in males (%)                                                                                      0\n",
       "Prevalence in females (%)                                                                                    0\n",
       "Population_x                                                                                                 0\n",
       "Suicide rate (deaths per 100,000 individuals)                                                                0\n",
       "Population_y                                                                                                 0\n",
       "Prevalence - Depressive disorders - Sex: Both - Age: All Ages (Number) (people suffering from depression)    0\n",
       "20-24 years old (%)                                                                                          0\n",
       "10-14 years old (%)                                                                                          0\n",
       "All ages (%)                                                                                                 0\n",
       "70+ years old (%)                                                                                            0\n",
       "30-34 years old (%)                                                                                          0\n",
       "15-19 years old (%)                                                                                          0\n",
       "25-29 years old (%)                                                                                          0\n",
       "50-69 years old (%)                                                                                          0\n",
       "Age-standardized (%)                                                                                         0\n",
       "15-49 years old (%)                                                                                          0\n",
       "dtype: int64"
      ]
     },
     "execution_count": 92,
     "metadata": {},
     "output_type": "execute_result"
    }
   ],
   "source": [
    "X_entreno.isna().sum()\n"
   ]
  },
  {
   "cell_type": "markdown",
   "metadata": {},
   "source": [
    "### SVC"
   ]
  },
  {
   "cell_type": "code",
   "execution_count": 93,
   "metadata": {
    "ExecuteTime": {
     "end_time": "2024-05-15T00:06:18.168486Z",
     "start_time": "2024-05-15T00:06:17.897277Z"
    }
   },
   "outputs": [
    {
     "data": {
      "text/html": [
       "<style>#sk-container-id-4 {color: black;}#sk-container-id-4 pre{padding: 0;}#sk-container-id-4 div.sk-toggleable {background-color: white;}#sk-container-id-4 label.sk-toggleable__label {cursor: pointer;display: block;width: 100%;margin-bottom: 0;padding: 0.3em;box-sizing: border-box;text-align: center;}#sk-container-id-4 label.sk-toggleable__label-arrow:before {content: \"▸\";float: left;margin-right: 0.25em;color: #696969;}#sk-container-id-4 label.sk-toggleable__label-arrow:hover:before {color: black;}#sk-container-id-4 div.sk-estimator:hover label.sk-toggleable__label-arrow:before {color: black;}#sk-container-id-4 div.sk-toggleable__content {max-height: 0;max-width: 0;overflow: hidden;text-align: left;background-color: #f0f8ff;}#sk-container-id-4 div.sk-toggleable__content pre {margin: 0.2em;color: black;border-radius: 0.25em;background-color: #f0f8ff;}#sk-container-id-4 input.sk-toggleable__control:checked~div.sk-toggleable__content {max-height: 200px;max-width: 100%;overflow: auto;}#sk-container-id-4 input.sk-toggleable__control:checked~label.sk-toggleable__label-arrow:before {content: \"▾\";}#sk-container-id-4 div.sk-estimator input.sk-toggleable__control:checked~label.sk-toggleable__label {background-color: #d4ebff;}#sk-container-id-4 div.sk-label input.sk-toggleable__control:checked~label.sk-toggleable__label {background-color: #d4ebff;}#sk-container-id-4 input.sk-hidden--visually {border: 0;clip: rect(1px 1px 1px 1px);clip: rect(1px, 1px, 1px, 1px);height: 1px;margin: -1px;overflow: hidden;padding: 0;position: absolute;width: 1px;}#sk-container-id-4 div.sk-estimator {font-family: monospace;background-color: #f0f8ff;border: 1px dotted black;border-radius: 0.25em;box-sizing: border-box;margin-bottom: 0.5em;}#sk-container-id-4 div.sk-estimator:hover {background-color: #d4ebff;}#sk-container-id-4 div.sk-parallel-item::after {content: \"\";width: 100%;border-bottom: 1px solid gray;flex-grow: 1;}#sk-container-id-4 div.sk-label:hover label.sk-toggleable__label {background-color: #d4ebff;}#sk-container-id-4 div.sk-serial::before {content: \"\";position: absolute;border-left: 1px solid gray;box-sizing: border-box;top: 0;bottom: 0;left: 50%;z-index: 0;}#sk-container-id-4 div.sk-serial {display: flex;flex-direction: column;align-items: center;background-color: white;padding-right: 0.2em;padding-left: 0.2em;position: relative;}#sk-container-id-4 div.sk-item {position: relative;z-index: 1;}#sk-container-id-4 div.sk-parallel {display: flex;align-items: stretch;justify-content: center;background-color: white;position: relative;}#sk-container-id-4 div.sk-item::before, #sk-container-id-4 div.sk-parallel-item::before {content: \"\";position: absolute;border-left: 1px solid gray;box-sizing: border-box;top: 0;bottom: 0;left: 50%;z-index: -1;}#sk-container-id-4 div.sk-parallel-item {display: flex;flex-direction: column;z-index: 1;position: relative;background-color: white;}#sk-container-id-4 div.sk-parallel-item:first-child::after {align-self: flex-end;width: 50%;}#sk-container-id-4 div.sk-parallel-item:last-child::after {align-self: flex-start;width: 50%;}#sk-container-id-4 div.sk-parallel-item:only-child::after {width: 0;}#sk-container-id-4 div.sk-dashed-wrapped {border: 1px dashed gray;margin: 0 0.4em 0.5em 0.4em;box-sizing: border-box;padding-bottom: 0.4em;background-color: white;}#sk-container-id-4 div.sk-label label {font-family: monospace;font-weight: bold;display: inline-block;line-height: 1.2em;}#sk-container-id-4 div.sk-label-container {text-align: center;}#sk-container-id-4 div.sk-container {/* jupyter's `normalize.less` sets `[hidden] { display: none; }` but bootstrap.min.css set `[hidden] { display: none !important; }` so we also need the `!important` here to be able to override the default hidden behavior on the sphinx rendered scikit-learn.org. See: https://github.com/scikit-learn/scikit-learn/issues/21755 */display: inline-block !important;position: relative;}#sk-container-id-4 div.sk-text-repr-fallback {display: none;}</style><div id=\"sk-container-id-4\" class=\"sk-top-container\"><div class=\"sk-text-repr-fallback\"><pre>SVC(kernel=&#x27;linear&#x27;, random_state=0)</pre><b>In a Jupyter environment, please rerun this cell to show the HTML representation or trust the notebook. <br />On GitHub, the HTML representation is unable to render, please try loading this page with nbviewer.org.</b></div><div class=\"sk-container\" hidden><div class=\"sk-item\"><div class=\"sk-estimator sk-toggleable\"><input class=\"sk-toggleable__control sk-hidden--visually\" id=\"sk-estimator-id-4\" type=\"checkbox\" checked><label for=\"sk-estimator-id-4\" class=\"sk-toggleable__label sk-toggleable__label-arrow\">SVC</label><div class=\"sk-toggleable__content\"><pre>SVC(kernel=&#x27;linear&#x27;, random_state=0)</pre></div></div></div></div></div>"
      ],
      "text/plain": [
       "SVC(kernel='linear', random_state=0)"
      ]
     },
     "execution_count": 93,
     "metadata": {},
     "output_type": "execute_result"
    }
   ],
   "source": [
    "from sklearn.svm import SVC\n",
    "clasificador = SVC(kernel = 'linear', random_state = 0)\n",
    "clasificador.fit(X_entreno, y_entreno)"
   ]
  },
  {
   "cell_type": "code",
   "execution_count": 94,
   "metadata": {
    "ExecuteTime": {
     "end_time": "2024-05-15T00:06:18.184074Z",
     "start_time": "2024-05-15T00:06:18.169520Z"
    }
   },
   "outputs": [],
   "source": [
    "y_pred = clasificador.predict(X_prueba)"
   ]
  },
  {
   "cell_type": "code",
   "execution_count": 95,
   "metadata": {
    "ExecuteTime": {
     "end_time": "2024-05-15T00:06:18.189539Z",
     "start_time": "2024-05-15T00:06:18.184074Z"
    }
   },
   "outputs": [
    {
     "name": "stdout",
     "output_type": "stream",
     "text": [
      "[[0 0]\n",
      " [1 1]\n",
      " [1 1]\n",
      " ...\n",
      " [1 1]\n",
      " [1 1]\n",
      " [0 0]]\n"
     ]
    }
   ],
   "source": [
    "print(np.concatenate((y_pred.reshape(len(y_pred),1), y_prueba.values.reshape(len(y_prueba),1)),1))"
   ]
  },
  {
   "cell_type": "markdown",
   "metadata": {},
   "source": [
    "#### Matriz de Confusión"
   ]
  },
  {
   "cell_type": "code",
   "execution_count": 96,
   "metadata": {
    "ExecuteTime": {
     "end_time": "2024-05-15T00:06:18.198392Z",
     "start_time": "2024-05-15T00:06:18.190403Z"
    }
   },
   "outputs": [
    {
     "name": "stdout",
     "output_type": "stream",
     "text": [
      "[[352   4   0]\n",
      " [  6 893   2]\n",
      " [  0   4 327]]\n"
     ]
    },
    {
     "data": {
      "text/plain": [
       "0.9899244332493703"
      ]
     },
     "execution_count": 96,
     "metadata": {},
     "output_type": "execute_result"
    }
   ],
   "source": [
    "from sklearn.metrics import confusion_matrix, accuracy_score\n",
    "mat_conf = confusion_matrix(y_prueba, y_pred)\n",
    "print(mat_conf)\n",
    "accuracy_score(y_prueba, y_pred)"
   ]
  },
  {
   "cell_type": "code",
   "execution_count": 97,
   "metadata": {},
   "outputs": [
    {
     "name": "stdout",
     "output_type": "stream",
     "text": [
      "              precision    recall  f1-score   support\n",
      "\n",
      "           0       0.98      0.99      0.99       356\n",
      "           1       0.99      0.99      0.99       901\n",
      "           2       0.99      0.99      0.99       331\n",
      "\n",
      "    accuracy                           0.99      1588\n",
      "   macro avg       0.99      0.99      0.99      1588\n",
      "weighted avg       0.99      0.99      0.99      1588\n",
      "\n"
     ]
    }
   ],
   "source": [
    "from sklearn.metrics import classification_report\n",
    "\n",
    "print(classification_report(y_prueba, y_pred))"
   ]
  },
  {
   "cell_type": "markdown",
   "metadata": {},
   "source": [
    "# Predicción de Datos\n",
    "\n",
    "Para realizar las predicciones de demostración, los datos se separaron los datos del año 2017 del entrenamiento, para demostrar que el modelo puede predecir correctamente datos a futuro. "
   ]
  },
  {
   "cell_type": "code",
   "execution_count": 98,
   "metadata": {
    "ExecuteTime": {
     "end_time": "2024-05-15T00:09:45.681622Z",
     "start_time": "2024-05-15T00:09:45.669195Z"
    }
   },
   "outputs": [
    {
     "data": {
      "text/html": [
       "<div>\n",
       "<style scoped>\n",
       "    .dataframe tbody tr th:only-of-type {\n",
       "        vertical-align: middle;\n",
       "    }\n",
       "\n",
       "    .dataframe tbody tr th {\n",
       "        vertical-align: top;\n",
       "    }\n",
       "\n",
       "    .dataframe thead th {\n",
       "        text-align: right;\n",
       "    }\n",
       "</style>\n",
       "<table border=\"1\" class=\"dataframe\">\n",
       "  <thead>\n",
       "    <tr style=\"text-align: right;\">\n",
       "      <th></th>\n",
       "      <th>Entity</th>\n",
       "      <th>Code</th>\n",
       "      <th>Year</th>\n",
       "      <th>Schizophrenia (%)</th>\n",
       "      <th>Bipolar disorder (%)</th>\n",
       "      <th>Eating disorders (%)</th>\n",
       "      <th>Anxiety disorders (%)</th>\n",
       "      <th>Drug use disorders (%)</th>\n",
       "      <th>Depression (%)</th>\n",
       "      <th>Alcohol use disorders (%)</th>\n",
       "      <th>...</th>\n",
       "      <th>20-24 years old (%)</th>\n",
       "      <th>10-14 years old (%)</th>\n",
       "      <th>All ages (%)</th>\n",
       "      <th>70+ years old (%)</th>\n",
       "      <th>30-34 years old (%)</th>\n",
       "      <th>15-19 years old (%)</th>\n",
       "      <th>25-29 years old (%)</th>\n",
       "      <th>50-69 years old (%)</th>\n",
       "      <th>Age-standardized (%)</th>\n",
       "      <th>15-49 years old (%)</th>\n",
       "    </tr>\n",
       "  </thead>\n",
       "  <tbody>\n",
       "    <tr>\n",
       "      <th>0</th>\n",
       "      <td>Afghanistan</td>\n",
       "      <td>AFG</td>\n",
       "      <td>2017</td>\n",
       "      <td>0.166158</td>\n",
       "      <td>0.708089</td>\n",
       "      <td>0.107142</td>\n",
       "      <td>4.882481</td>\n",
       "      <td>2.473934</td>\n",
       "      <td>4.136347</td>\n",
       "      <td>0.661217</td>\n",
       "      <td>...</td>\n",
       "      <td>4.386172</td>\n",
       "      <td>1.618270</td>\n",
       "      <td>3.050785</td>\n",
       "      <td>5.279772</td>\n",
       "      <td>5.749905</td>\n",
       "      <td>3.433750</td>\n",
       "      <td>5.105028</td>\n",
       "      <td>6.131183</td>\n",
       "      <td>4.136347</td>\n",
       "      <td>5.010372</td>\n",
       "    </tr>\n",
       "    <tr>\n",
       "      <th>1</th>\n",
       "      <td>Albania</td>\n",
       "      <td>ALB</td>\n",
       "      <td>2017</td>\n",
       "      <td>0.201025</td>\n",
       "      <td>0.704480</td>\n",
       "      <td>0.174046</td>\n",
       "      <td>3.385245</td>\n",
       "      <td>0.517614</td>\n",
       "      <td>2.208414</td>\n",
       "      <td>1.837955</td>\n",
       "      <td>...</td>\n",
       "      <td>2.437424</td>\n",
       "      <td>0.900396</td>\n",
       "      <td>2.607896</td>\n",
       "      <td>4.399558</td>\n",
       "      <td>2.401418</td>\n",
       "      <td>2.004014</td>\n",
       "      <td>2.398396</td>\n",
       "      <td>3.664052</td>\n",
       "      <td>2.208414</td>\n",
       "      <td>2.487747</td>\n",
       "    </tr>\n",
       "    <tr>\n",
       "      <th>2</th>\n",
       "      <td>Algeria</td>\n",
       "      <td>DZA</td>\n",
       "      <td>2017</td>\n",
       "      <td>0.197913</td>\n",
       "      <td>0.818687</td>\n",
       "      <td>0.213612</td>\n",
       "      <td>5.065876</td>\n",
       "      <td>1.717218</td>\n",
       "      <td>3.661094</td>\n",
       "      <td>0.665191</td>\n",
       "      <td>...</td>\n",
       "      <td>3.854475</td>\n",
       "      <td>1.757578</td>\n",
       "      <td>3.691020</td>\n",
       "      <td>4.848270</td>\n",
       "      <td>4.630534</td>\n",
       "      <td>3.404122</td>\n",
       "      <td>4.256386</td>\n",
       "      <td>5.402483</td>\n",
       "      <td>3.661094</td>\n",
       "      <td>4.522808</td>\n",
       "    </tr>\n",
       "    <tr>\n",
       "      <th>3</th>\n",
       "      <td>American Samoa</td>\n",
       "      <td>ASM</td>\n",
       "      <td>2017</td>\n",
       "      <td>0.248557</td>\n",
       "      <td>0.468305</td>\n",
       "      <td>0.177808</td>\n",
       "      <td>3.315834</td>\n",
       "      <td>0.772801</td>\n",
       "      <td>2.939668</td>\n",
       "      <td>1.142277</td>\n",
       "      <td>...</td>\n",
       "      <td>2.885708</td>\n",
       "      <td>1.063623</td>\n",
       "      <td>2.787788</td>\n",
       "      <td>5.746022</td>\n",
       "      <td>2.971754</td>\n",
       "      <td>2.438167</td>\n",
       "      <td>2.862544</td>\n",
       "      <td>5.451378</td>\n",
       "      <td>2.939668</td>\n",
       "      <td>3.115501</td>\n",
       "    </tr>\n",
       "    <tr>\n",
       "      <th>4</th>\n",
       "      <td>Andorra</td>\n",
       "      <td>AND</td>\n",
       "      <td>2017</td>\n",
       "      <td>0.263512</td>\n",
       "      <td>0.963331</td>\n",
       "      <td>0.644559</td>\n",
       "      <td>5.305375</td>\n",
       "      <td>0.910066</td>\n",
       "      <td>3.729532</td>\n",
       "      <td>1.256050</td>\n",
       "      <td>...</td>\n",
       "      <td>4.289082</td>\n",
       "      <td>1.823388</td>\n",
       "      <td>4.372485</td>\n",
       "      <td>4.827994</td>\n",
       "      <td>4.862243</td>\n",
       "      <td>3.507257</td>\n",
       "      <td>4.627740</td>\n",
       "      <td>4.882617</td>\n",
       "      <td>3.729532</td>\n",
       "      <td>4.805177</td>\n",
       "    </tr>\n",
       "  </tbody>\n",
       "</table>\n",
       "<p>5 rows × 27 columns</p>\n",
       "</div>"
      ],
      "text/plain": [
       "           Entity Code  Year  Schizophrenia (%)  Bipolar disorder (%)  \\\n",
       "0     Afghanistan  AFG  2017           0.166158              0.708089   \n",
       "1         Albania  ALB  2017           0.201025              0.704480   \n",
       "2         Algeria  DZA  2017           0.197913              0.818687   \n",
       "3  American Samoa  ASM  2017           0.248557              0.468305   \n",
       "4         Andorra  AND  2017           0.263512              0.963331   \n",
       "\n",
       "   Eating disorders (%)  Anxiety disorders (%)  Drug use disorders (%)  \\\n",
       "0              0.107142               4.882481                2.473934   \n",
       "1              0.174046               3.385245                0.517614   \n",
       "2              0.213612               5.065876                1.717218   \n",
       "3              0.177808               3.315834                0.772801   \n",
       "4              0.644559               5.305375                0.910066   \n",
       "\n",
       "   Depression (%)  Alcohol use disorders (%)  ...  20-24 years old (%)  \\\n",
       "0        4.136347                   0.661217  ...             4.386172   \n",
       "1        2.208414                   1.837955  ...             2.437424   \n",
       "2        3.661094                   0.665191  ...             3.854475   \n",
       "3        2.939668                   1.142277  ...             2.885708   \n",
       "4        3.729532                   1.256050  ...             4.289082   \n",
       "\n",
       "   10-14 years old (%)  All ages (%)  70+ years old (%)  30-34 years old (%)  \\\n",
       "0             1.618270      3.050785           5.279772             5.749905   \n",
       "1             0.900396      2.607896           4.399558             2.401418   \n",
       "2             1.757578      3.691020           4.848270             4.630534   \n",
       "3             1.063623      2.787788           5.746022             2.971754   \n",
       "4             1.823388      4.372485           4.827994             4.862243   \n",
       "\n",
       "   15-19 years old (%)  25-29 years old (%)  50-69 years old (%)  \\\n",
       "0             3.433750             5.105028             6.131183   \n",
       "1             2.004014             2.398396             3.664052   \n",
       "2             3.404122             4.256386             5.402483   \n",
       "3             2.438167             2.862544             5.451378   \n",
       "4             3.507257             4.627740             4.882617   \n",
       "\n",
       "   Age-standardized (%)  15-49 years old (%)  \n",
       "0              4.136347             5.010372  \n",
       "1              2.208414             2.487747  \n",
       "2              3.661094             4.522808  \n",
       "3              2.939668             3.115501  \n",
       "4              3.729532             4.805177  \n",
       "\n",
       "[5 rows x 27 columns]"
      ]
     },
     "execution_count": 98,
     "metadata": {},
     "output_type": "execute_result"
    }
   ],
   "source": [
    "datos_validation = pd.read_csv('data_validation.csv', sep=',', encoding='utf-8', index_col=0)\n",
    "datos_validation.reset_index(drop=True, inplace=True)\n",
    "datos_validation.head()"
   ]
  },
  {
   "cell_type": "code",
   "execution_count": 99,
   "metadata": {
    "ExecuteTime": {
     "end_time": "2024-05-15T00:09:45.977648Z",
     "start_time": "2024-05-15T00:09:45.973464Z"
    }
   },
   "outputs": [],
   "source": [
    "datos_validation['Depression_binary'] = np.where(datos_validation['Depressive disorder rates (number suffering per 100,000)'] > alto, 2 , np.where(datos_validation['Depressive disorder rates (number suffering per 100,000)'] > bajo, 1, 0))"
   ]
  },
  {
   "cell_type": "code",
   "execution_count": 100,
   "metadata": {
    "ExecuteTime": {
     "end_time": "2024-05-15T00:09:46.485923Z",
     "start_time": "2024-05-15T00:09:46.470935Z"
    }
   },
   "outputs": [
    {
     "data": {
      "text/html": [
       "<div>\n",
       "<style scoped>\n",
       "    .dataframe tbody tr th:only-of-type {\n",
       "        vertical-align: middle;\n",
       "    }\n",
       "\n",
       "    .dataframe tbody tr th {\n",
       "        vertical-align: top;\n",
       "    }\n",
       "\n",
       "    .dataframe thead th {\n",
       "        text-align: right;\n",
       "    }\n",
       "</style>\n",
       "<table border=\"1\" class=\"dataframe\">\n",
       "  <thead>\n",
       "    <tr style=\"text-align: right;\">\n",
       "      <th></th>\n",
       "      <th>Code</th>\n",
       "      <th>Year</th>\n",
       "      <th>Schizophrenia (%)</th>\n",
       "      <th>Bipolar disorder (%)</th>\n",
       "      <th>Eating disorders (%)</th>\n",
       "      <th>Anxiety disorders (%)</th>\n",
       "      <th>Drug use disorders (%)</th>\n",
       "      <th>Depression (%)</th>\n",
       "      <th>Alcohol use disorders (%)</th>\n",
       "      <th>Prevalence in males (%)</th>\n",
       "      <th>...</th>\n",
       "      <th>10-14 years old (%)</th>\n",
       "      <th>All ages (%)</th>\n",
       "      <th>70+ years old (%)</th>\n",
       "      <th>30-34 years old (%)</th>\n",
       "      <th>15-19 years old (%)</th>\n",
       "      <th>25-29 years old (%)</th>\n",
       "      <th>50-69 years old (%)</th>\n",
       "      <th>Age-standardized (%)</th>\n",
       "      <th>15-49 years old (%)</th>\n",
       "      <th>Depression_binary</th>\n",
       "    </tr>\n",
       "  </thead>\n",
       "  <tbody>\n",
       "    <tr>\n",
       "      <th>0</th>\n",
       "      <td>0</td>\n",
       "      <td>1.797434</td>\n",
       "      <td>-0.997548</td>\n",
       "      <td>-0.052726</td>\n",
       "      <td>-0.819924</td>\n",
       "      <td>0.824737</td>\n",
       "      <td>3.738813</td>\n",
       "      <td>0.981862</td>\n",
       "      <td>-1.043945</td>\n",
       "      <td>1.411252</td>\n",
       "      <td>...</td>\n",
       "      <td>0.628827</td>\n",
       "      <td>-0.203234</td>\n",
       "      <td>-0.567144</td>\n",
       "      <td>1.643950</td>\n",
       "      <td>0.448210</td>\n",
       "      <td>1.193671</td>\n",
       "      <td>0.456093</td>\n",
       "      <td>0.981862</td>\n",
       "      <td>1.059491</td>\n",
       "      <td>2</td>\n",
       "    </tr>\n",
       "    <tr>\n",
       "      <th>1</th>\n",
       "      <td>2</td>\n",
       "      <td>1.797434</td>\n",
       "      <td>-0.167698</td>\n",
       "      <td>-0.074700</td>\n",
       "      <td>-0.384784</td>\n",
       "      <td>-0.494396</td>\n",
       "      <td>-0.715532</td>\n",
       "      <td>-1.884249</td>\n",
       "      <td>0.319649</td>\n",
       "      <td>-2.077225</td>\n",
       "      <td>...</td>\n",
       "      <td>-1.186945</td>\n",
       "      <td>-0.715391</td>\n",
       "      <td>-1.149415</td>\n",
       "      <td>-1.577321</td>\n",
       "      <td>-1.239377</td>\n",
       "      <td>-1.432602</td>\n",
       "      <td>-1.903552</td>\n",
       "      <td>-1.884249</td>\n",
       "      <td>-1.531238</td>\n",
       "      <td>0</td>\n",
       "    </tr>\n",
       "    <tr>\n",
       "      <th>2</th>\n",
       "      <td>51</td>\n",
       "      <td>1.797434</td>\n",
       "      <td>-0.241771</td>\n",
       "      <td>0.620656</td>\n",
       "      <td>-0.127448</td>\n",
       "      <td>0.986315</td>\n",
       "      <td>2.015847</td>\n",
       "      <td>0.275340</td>\n",
       "      <td>-1.039340</td>\n",
       "      <td>0.315825</td>\n",
       "      <td>...</td>\n",
       "      <td>0.981187</td>\n",
       "      <td>0.537133</td>\n",
       "      <td>-0.852587</td>\n",
       "      <td>0.567106</td>\n",
       "      <td>0.413239</td>\n",
       "      <td>0.370225</td>\n",
       "      <td>-0.240859</td>\n",
       "      <td>0.275340</td>\n",
       "      <td>0.558764</td>\n",
       "      <td>1</td>\n",
       "    </tr>\n",
       "    <tr>\n",
       "      <th>3</th>\n",
       "      <td>7</td>\n",
       "      <td>1.797434</td>\n",
       "      <td>0.963546</td>\n",
       "      <td>-1.512658</td>\n",
       "      <td>-0.360320</td>\n",
       "      <td>-0.555550</td>\n",
       "      <td>-0.134496</td>\n",
       "      <td>-0.797150</td>\n",
       "      <td>-0.486497</td>\n",
       "      <td>-0.622661</td>\n",
       "      <td>...</td>\n",
       "      <td>-0.774082</td>\n",
       "      <td>-0.507364</td>\n",
       "      <td>-0.258714</td>\n",
       "      <td>-1.028653</td>\n",
       "      <td>-0.726924</td>\n",
       "      <td>-0.982234</td>\n",
       "      <td>-0.194094</td>\n",
       "      <td>-0.797150</td>\n",
       "      <td>-0.886536</td>\n",
       "      <td>1</td>\n",
       "    </tr>\n",
       "    <tr>\n",
       "      <th>4</th>\n",
       "      <td>3</td>\n",
       "      <td>1.797434</td>\n",
       "      <td>1.319494</td>\n",
       "      <td>1.501326</td>\n",
       "      <td>2.675411</td>\n",
       "      <td>1.197325</td>\n",
       "      <td>0.178042</td>\n",
       "      <td>0.377080</td>\n",
       "      <td>-0.354657</td>\n",
       "      <td>-0.024890</td>\n",
       "      <td>...</td>\n",
       "      <td>1.147644</td>\n",
       "      <td>1.325177</td>\n",
       "      <td>-0.866000</td>\n",
       "      <td>0.790012</td>\n",
       "      <td>0.534974</td>\n",
       "      <td>0.730554</td>\n",
       "      <td>-0.738076</td>\n",
       "      <td>0.377080</td>\n",
       "      <td>0.848757</td>\n",
       "      <td>1</td>\n",
       "    </tr>\n",
       "  </tbody>\n",
       "</table>\n",
       "<p>5 rows × 27 columns</p>\n",
       "</div>"
      ],
      "text/plain": [
       "   Code      Year  Schizophrenia (%)  Bipolar disorder (%)  \\\n",
       "0     0  1.797434          -0.997548             -0.052726   \n",
       "1     2  1.797434          -0.167698             -0.074700   \n",
       "2    51  1.797434          -0.241771              0.620656   \n",
       "3     7  1.797434           0.963546             -1.512658   \n",
       "4     3  1.797434           1.319494              1.501326   \n",
       "\n",
       "   Eating disorders (%)  Anxiety disorders (%)  Drug use disorders (%)  \\\n",
       "0             -0.819924               0.824737                3.738813   \n",
       "1             -0.384784              -0.494396               -0.715532   \n",
       "2             -0.127448               0.986315                2.015847   \n",
       "3             -0.360320              -0.555550               -0.134496   \n",
       "4              2.675411               1.197325                0.178042   \n",
       "\n",
       "   Depression (%)  Alcohol use disorders (%)  Prevalence in males (%)  ...  \\\n",
       "0        0.981862                  -1.043945                 1.411252  ...   \n",
       "1       -1.884249                   0.319649                -2.077225  ...   \n",
       "2        0.275340                  -1.039340                 0.315825  ...   \n",
       "3       -0.797150                  -0.486497                -0.622661  ...   \n",
       "4        0.377080                  -0.354657                -0.024890  ...   \n",
       "\n",
       "   10-14 years old (%)  All ages (%)  70+ years old (%)  30-34 years old (%)  \\\n",
       "0             0.628827     -0.203234          -0.567144             1.643950   \n",
       "1            -1.186945     -0.715391          -1.149415            -1.577321   \n",
       "2             0.981187      0.537133          -0.852587             0.567106   \n",
       "3            -0.774082     -0.507364          -0.258714            -1.028653   \n",
       "4             1.147644      1.325177          -0.866000             0.790012   \n",
       "\n",
       "   15-19 years old (%)  25-29 years old (%)  50-69 years old (%)  \\\n",
       "0             0.448210             1.193671             0.456093   \n",
       "1            -1.239377            -1.432602            -1.903552   \n",
       "2             0.413239             0.370225            -0.240859   \n",
       "3            -0.726924            -0.982234            -0.194094   \n",
       "4             0.534974             0.730554            -0.738076   \n",
       "\n",
       "   Age-standardized (%)  15-49 years old (%)  Depression_binary  \n",
       "0              0.981862             1.059491                  2  \n",
       "1             -1.884249            -1.531238                  0  \n",
       "2              0.275340             0.558764                  1  \n",
       "3             -0.797150            -0.886536                  1  \n",
       "4              0.377080             0.848757                  1  \n",
       "\n",
       "[5 rows x 27 columns]"
      ]
     },
     "execution_count": 100,
     "metadata": {},
     "output_type": "execute_result"
    }
   ],
   "source": [
    "datos_validation_scaled = datos_validation.copy()\n",
    "datos_validation_scaled.drop(columns=['Entity'], inplace=True)\n",
    "\n",
    "columnas_a_escalar = datos_validation_scaled.columns.difference(['Code', 'Depression_binary'])\n",
    "\n",
    "datos_validation_scaled[columnas_a_escalar] = scaler.transform(datos_validation_scaled[columnas_a_escalar])\n",
    "\n",
    "for column in qualitative_columns:\n",
    "    datos_validation_scaled[column] = label_encoder.transform(datos_validation_scaled[column])\n",
    "    \n",
    "datos_validation_scaled.head()"
   ]
  },
  {
   "cell_type": "code",
   "execution_count": 101,
   "metadata": {
    "ExecuteTime": {
     "end_time": "2024-05-15T00:10:06.650528Z",
     "start_time": "2024-05-15T00:10:06.645172Z"
    }
   },
   "outputs": [],
   "source": [
    "X_validation = datos_validation_scaled.drop(columns=[\"Depression_binary\", \"Depressive disorder rates (number suffering per 100,000)\"])\n",
    "y_validation = datos_validation_scaled[\"Depression_binary\"]"
   ]
  },
  {
   "cell_type": "code",
   "execution_count": 102,
   "metadata": {
    "ExecuteTime": {
     "end_time": "2024-05-15T00:10:06.907303Z",
     "start_time": "2024-05-15T00:10:06.901153Z"
    }
   },
   "outputs": [],
   "source": [
    "y_pred_validation = clasificador.predict(X_validation)\n"
   ]
  },
  {
   "cell_type": "code",
   "execution_count": 103,
   "metadata": {
    "ExecuteTime": {
     "end_time": "2024-05-15T00:10:07.237873Z",
     "start_time": "2024-05-15T00:10:07.232842Z"
    }
   },
   "outputs": [
    {
     "name": "stdout",
     "output_type": "stream",
     "text": [
      "[[ 47   0   0]\n",
      " [  0 115   0]\n",
      " [  0   1  33]]\n"
     ]
    }
   ],
   "source": [
    "mat_conf_validation = confusion_matrix(y_validation, y_pred_validation)\n",
    "print(mat_conf_validation)"
   ]
  },
  {
   "cell_type": "code",
   "execution_count": 104,
   "metadata": {
    "ExecuteTime": {
     "end_time": "2024-05-15T00:10:07.578691Z",
     "start_time": "2024-05-15T00:10:07.573628Z"
    }
   },
   "outputs": [
    {
     "data": {
      "text/plain": [
       "0.9948979591836735"
      ]
     },
     "execution_count": 104,
     "metadata": {},
     "output_type": "execute_result"
    }
   ],
   "source": [
    "accuracy_score(y_validation, y_pred_validation)"
   ]
  },
  {
   "cell_type": "code",
   "execution_count": 105,
   "metadata": {
    "ExecuteTime": {
     "end_time": "2024-05-15T00:10:07.968706Z",
     "start_time": "2024-05-15T00:10:07.960204Z"
    }
   },
   "outputs": [
    {
     "name": "stdout",
     "output_type": "stream",
     "text": [
      "              precision    recall  f1-score   support\n",
      "\n",
      "           0       1.00      1.00      1.00        47\n",
      "           1       0.99      1.00      1.00       115\n",
      "           2       1.00      0.97      0.99        34\n",
      "\n",
      "    accuracy                           0.99       196\n",
      "   macro avg       1.00      0.99      0.99       196\n",
      "weighted avg       0.99      0.99      0.99       196\n",
      "\n"
     ]
    }
   ],
   "source": [
    "from sklearn.metrics import classification_report\n",
    "\n",
    "print(classification_report(y_validation, y_pred_validation))"
   ]
  }
 ],
 "metadata": {
  "kernelspec": {
   "display_name": "Python 3",
   "language": "python",
   "name": "python3"
  },
  "language_info": {
   "codemirror_mode": {
    "name": "ipython",
    "version": 3
   },
   "file_extension": ".py",
   "mimetype": "text/x-python",
   "name": "python",
   "nbconvert_exporter": "python",
   "pygments_lexer": "ipython3",
   "version": "3.11.4"
  }
 },
 "nbformat": 4,
 "nbformat_minor": 2
}
