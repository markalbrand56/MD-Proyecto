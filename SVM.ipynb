{
 "cells": [
  {
   "cell_type": "code",
   "execution_count": 426,
   "metadata": {},
   "outputs": [],
   "source": [
    "import numpy as np\n",
    "import matplotlib.pyplot as plt\n",
    "import pandas as pd\n",
    "import seaborn as sns\n",
    "\n",
    "# ignore all FutureWarnings\n",
    "import warnings\n",
    "warnings.simplefilter(action='ignore', category=FutureWarning)"
   ]
  },
  {
   "cell_type": "code",
   "execution_count": 427,
   "metadata": {},
   "outputs": [
    {
     "data": {
      "text/html": [
       "<div>\n",
       "<style scoped>\n",
       "    .dataframe tbody tr th:only-of-type {\n",
       "        vertical-align: middle;\n",
       "    }\n",
       "\n",
       "    .dataframe tbody tr th {\n",
       "        vertical-align: top;\n",
       "    }\n",
       "\n",
       "    .dataframe thead th {\n",
       "        text-align: right;\n",
       "    }\n",
       "</style>\n",
       "<table border=\"1\" class=\"dataframe\">\n",
       "  <thead>\n",
       "    <tr style=\"text-align: right;\">\n",
       "      <th></th>\n",
       "      <th>Entity</th>\n",
       "      <th>Code</th>\n",
       "      <th>Year</th>\n",
       "      <th>Schizophrenia (%)</th>\n",
       "      <th>Bipolar disorder (%)</th>\n",
       "      <th>Eating disorders (%)</th>\n",
       "      <th>Anxiety disorders (%)</th>\n",
       "      <th>Drug use disorders (%)</th>\n",
       "      <th>Depression (%)</th>\n",
       "      <th>Alcohol use disorders (%)</th>\n",
       "      <th>...</th>\n",
       "      <th>20-24 years old (%)</th>\n",
       "      <th>10-14 years old (%)</th>\n",
       "      <th>All ages (%)</th>\n",
       "      <th>70+ years old (%)</th>\n",
       "      <th>30-34 years old (%)</th>\n",
       "      <th>15-19 years old (%)</th>\n",
       "      <th>25-29 years old (%)</th>\n",
       "      <th>50-69 years old (%)</th>\n",
       "      <th>Age-standardized (%)</th>\n",
       "      <th>15-49 years old (%)</th>\n",
       "    </tr>\n",
       "  </thead>\n",
       "  <tbody>\n",
       "    <tr>\n",
       "      <th>0</th>\n",
       "      <td>Afghanistan</td>\n",
       "      <td>AFG</td>\n",
       "      <td>1990</td>\n",
       "      <td>0.160560</td>\n",
       "      <td>0.697779</td>\n",
       "      <td>0.101855</td>\n",
       "      <td>4.828830</td>\n",
       "      <td>1.677082</td>\n",
       "      <td>4.071831</td>\n",
       "      <td>0.672404</td>\n",
       "      <td>...</td>\n",
       "      <td>4.417802</td>\n",
       "      <td>1.594676</td>\n",
       "      <td>3.218871</td>\n",
       "      <td>5.202803</td>\n",
       "      <td>5.799034</td>\n",
       "      <td>3.455708</td>\n",
       "      <td>5.175856</td>\n",
       "      <td>5.917752</td>\n",
       "      <td>4.071831</td>\n",
       "      <td>4.939766</td>\n",
       "    </tr>\n",
       "    <tr>\n",
       "      <th>1</th>\n",
       "      <td>Afghanistan</td>\n",
       "      <td>AFG</td>\n",
       "      <td>1991</td>\n",
       "      <td>0.160312</td>\n",
       "      <td>0.697961</td>\n",
       "      <td>0.099313</td>\n",
       "      <td>4.829740</td>\n",
       "      <td>1.684746</td>\n",
       "      <td>4.079531</td>\n",
       "      <td>0.671768</td>\n",
       "      <td>...</td>\n",
       "      <td>4.433524</td>\n",
       "      <td>1.588356</td>\n",
       "      <td>3.203468</td>\n",
       "      <td>5.192849</td>\n",
       "      <td>5.814828</td>\n",
       "      <td>3.451880</td>\n",
       "      <td>5.176729</td>\n",
       "      <td>5.927093</td>\n",
       "      <td>4.079531</td>\n",
       "      <td>4.902682</td>\n",
       "    </tr>\n",
       "    <tr>\n",
       "      <th>2</th>\n",
       "      <td>Afghanistan</td>\n",
       "      <td>AFG</td>\n",
       "      <td>1992</td>\n",
       "      <td>0.160135</td>\n",
       "      <td>0.698107</td>\n",
       "      <td>0.096692</td>\n",
       "      <td>4.831108</td>\n",
       "      <td>1.694334</td>\n",
       "      <td>4.088358</td>\n",
       "      <td>0.670644</td>\n",
       "      <td>...</td>\n",
       "      <td>4.453689</td>\n",
       "      <td>1.577980</td>\n",
       "      <td>3.156559</td>\n",
       "      <td>5.176872</td>\n",
       "      <td>5.829745</td>\n",
       "      <td>3.434982</td>\n",
       "      <td>5.160249</td>\n",
       "      <td>5.945656</td>\n",
       "      <td>4.088358</td>\n",
       "      <td>4.837097</td>\n",
       "    </tr>\n",
       "    <tr>\n",
       "      <th>3</th>\n",
       "      <td>Afghanistan</td>\n",
       "      <td>AFG</td>\n",
       "      <td>1993</td>\n",
       "      <td>0.160037</td>\n",
       "      <td>0.698257</td>\n",
       "      <td>0.094336</td>\n",
       "      <td>4.830864</td>\n",
       "      <td>1.705320</td>\n",
       "      <td>4.096190</td>\n",
       "      <td>0.669738</td>\n",
       "      <td>...</td>\n",
       "      <td>4.464517</td>\n",
       "      <td>1.577201</td>\n",
       "      <td>3.120655</td>\n",
       "      <td>5.167355</td>\n",
       "      <td>5.853060</td>\n",
       "      <td>3.420210</td>\n",
       "      <td>5.148767</td>\n",
       "      <td>5.966915</td>\n",
       "      <td>4.096190</td>\n",
       "      <td>4.813657</td>\n",
       "    </tr>\n",
       "    <tr>\n",
       "      <th>4</th>\n",
       "      <td>Afghanistan</td>\n",
       "      <td>AFG</td>\n",
       "      <td>1994</td>\n",
       "      <td>0.160022</td>\n",
       "      <td>0.698469</td>\n",
       "      <td>0.092439</td>\n",
       "      <td>4.829423</td>\n",
       "      <td>1.716069</td>\n",
       "      <td>4.099582</td>\n",
       "      <td>0.669260</td>\n",
       "      <td>...</td>\n",
       "      <td>4.462960</td>\n",
       "      <td>1.570846</td>\n",
       "      <td>3.082179</td>\n",
       "      <td>5.157549</td>\n",
       "      <td>5.852851</td>\n",
       "      <td>3.425222</td>\n",
       "      <td>5.148227</td>\n",
       "      <td>5.975907</td>\n",
       "      <td>4.099582</td>\n",
       "      <td>4.839340</td>\n",
       "    </tr>\n",
       "  </tbody>\n",
       "</table>\n",
       "<p>5 rows × 27 columns</p>\n",
       "</div>"
      ],
      "text/plain": [
       "        Entity Code  Year  Schizophrenia (%)  Bipolar disorder (%)  \\\n",
       "0  Afghanistan  AFG  1990           0.160560              0.697779   \n",
       "1  Afghanistan  AFG  1991           0.160312              0.697961   \n",
       "2  Afghanistan  AFG  1992           0.160135              0.698107   \n",
       "3  Afghanistan  AFG  1993           0.160037              0.698257   \n",
       "4  Afghanistan  AFG  1994           0.160022              0.698469   \n",
       "\n",
       "   Eating disorders (%)  Anxiety disorders (%)  Drug use disorders (%)  \\\n",
       "0              0.101855               4.828830                1.677082   \n",
       "1              0.099313               4.829740                1.684746   \n",
       "2              0.096692               4.831108                1.694334   \n",
       "3              0.094336               4.830864                1.705320   \n",
       "4              0.092439               4.829423                1.716069   \n",
       "\n",
       "   Depression (%)  Alcohol use disorders (%)  ...  20-24 years old (%)  \\\n",
       "0        4.071831                   0.672404  ...             4.417802   \n",
       "1        4.079531                   0.671768  ...             4.433524   \n",
       "2        4.088358                   0.670644  ...             4.453689   \n",
       "3        4.096190                   0.669738  ...             4.464517   \n",
       "4        4.099582                   0.669260  ...             4.462960   \n",
       "\n",
       "   10-14 years old (%)  All ages (%)  70+ years old (%)  30-34 years old (%)  \\\n",
       "0             1.594676      3.218871           5.202803             5.799034   \n",
       "1             1.588356      3.203468           5.192849             5.814828   \n",
       "2             1.577980      3.156559           5.176872             5.829745   \n",
       "3             1.577201      3.120655           5.167355             5.853060   \n",
       "4             1.570846      3.082179           5.157549             5.852851   \n",
       "\n",
       "   15-19 years old (%)  25-29 years old (%)  50-69 years old (%)  \\\n",
       "0             3.455708             5.175856             5.917752   \n",
       "1             3.451880             5.176729             5.927093   \n",
       "2             3.434982             5.160249             5.945656   \n",
       "3             3.420210             5.148767             5.966915   \n",
       "4             3.425222             5.148227             5.975907   \n",
       "\n",
       "   Age-standardized (%)  15-49 years old (%)  \n",
       "0              4.071831             4.939766  \n",
       "1              4.079531             4.902682  \n",
       "2              4.088358             4.837097  \n",
       "3              4.096190             4.813657  \n",
       "4              4.099582             4.839340  \n",
       "\n",
       "[5 rows x 27 columns]"
      ]
     },
     "execution_count": 427,
     "metadata": {},
     "output_type": "execute_result"
    }
   ],
   "source": [
    "# indices en la primera columna\n",
    "datos_procesados = pd.read_csv('merged_data.csv', sep=',', encoding='utf-8', index_col=0)\n",
    "datos_procesados.head()"
   ]
  },
  {
   "cell_type": "code",
   "execution_count": 428,
   "metadata": {},
   "outputs": [
    {
     "name": "stdout",
     "output_type": "stream",
     "text": [
      "Media: 3332.6498554717023\n"
     ]
    },
    {
     "data": {
      "text/plain": [
       "Text(0.5, 1.0, 'Depressive disorder rates (number suffering per 100,000)')"
      ]
     },
     "execution_count": 428,
     "metadata": {},
     "output_type": "execute_result"
    },
    {
     "data": {
      "image/png": "[encoded data removed]",
      "text/plain": [
       "<Figure size 1000x600 with 1 Axes>"
      ]
     },
     "metadata": {},
     "output_type": "display_data"
    }
   ],
   "source": [
    "#sacar la media, hacer caja de bigotes de 'Depressive disorder rates (number suffering per 100,000)'\n",
    "\n",
    "mean = datos_procesados['Depressive disorder rates (number suffering per 100,000)'].mean()\n",
    "print (f'Media: {mean}')\n",
    "\n",
    "plt.figure(figsize=(10,6))\n",
    "sns.boxplot(datos_procesados['Depressive disorder rates (number suffering per 100,000)'])\n",
    "plt.title('Depressive disorder rates (number suffering per 100,000)')"
   ]
  },
  {
   "cell_type": "code",
   "execution_count": 429,
   "metadata": {},
   "outputs": [
    {
     "data": {
      "text/html": [
       "<div>\n",
       "<style scoped>\n",
       "    .dataframe tbody tr th:only-of-type {\n",
       "        vertical-align: middle;\n",
       "    }\n",
       "\n",
       "    .dataframe tbody tr th {\n",
       "        vertical-align: top;\n",
       "    }\n",
       "\n",
       "    .dataframe thead th {\n",
       "        text-align: right;\n",
       "    }\n",
       "</style>\n",
       "<table border=\"1\" class=\"dataframe\">\n",
       "  <thead>\n",
       "    <tr style=\"text-align: right;\">\n",
       "      <th></th>\n",
       "      <th>Entity</th>\n",
       "      <th>Code</th>\n",
       "      <th>Year</th>\n",
       "      <th>Schizophrenia (%)</th>\n",
       "      <th>Bipolar disorder (%)</th>\n",
       "      <th>Eating disorders (%)</th>\n",
       "      <th>Anxiety disorders (%)</th>\n",
       "      <th>Drug use disorders (%)</th>\n",
       "      <th>Depression (%)</th>\n",
       "      <th>Alcohol use disorders (%)</th>\n",
       "      <th>...</th>\n",
       "      <th>10-14 years old (%)</th>\n",
       "      <th>All ages (%)</th>\n",
       "      <th>70+ years old (%)</th>\n",
       "      <th>30-34 years old (%)</th>\n",
       "      <th>15-19 years old (%)</th>\n",
       "      <th>25-29 years old (%)</th>\n",
       "      <th>50-69 years old (%)</th>\n",
       "      <th>Age-standardized (%)</th>\n",
       "      <th>15-49 years old (%)</th>\n",
       "      <th>Depression_binary</th>\n",
       "    </tr>\n",
       "  </thead>\n",
       "  <tbody>\n",
       "    <tr>\n",
       "      <th>0</th>\n",
       "      <td>Afghanistan</td>\n",
       "      <td>AFG</td>\n",
       "      <td>1990</td>\n",
       "      <td>0.160560</td>\n",
       "      <td>0.697779</td>\n",
       "      <td>0.101855</td>\n",
       "      <td>4.828830</td>\n",
       "      <td>1.677082</td>\n",
       "      <td>4.071831</td>\n",
       "      <td>0.672404</td>\n",
       "      <td>...</td>\n",
       "      <td>1.594676</td>\n",
       "      <td>3.218871</td>\n",
       "      <td>5.202803</td>\n",
       "      <td>5.799034</td>\n",
       "      <td>3.455708</td>\n",
       "      <td>5.175856</td>\n",
       "      <td>5.917752</td>\n",
       "      <td>4.071831</td>\n",
       "      <td>4.939766</td>\n",
       "      <td>2</td>\n",
       "    </tr>\n",
       "    <tr>\n",
       "      <th>1</th>\n",
       "      <td>Afghanistan</td>\n",
       "      <td>AFG</td>\n",
       "      <td>1991</td>\n",
       "      <td>0.160312</td>\n",
       "      <td>0.697961</td>\n",
       "      <td>0.099313</td>\n",
       "      <td>4.829740</td>\n",
       "      <td>1.684746</td>\n",
       "      <td>4.079531</td>\n",
       "      <td>0.671768</td>\n",
       "      <td>...</td>\n",
       "      <td>1.588356</td>\n",
       "      <td>3.203468</td>\n",
       "      <td>5.192849</td>\n",
       "      <td>5.814828</td>\n",
       "      <td>3.451880</td>\n",
       "      <td>5.176729</td>\n",
       "      <td>5.927093</td>\n",
       "      <td>4.079531</td>\n",
       "      <td>4.902682</td>\n",
       "      <td>2</td>\n",
       "    </tr>\n",
       "    <tr>\n",
       "      <th>2</th>\n",
       "      <td>Afghanistan</td>\n",
       "      <td>AFG</td>\n",
       "      <td>1992</td>\n",
       "      <td>0.160135</td>\n",
       "      <td>0.698107</td>\n",
       "      <td>0.096692</td>\n",
       "      <td>4.831108</td>\n",
       "      <td>1.694334</td>\n",
       "      <td>4.088358</td>\n",
       "      <td>0.670644</td>\n",
       "      <td>...</td>\n",
       "      <td>1.577980</td>\n",
       "      <td>3.156559</td>\n",
       "      <td>5.176872</td>\n",
       "      <td>5.829745</td>\n",
       "      <td>3.434982</td>\n",
       "      <td>5.160249</td>\n",
       "      <td>5.945656</td>\n",
       "      <td>4.088358</td>\n",
       "      <td>4.837097</td>\n",
       "      <td>2</td>\n",
       "    </tr>\n",
       "    <tr>\n",
       "      <th>3</th>\n",
       "      <td>Afghanistan</td>\n",
       "      <td>AFG</td>\n",
       "      <td>1993</td>\n",
       "      <td>0.160037</td>\n",
       "      <td>0.698257</td>\n",
       "      <td>0.094336</td>\n",
       "      <td>4.830864</td>\n",
       "      <td>1.705320</td>\n",
       "      <td>4.096190</td>\n",
       "      <td>0.669738</td>\n",
       "      <td>...</td>\n",
       "      <td>1.577201</td>\n",
       "      <td>3.120655</td>\n",
       "      <td>5.167355</td>\n",
       "      <td>5.853060</td>\n",
       "      <td>3.420210</td>\n",
       "      <td>5.148767</td>\n",
       "      <td>5.966915</td>\n",
       "      <td>4.096190</td>\n",
       "      <td>4.813657</td>\n",
       "      <td>2</td>\n",
       "    </tr>\n",
       "    <tr>\n",
       "      <th>4</th>\n",
       "      <td>Afghanistan</td>\n",
       "      <td>AFG</td>\n",
       "      <td>1994</td>\n",
       "      <td>0.160022</td>\n",
       "      <td>0.698469</td>\n",
       "      <td>0.092439</td>\n",
       "      <td>4.829423</td>\n",
       "      <td>1.716069</td>\n",
       "      <td>4.099582</td>\n",
       "      <td>0.669260</td>\n",
       "      <td>...</td>\n",
       "      <td>1.570846</td>\n",
       "      <td>3.082179</td>\n",
       "      <td>5.157549</td>\n",
       "      <td>5.852851</td>\n",
       "      <td>3.425222</td>\n",
       "      <td>5.148227</td>\n",
       "      <td>5.975907</td>\n",
       "      <td>4.099582</td>\n",
       "      <td>4.839340</td>\n",
       "      <td>2</td>\n",
       "    </tr>\n",
       "  </tbody>\n",
       "</table>\n",
       "<p>5 rows × 28 columns</p>\n",
       "</div>"
      ],
      "text/plain": [
       "        Entity Code  Year  Schizophrenia (%)  Bipolar disorder (%)  \\\n",
       "0  Afghanistan  AFG  1990           0.160560              0.697779   \n",
       "1  Afghanistan  AFG  1991           0.160312              0.697961   \n",
       "2  Afghanistan  AFG  1992           0.160135              0.698107   \n",
       "3  Afghanistan  AFG  1993           0.160037              0.698257   \n",
       "4  Afghanistan  AFG  1994           0.160022              0.698469   \n",
       "\n",
       "   Eating disorders (%)  Anxiety disorders (%)  Drug use disorders (%)  \\\n",
       "0              0.101855               4.828830                1.677082   \n",
       "1              0.099313               4.829740                1.684746   \n",
       "2              0.096692               4.831108                1.694334   \n",
       "3              0.094336               4.830864                1.705320   \n",
       "4              0.092439               4.829423                1.716069   \n",
       "\n",
       "   Depression (%)  Alcohol use disorders (%)  ...  10-14 years old (%)  \\\n",
       "0        4.071831                   0.672404  ...             1.594676   \n",
       "1        4.079531                   0.671768  ...             1.588356   \n",
       "2        4.088358                   0.670644  ...             1.577980   \n",
       "3        4.096190                   0.669738  ...             1.577201   \n",
       "4        4.099582                   0.669260  ...             1.570846   \n",
       "\n",
       "   All ages (%)  70+ years old (%)  30-34 years old (%)  15-19 years old (%)  \\\n",
       "0      3.218871           5.202803             5.799034             3.455708   \n",
       "1      3.203468           5.192849             5.814828             3.451880   \n",
       "2      3.156559           5.176872             5.829745             3.434982   \n",
       "3      3.120655           5.167355             5.853060             3.420210   \n",
       "4      3.082179           5.157549             5.852851             3.425222   \n",
       "\n",
       "   25-29 years old (%)  50-69 years old (%)  Age-standardized (%)  \\\n",
       "0             5.175856             5.917752              4.071831   \n",
       "1             5.176729             5.927093              4.079531   \n",
       "2             5.160249             5.945656              4.088358   \n",
       "3             5.148767             5.966915              4.096190   \n",
       "4             5.148227             5.975907              4.099582   \n",
       "\n",
       "   15-49 years old (%)  Depression_binary  \n",
       "0             4.939766                  2  \n",
       "1             4.902682                  2  \n",
       "2             4.837097                  2  \n",
       "3             4.813657                  2  \n",
       "4             4.839340                  2  \n",
       "\n",
       "[5 rows x 28 columns]"
      ]
     },
     "execution_count": 429,
     "metadata": {},
     "output_type": "execute_result"
    }
   ],
   "source": [
    "bajo = 2800\n",
    "alto = 3800\n",
    "datos_procesados['Depression_binary'] = np.where(datos_procesados['Depressive disorder rates (number suffering per 100,000)'] > alto, 2 , np.where(datos_procesados['Depressive disorder rates (number suffering per 100,000)'] > bajo, 1, 0)) \n",
    "datos_procesados.head()"
   ]
  },
  {
   "cell_type": "code",
   "execution_count": 430,
   "metadata": {},
   "outputs": [
    {
     "name": "stdout",
     "output_type": "stream",
     "text": [
      "Depression_binary\n",
      "1    3126\n",
      "0    1239\n",
      "2    1123\n",
      "Name: count, dtype: int64\n"
     ]
    }
   ],
   "source": [
    "print(datos_procesados['Depression_binary'].value_counts())"
   ]
  },
  {
   "cell_type": "code",
   "execution_count": 431,
   "metadata": {},
   "outputs": [
    {
     "data": {
      "text/plain": [
       "Entity                                                                                                       0\n",
       "Code                                                                                                         0\n",
       "Year                                                                                                         0\n",
       "Schizophrenia (%)                                                                                            0\n",
       "Bipolar disorder (%)                                                                                         0\n",
       "Eating disorders (%)                                                                                         0\n",
       "Anxiety disorders (%)                                                                                        0\n",
       "Drug use disorders (%)                                                                                       0\n",
       "Depression (%)                                                                                               0\n",
       "Alcohol use disorders (%)                                                                                    0\n",
       "Prevalence in males (%)                                                                                      0\n",
       "Prevalence in females (%)                                                                                    0\n",
       "Population_x                                                                                                 0\n",
       "Suicide rate (deaths per 100,000 individuals)                                                                0\n",
       "Depressive disorder rates (number suffering per 100,000)                                                     0\n",
       "Population_y                                                                                                 0\n",
       "Prevalence - Depressive disorders - Sex: Both - Age: All Ages (Number) (people suffering from depression)    0\n",
       "20-24 years old (%)                                                                                          0\n",
       "10-14 years old (%)                                                                                          0\n",
       "All ages (%)                                                                                                 0\n",
       "70+ years old (%)                                                                                            0\n",
       "30-34 years old (%)                                                                                          0\n",
       "15-19 years old (%)                                                                                          0\n",
       "25-29 years old (%)                                                                                          0\n",
       "50-69 years old (%)                                                                                          0\n",
       "Age-standardized (%)                                                                                         0\n",
       "15-49 years old (%)                                                                                          0\n",
       "Depression_binary                                                                                            0\n",
       "dtype: int64"
      ]
     },
     "execution_count": 431,
     "metadata": {},
     "output_type": "execute_result"
    }
   ],
   "source": [
    "#standar scaler\n",
    "from sklearn.preprocessing import StandardScaler\n",
    "\n",
    "scaler = StandardScaler()\n",
    "datos_procesados_scaled = datos_procesados.copy()\n",
    "\n",
    "datos_procesados_scaled.drop(['Entity', 'Code','Depression_binary'], axis=1, inplace=True)\n",
    "# escalar todas las columnas, excepto entity, code y Depression_binary\n",
    "\n",
    "datos_procesados_scaled = pd.DataFrame(scaler.fit_transform(datos_procesados_scaled), columns=datos_procesados_scaled.columns)\n",
    "datos_procesados.isna().sum()\n",
    "datos_procesados_scaled.head()\n"
   ]
  },
  {
   "cell_type": "code",
   "execution_count": 432,
   "metadata": {},
   "outputs": [],
   "source": [
    "qualitative_columns = ['Code'] "
   ]
  },
  {
   "cell_type": "code",
   "execution_count": 433,
   "metadata": {},
   "outputs": [
    {
     "data": {
      "text/plain": [
       "Year                                                                                                         0\n",
       "Schizophrenia (%)                                                                                            0\n",
       "Bipolar disorder (%)                                                                                         0\n",
       "Eating disorders (%)                                                                                         0\n",
       "Anxiety disorders (%)                                                                                        0\n",
       "Drug use disorders (%)                                                                                       0\n",
       "Depression (%)                                                                                               0\n",
       "Alcohol use disorders (%)                                                                                    0\n",
       "Prevalence in males (%)                                                                                      0\n",
       "Prevalence in females (%)                                                                                    0\n",
       "Population_x                                                                                                 0\n",
       "Suicide rate (deaths per 100,000 individuals)                                                                0\n",
       "Depressive disorder rates (number suffering per 100,000)                                                     0\n",
       "Population_y                                                                                                 0\n",
       "Prevalence - Depressive disorders - Sex: Both - Age: All Ages (Number) (people suffering from depression)    0\n",
       "20-24 years old (%)                                                                                          0\n",
       "10-14 years old (%)                                                                                          0\n",
       "All ages (%)                                                                                                 0\n",
       "70+ years old (%)                                                                                            0\n",
       "30-34 years old (%)                                                                                          0\n",
       "15-19 years old (%)                                                                                          0\n",
       "25-29 years old (%)                                                                                          0\n",
       "50-69 years old (%)                                                                                          0\n",
       "Age-standardized (%)                                                                                         0\n",
       "15-49 years old (%)                                                                                          0\n",
       "Code                                                                                                         0\n",
       "Depression_binary                                                                                            0\n",
       "dtype: int64"
      ]
     },
     "execution_count": 433,
     "metadata": {},
     "output_type": "execute_result"
    }
   ],
   "source": [
    "#concatenar las columnas cualitativas\n",
    "datos_procesados_scaled = pd.concat([datos_procesados_scaled, datos_procesados['Code']], axis=1)\n",
    "datos_procesados_scaled = pd.concat([datos_procesados_scaled, datos_procesados['Depression_binary']], axis=1)\n",
    "datos_procesados_scaled.head()\n",
    "\n",
    "#datos_procesados_scaled.dropna(inplace=True)\n",
    "datos_procesados_scaled.isna().sum()"
   ]
  },
  {
   "cell_type": "code",
   "execution_count": 434,
   "metadata": {},
   "outputs": [],
   "source": [
    "from sklearn.preprocessing import LabelEncoder, OrdinalEncoder\n",
    "\n",
    "# LabelEncoder para las columnas cualitativas\n",
    "label_encoder = LabelEncoder()\n",
    "\n",
    "for column in qualitative_columns:\n",
    "    datos_procesados_scaled[column] = label_encoder.fit_transform(datos_procesados_scaled[column])\n",
    "\n",
    "datos_procesados_scaled.head()\n",
    "datos_procesados_ecoding = datos_procesados_scaled.copy()"
   ]
  },
  {
   "cell_type": "code",
   "execution_count": 435,
   "metadata": {},
   "outputs": [],
   "source": [
    "X = datos_procesados_ecoding.drop(columns=[\"Depression_binary\", \"Depressive disorder rates (number suffering per 100,000)\"])\n",
    "y = datos_procesados_ecoding[\"Depression_binary\"]"
   ]
  },
  {
   "cell_type": "code",
   "execution_count": 436,
   "metadata": {},
   "outputs": [],
   "source": [
    "from sklearn.model_selection import train_test_split"
   ]
  },
  {
   "cell_type": "code",
   "execution_count": 437,
   "metadata": {},
   "outputs": [],
   "source": [
    "X_entreno, X_prueba, y_entreno, y_prueba = train_test_split(X, y, test_size=0.3, random_state=0)"
   ]
  },
  {
   "cell_type": "code",
   "execution_count": 438,
   "metadata": {},
   "outputs": [
    {
     "data": {
      "text/plain": [
       "5374    0\n",
       "4046    2\n",
       "42      0\n",
       "1593    1\n",
       "4856    1\n",
       "       ..\n",
       "995     2\n",
       "5361    1\n",
       "3594    1\n",
       "5382    1\n",
       "3994    0\n",
       "Name: Depression_binary, Length: 1647, dtype: int64"
      ]
     },
     "execution_count": 438,
     "metadata": {},
     "output_type": "execute_result"
    }
   ],
   "source": [
    "y_prueba"
   ]
  },
  {
   "cell_type": "code",
   "execution_count": 439,
   "metadata": {},
   "outputs": [
    {
     "data": {
      "text/plain": [
       "Year                                                                                                         0\n",
       "Schizophrenia (%)                                                                                            0\n",
       "Bipolar disorder (%)                                                                                         0\n",
       "Eating disorders (%)                                                                                         0\n",
       "Anxiety disorders (%)                                                                                        0\n",
       "Drug use disorders (%)                                                                                       0\n",
       "Depression (%)                                                                                               0\n",
       "Alcohol use disorders (%)                                                                                    0\n",
       "Prevalence in males (%)                                                                                      0\n",
       "Prevalence in females (%)                                                                                    0\n",
       "Population_x                                                                                                 0\n",
       "Suicide rate (deaths per 100,000 individuals)                                                                0\n",
       "Population_y                                                                                                 0\n",
       "Prevalence - Depressive disorders - Sex: Both - Age: All Ages (Number) (people suffering from depression)    0\n",
       "20-24 years old (%)                                                                                          0\n",
       "10-14 years old (%)                                                                                          0\n",
       "All ages (%)                                                                                                 0\n",
       "70+ years old (%)                                                                                            0\n",
       "30-34 years old (%)                                                                                          0\n",
       "15-19 years old (%)                                                                                          0\n",
       "25-29 years old (%)                                                                                          0\n",
       "50-69 years old (%)                                                                                          0\n",
       "Age-standardized (%)                                                                                         0\n",
       "15-49 years old (%)                                                                                          0\n",
       "Code                                                                                                         0\n",
       "dtype: int64"
      ]
     },
     "execution_count": 439,
     "metadata": {},
     "output_type": "execute_result"
    }
   ],
   "source": [
    "X_entreno.isna().sum()\n"
   ]
  },
  {
   "cell_type": "code",
   "execution_count": 440,
   "metadata": {},
   "outputs": [
    {
     "data": {
      "text/html": [
       "<style>#sk-container-id-5 {color: black;}#sk-container-id-5 pre{padding: 0;}#sk-container-id-5 div.sk-toggleable {background-color: white;}#sk-container-id-5 label.sk-toggleable__label {cursor: pointer;display: block;width: 100%;margin-bottom: 0;padding: 0.3em;box-sizing: border-box;text-align: center;}#sk-container-id-5 label.sk-toggleable__label-arrow:before {content: \"▸\";float: left;margin-right: 0.25em;color: #696969;}#sk-container-id-5 label.sk-toggleable__label-arrow:hover:before {color: black;}#sk-container-id-5 div.sk-estimator:hover label.sk-toggleable__label-arrow:before {color: black;}#sk-container-id-5 div.sk-toggleable__content {max-height: 0;max-width: 0;overflow: hidden;text-align: left;background-color: #f0f8ff;}#sk-container-id-5 div.sk-toggleable__content pre {margin: 0.2em;color: black;border-radius: 0.25em;background-color: #f0f8ff;}#sk-container-id-5 input.sk-toggleable__control:checked~div.sk-toggleable__content {max-height: 200px;max-width: 100%;overflow: auto;}#sk-container-id-5 input.sk-toggleable__control:checked~label.sk-toggleable__label-arrow:before {content: \"▾\";}#sk-container-id-5 div.sk-estimator input.sk-toggleable__control:checked~label.sk-toggleable__label {background-color: #d4ebff;}#sk-container-id-5 div.sk-label input.sk-toggleable__control:checked~label.sk-toggleable__label {background-color: #d4ebff;}#sk-container-id-5 input.sk-hidden--visually {border: 0;clip: rect(1px 1px 1px 1px);clip: rect(1px, 1px, 1px, 1px);height: 1px;margin: -1px;overflow: hidden;padding: 0;position: absolute;width: 1px;}#sk-container-id-5 div.sk-estimator {font-family: monospace;background-color: #f0f8ff;border: 1px dotted black;border-radius: 0.25em;box-sizing: border-box;margin-bottom: 0.5em;}#sk-container-id-5 div.sk-estimator:hover {background-color: #d4ebff;}#sk-container-id-5 div.sk-parallel-item::after {content: \"\";width: 100%;border-bottom: 1px solid gray;flex-grow: 1;}#sk-container-id-5 div.sk-label:hover label.sk-toggleable__label {background-color: #d4ebff;}#sk-container-id-5 div.sk-serial::before {content: \"\";position: absolute;border-left: 1px solid gray;box-sizing: border-box;top: 0;bottom: 0;left: 50%;z-index: 0;}#sk-container-id-5 div.sk-serial {display: flex;flex-direction: column;align-items: center;background-color: white;padding-right: 0.2em;padding-left: 0.2em;position: relative;}#sk-container-id-5 div.sk-item {position: relative;z-index: 1;}#sk-container-id-5 div.sk-parallel {display: flex;align-items: stretch;justify-content: center;background-color: white;position: relative;}#sk-container-id-5 div.sk-item::before, #sk-container-id-5 div.sk-parallel-item::before {content: \"\";position: absolute;border-left: 1px solid gray;box-sizing: border-box;top: 0;bottom: 0;left: 50%;z-index: -1;}#sk-container-id-5 div.sk-parallel-item {display: flex;flex-direction: column;z-index: 1;position: relative;background-color: white;}#sk-container-id-5 div.sk-parallel-item:first-child::after {align-self: flex-end;width: 50%;}#sk-container-id-5 div.sk-parallel-item:last-child::after {align-self: flex-start;width: 50%;}#sk-container-id-5 div.sk-parallel-item:only-child::after {width: 0;}#sk-container-id-5 div.sk-dashed-wrapped {border: 1px dashed gray;margin: 0 0.4em 0.5em 0.4em;box-sizing: border-box;padding-bottom: 0.4em;background-color: white;}#sk-container-id-5 div.sk-label label {font-family: monospace;font-weight: bold;display: inline-block;line-height: 1.2em;}#sk-container-id-5 div.sk-label-container {text-align: center;}#sk-container-id-5 div.sk-container {/* jupyter's `normalize.less` sets `[hidden] { display: none; }` but bootstrap.min.css set `[hidden] { display: none !important; }` so we also need the `!important` here to be able to override the default hidden behavior on the sphinx rendered scikit-learn.org. See: https://github.com/scikit-learn/scikit-learn/issues/21755 */display: inline-block !important;position: relative;}#sk-container-id-5 div.sk-text-repr-fallback {display: none;}</style><div id=\"sk-container-id-5\" class=\"sk-top-container\"><div class=\"sk-text-repr-fallback\"><pre>SVC(kernel=&#x27;linear&#x27;, random_state=0)</pre><b>In a Jupyter environment, please rerun this cell to show the HTML representation or trust the notebook. <br />On GitHub, the HTML representation is unable to render, please try loading this page with nbviewer.org.</b></div><div class=\"sk-container\" hidden><div class=\"sk-item\"><div class=\"sk-estimator sk-toggleable\"><input class=\"sk-toggleable__control sk-hidden--visually\" id=\"sk-estimator-id-5\" type=\"checkbox\" checked><label for=\"sk-estimator-id-5\" class=\"sk-toggleable__label sk-toggleable__label-arrow\">SVC</label><div class=\"sk-toggleable__content\"><pre>SVC(kernel=&#x27;linear&#x27;, random_state=0)</pre></div></div></div></div></div>"
      ],
      "text/plain": [
       "SVC(kernel='linear', random_state=0)"
      ]
     },
     "execution_count": 440,
     "metadata": {},
     "output_type": "execute_result"
    }
   ],
   "source": [
    "from sklearn.svm import SVC\n",
    "clasificador = SVC(kernel = 'linear', random_state = 0)\n",
    "clasificador.fit(X_entreno, y_entreno)"
   ]
  },
  {
   "cell_type": "code",
   "execution_count": 441,
   "metadata": {},
   "outputs": [],
   "source": [
    "y_pred = clasificador.predict(X_prueba)"
   ]
  },
  {
   "cell_type": "code",
   "execution_count": 442,
   "metadata": {},
   "outputs": [
    {
     "name": "stdout",
     "output_type": "stream",
     "text": [
      "[[0 0]\n",
      " [2 2]\n",
      " [0 0]\n",
      " ...\n",
      " [1 1]\n",
      " [1 1]\n",
      " [0 0]]\n"
     ]
    }
   ],
   "source": [
    "print(np.concatenate((y_pred.reshape(len(y_pred),1), y_prueba.values.reshape(len(y_prueba),1)),1))"
   ]
  },
  {
   "cell_type": "code",
   "execution_count": 443,
   "metadata": {},
   "outputs": [
    {
     "name": "stdout",
     "output_type": "stream",
     "text": [
      "[[347   7   0]\n",
      " [  6 959   2]\n",
      " [  0   9 317]]\n"
     ]
    },
    {
     "data": {
      "text/plain": [
       "0.9854280510018215"
      ]
     },
     "execution_count": 443,
     "metadata": {},
     "output_type": "execute_result"
    }
   ],
   "source": [
    "from sklearn.metrics import confusion_matrix, accuracy_score\n",
    "mat_conf = confusion_matrix(y_prueba, y_pred)\n",
    "print(mat_conf)\n",
    "accuracy_score(y_prueba, y_pred)"
   ]
  }
 ],
 "metadata": {
  "kernelspec": {
   "display_name": "Python 3",
   "language": "python",
   "name": "python3"
  },
  "language_info": {
   "codemirror_mode": {
    "name": "ipython",
    "version": 3
   },
   "file_extension": ".py",
   "mimetype": "text/x-python",
   "name": "python",
   "nbconvert_exporter": "python",
   "pygments_lexer": "ipython3",
   "version": "3.11.4"
  }
 },
 "nbformat": 4,
 "nbformat_minor": 2
}
