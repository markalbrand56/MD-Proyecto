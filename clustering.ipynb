{
 "cells": [
  {
   "cell_type": "code",
   "execution_count": 17,
   "id": "initial_id",
   "metadata": {
    "collapsed": true,
    "ExecuteTime": {
     "end_time": "2024-03-17T01:40:00.820904Z",
     "start_time": "2024-03-17T01:40:00.816402800Z"
    }
   },
   "outputs": [],
   "source": [
    "import numpy as np\n",
    "import matplotlib.pyplot as plt\n",
    "import pandas as pd\n",
    "import seaborn as sns\n",
    "\n",
    "# ignore all FutureWarnings\n",
    "import warnings\n",
    "warnings.simplefilter(action='ignore', category=FutureWarning)"
   ]
  },
  {
   "cell_type": "code",
   "execution_count": 18,
   "id": "c8b80edf4d3a237c",
   "metadata": {
    "collapsed": false,
    "ExecuteTime": {
     "end_time": "2024-03-17T01:40:00.853047700Z",
     "start_time": "2024-03-17T01:40:00.820904Z"
    }
   },
   "outputs": [
    {
     "data": {
      "text/plain": "   Unnamed: 0       Entity Code  Year  Schizophrenia (%)  \\\n0           0  Afghanistan  AFG  1990           0.160560   \n1           1  Afghanistan  AFG  1991           0.160312   \n2           2  Afghanistan  AFG  1992           0.160135   \n3           3  Afghanistan  AFG  1993           0.160037   \n4           4  Afghanistan  AFG  1994           0.160022   \n\n   Bipolar disorder (%)  Eating disorders (%)  Anxiety disorders (%)  \\\n0              0.697779              0.101855               4.828830   \n1              0.697961              0.099313               4.829740   \n2              0.698107              0.096692               4.831108   \n3              0.698257              0.094336               4.830864   \n4              0.698469              0.092439               4.829423   \n\n   Drug use disorders (%)  Depression (%)  ...  20-24 years old (%)  \\\n0                1.677082        4.071831  ...             4.417802   \n1                1.684746        4.079531  ...             4.433524   \n2                1.694334        4.088358  ...             4.453689   \n3                1.705320        4.096190  ...             4.464517   \n4                1.716069        4.099582  ...             4.462960   \n\n   10-14 years old (%)  All ages (%)  70+ years old (%)  30-34 years old (%)  \\\n0             1.594676      3.218871           5.202803             5.799034   \n1             1.588356      3.203468           5.192849             5.814828   \n2             1.577980      3.156559           5.176872             5.829745   \n3             1.577201      3.120655           5.167355             5.853060   \n4             1.570846      3.082179           5.157549             5.852851   \n\n   15-19 years old (%)  25-29 years old (%)  50-69 years old (%)  \\\n0             3.455708             5.175856             5.917752   \n1             3.451880             5.176729             5.927093   \n2             3.434982             5.160249             5.945656   \n3             3.420210             5.148767             5.966915   \n4             3.425222             5.148227             5.975907   \n\n   Age-standardized (%)  15-49 years old (%)  \n0              4.071831             4.939766  \n1              4.079531             4.902682  \n2              4.088358             4.837097  \n3              4.096190             4.813657  \n4              4.099582             4.839340  \n\n[5 rows x 28 columns]",
      "text/html": "<div>\n<style scoped>\n    .dataframe tbody tr th:only-of-type {\n        vertical-align: middle;\n    }\n\n    .dataframe tbody tr th {\n        vertical-align: top;\n    }\n\n    .dataframe thead th {\n        text-align: right;\n    }\n</style>\n<table border=\"1\" class=\"dataframe\">\n  <thead>\n    <tr style=\"text-align: right;\">\n      <th></th>\n      <th>Unnamed: 0</th>\n      <th>Entity</th>\n      <th>Code</th>\n      <th>Year</th>\n      <th>Schizophrenia (%)</th>\n      <th>Bipolar disorder (%)</th>\n      <th>Eating disorders (%)</th>\n      <th>Anxiety disorders (%)</th>\n      <th>Drug use disorders (%)</th>\n      <th>Depression (%)</th>\n      <th>...</th>\n      <th>20-24 years old (%)</th>\n      <th>10-14 years old (%)</th>\n      <th>All ages (%)</th>\n      <th>70+ years old (%)</th>\n      <th>30-34 years old (%)</th>\n      <th>15-19 years old (%)</th>\n      <th>25-29 years old (%)</th>\n      <th>50-69 years old (%)</th>\n      <th>Age-standardized (%)</th>\n      <th>15-49 years old (%)</th>\n    </tr>\n  </thead>\n  <tbody>\n    <tr>\n      <th>0</th>\n      <td>0</td>\n      <td>Afghanistan</td>\n      <td>AFG</td>\n      <td>1990</td>\n      <td>0.160560</td>\n      <td>0.697779</td>\n      <td>0.101855</td>\n      <td>4.828830</td>\n      <td>1.677082</td>\n      <td>4.071831</td>\n      <td>...</td>\n      <td>4.417802</td>\n      <td>1.594676</td>\n      <td>3.218871</td>\n      <td>5.202803</td>\n      <td>5.799034</td>\n      <td>3.455708</td>\n      <td>5.175856</td>\n      <td>5.917752</td>\n      <td>4.071831</td>\n      <td>4.939766</td>\n    </tr>\n    <tr>\n      <th>1</th>\n      <td>1</td>\n      <td>Afghanistan</td>\n      <td>AFG</td>\n      <td>1991</td>\n      <td>0.160312</td>\n      <td>0.697961</td>\n      <td>0.099313</td>\n      <td>4.829740</td>\n      <td>1.684746</td>\n      <td>4.079531</td>\n      <td>...</td>\n      <td>4.433524</td>\n      <td>1.588356</td>\n      <td>3.203468</td>\n      <td>5.192849</td>\n      <td>5.814828</td>\n      <td>3.451880</td>\n      <td>5.176729</td>\n      <td>5.927093</td>\n      <td>4.079531</td>\n      <td>4.902682</td>\n    </tr>\n    <tr>\n      <th>2</th>\n      <td>2</td>\n      <td>Afghanistan</td>\n      <td>AFG</td>\n      <td>1992</td>\n      <td>0.160135</td>\n      <td>0.698107</td>\n      <td>0.096692</td>\n      <td>4.831108</td>\n      <td>1.694334</td>\n      <td>4.088358</td>\n      <td>...</td>\n      <td>4.453689</td>\n      <td>1.577980</td>\n      <td>3.156559</td>\n      <td>5.176872</td>\n      <td>5.829745</td>\n      <td>3.434982</td>\n      <td>5.160249</td>\n      <td>5.945656</td>\n      <td>4.088358</td>\n      <td>4.837097</td>\n    </tr>\n    <tr>\n      <th>3</th>\n      <td>3</td>\n      <td>Afghanistan</td>\n      <td>AFG</td>\n      <td>1993</td>\n      <td>0.160037</td>\n      <td>0.698257</td>\n      <td>0.094336</td>\n      <td>4.830864</td>\n      <td>1.705320</td>\n      <td>4.096190</td>\n      <td>...</td>\n      <td>4.464517</td>\n      <td>1.577201</td>\n      <td>3.120655</td>\n      <td>5.167355</td>\n      <td>5.853060</td>\n      <td>3.420210</td>\n      <td>5.148767</td>\n      <td>5.966915</td>\n      <td>4.096190</td>\n      <td>4.813657</td>\n    </tr>\n    <tr>\n      <th>4</th>\n      <td>4</td>\n      <td>Afghanistan</td>\n      <td>AFG</td>\n      <td>1994</td>\n      <td>0.160022</td>\n      <td>0.698469</td>\n      <td>0.092439</td>\n      <td>4.829423</td>\n      <td>1.716069</td>\n      <td>4.099582</td>\n      <td>...</td>\n      <td>4.462960</td>\n      <td>1.570846</td>\n      <td>3.082179</td>\n      <td>5.157549</td>\n      <td>5.852851</td>\n      <td>3.425222</td>\n      <td>5.148227</td>\n      <td>5.975907</td>\n      <td>4.099582</td>\n      <td>4.839340</td>\n    </tr>\n  </tbody>\n</table>\n<p>5 rows × 28 columns</p>\n</div>"
     },
     "execution_count": 18,
     "metadata": {},
     "output_type": "execute_result"
    }
   ],
   "source": [
    "datos_procesados = pd.read_csv('merged_data.csv')\n",
    "datos_procesados.head()"
   ]
  },
  {
   "cell_type": "code",
   "execution_count": 19,
   "id": "bbfa1454",
   "metadata": {
    "ExecuteTime": {
     "end_time": "2024-03-17T01:40:00.862184200Z",
     "start_time": "2024-03-17T01:40:00.855798900Z"
    }
   },
   "outputs": [],
   "source": [
    "qualitative_columns = ['Entity', 'Code'] "
   ]
  },
  {
   "cell_type": "code",
   "execution_count": 20,
   "id": "fb5f5bdf",
   "metadata": {
    "ExecuteTime": {
     "end_time": "2024-03-17T01:40:00.896896500Z",
     "start_time": "2024-03-17T01:40:00.860765200Z"
    }
   },
   "outputs": [
    {
     "data": {
      "text/plain": "      Unnamed: 0  Year  Schizophrenia (%)  Bipolar disorder (%)  \\\n0              0  1990           0.160560              0.697779   \n1              1  1991           0.160312              0.697961   \n2              2  1992           0.160135              0.698107   \n3              3  1993           0.160037              0.698257   \n4              4  1994           0.160022              0.698469   \n...          ...   ...                ...                   ...   \n5483        5483  2013           0.155670              0.607993   \n5484        5484  2014           0.155993              0.608610   \n5485        5485  2015           0.156465              0.609363   \n5486        5486  2016           0.157111              0.610234   \n5487        5487  2017           0.157963              0.611242   \n\n      Eating disorders (%)  Anxiety disorders (%)  Drug use disorders (%)  \\\n0                 0.101855               4.828830                1.677082   \n1                 0.099313               4.829740                1.684746   \n2                 0.096692               4.831108                1.694334   \n3                 0.094336               4.830864                1.705320   \n4                 0.092439               4.829423                1.716069   \n...                    ...                    ...                     ...   \n5483              0.117248               3.090168                0.766280   \n5484              0.118073               3.093964                0.768914   \n5485              0.119470               3.098687                0.771802   \n5486              0.121456               3.104294                0.772275   \n5487              0.124443               3.110926                0.772648   \n\n      Depression (%)  Alcohol use disorders (%)  Prevalence in males (%)  ...  \\\n0           4.071831                   0.672404                 3.499982  ...   \n1           4.079531                   0.671768                 3.503947  ...   \n2           4.088358                   0.670644                 3.508912  ...   \n3           4.096190                   0.669738                 3.513429  ...   \n4           4.099582                   0.669260                 3.515578  ...   \n...              ...                        ...                      ...  ...   \n5483        3.128192                   1.515641                 2.769193  ...   \n5484        3.140290                   1.515470                 2.778101  ...   \n5485        3.155710                   1.514751                 2.789152  ...   \n5486        3.174134                   1.513269                 2.799308  ...   \n5487        3.192789                   1.510943                 2.812022  ...   \n\n      Code_VCT  Code_VEN  Code_VIR  Code_VNM  Code_VUT  Code_WSM  Code_YEM  \\\n0        False     False     False     False     False     False     False   \n1        False     False     False     False     False     False     False   \n2        False     False     False     False     False     False     False   \n3        False     False     False     False     False     False     False   \n4        False     False     False     False     False     False     False   \n...        ...       ...       ...       ...       ...       ...       ...   \n5483     False     False     False     False     False     False     False   \n5484     False     False     False     False     False     False     False   \n5485     False     False     False     False     False     False     False   \n5486     False     False     False     False     False     False     False   \n5487     False     False     False     False     False     False     False   \n\n      Code_ZAF  Code_ZMB  Code_ZWE  \n0        False     False     False  \n1        False     False     False  \n2        False     False     False  \n3        False     False     False  \n4        False     False     False  \n...        ...       ...       ...  \n5483     False     False      True  \n5484     False     False      True  \n5485     False     False      True  \n5486     False     False      True  \n5487     False     False      True  \n\n[5488 rows x 418 columns]",
      "text/html": "<div>\n<style scoped>\n    .dataframe tbody tr th:only-of-type {\n        vertical-align: middle;\n    }\n\n    .dataframe tbody tr th {\n        vertical-align: top;\n    }\n\n    .dataframe thead th {\n        text-align: right;\n    }\n</style>\n<table border=\"1\" class=\"dataframe\">\n  <thead>\n    <tr style=\"text-align: right;\">\n      <th></th>\n      <th>Unnamed: 0</th>\n      <th>Year</th>\n      <th>Schizophrenia (%)</th>\n      <th>Bipolar disorder (%)</th>\n      <th>Eating disorders (%)</th>\n      <th>Anxiety disorders (%)</th>\n      <th>Drug use disorders (%)</th>\n      <th>Depression (%)</th>\n      <th>Alcohol use disorders (%)</th>\n      <th>Prevalence in males (%)</th>\n      <th>...</th>\n      <th>Code_VCT</th>\n      <th>Code_VEN</th>\n      <th>Code_VIR</th>\n      <th>Code_VNM</th>\n      <th>Code_VUT</th>\n      <th>Code_WSM</th>\n      <th>Code_YEM</th>\n      <th>Code_ZAF</th>\n      <th>Code_ZMB</th>\n      <th>Code_ZWE</th>\n    </tr>\n  </thead>\n  <tbody>\n    <tr>\n      <th>0</th>\n      <td>0</td>\n      <td>1990</td>\n      <td>0.160560</td>\n      <td>0.697779</td>\n      <td>0.101855</td>\n      <td>4.828830</td>\n      <td>1.677082</td>\n      <td>4.071831</td>\n      <td>0.672404</td>\n      <td>3.499982</td>\n      <td>...</td>\n      <td>False</td>\n      <td>False</td>\n      <td>False</td>\n      <td>False</td>\n      <td>False</td>\n      <td>False</td>\n      <td>False</td>\n      <td>False</td>\n      <td>False</td>\n      <td>False</td>\n    </tr>\n    <tr>\n      <th>1</th>\n      <td>1</td>\n      <td>1991</td>\n      <td>0.160312</td>\n      <td>0.697961</td>\n      <td>0.099313</td>\n      <td>4.829740</td>\n      <td>1.684746</td>\n      <td>4.079531</td>\n      <td>0.671768</td>\n      <td>3.503947</td>\n      <td>...</td>\n      <td>False</td>\n      <td>False</td>\n      <td>False</td>\n      <td>False</td>\n      <td>False</td>\n      <td>False</td>\n      <td>False</td>\n      <td>False</td>\n      <td>False</td>\n      <td>False</td>\n    </tr>\n    <tr>\n      <th>2</th>\n      <td>2</td>\n      <td>1992</td>\n      <td>0.160135</td>\n      <td>0.698107</td>\n      <td>0.096692</td>\n      <td>4.831108</td>\n      <td>1.694334</td>\n      <td>4.088358</td>\n      <td>0.670644</td>\n      <td>3.508912</td>\n      <td>...</td>\n      <td>False</td>\n      <td>False</td>\n      <td>False</td>\n      <td>False</td>\n      <td>False</td>\n      <td>False</td>\n      <td>False</td>\n      <td>False</td>\n      <td>False</td>\n      <td>False</td>\n    </tr>\n    <tr>\n      <th>3</th>\n      <td>3</td>\n      <td>1993</td>\n      <td>0.160037</td>\n      <td>0.698257</td>\n      <td>0.094336</td>\n      <td>4.830864</td>\n      <td>1.705320</td>\n      <td>4.096190</td>\n      <td>0.669738</td>\n      <td>3.513429</td>\n      <td>...</td>\n      <td>False</td>\n      <td>False</td>\n      <td>False</td>\n      <td>False</td>\n      <td>False</td>\n      <td>False</td>\n      <td>False</td>\n      <td>False</td>\n      <td>False</td>\n      <td>False</td>\n    </tr>\n    <tr>\n      <th>4</th>\n      <td>4</td>\n      <td>1994</td>\n      <td>0.160022</td>\n      <td>0.698469</td>\n      <td>0.092439</td>\n      <td>4.829423</td>\n      <td>1.716069</td>\n      <td>4.099582</td>\n      <td>0.669260</td>\n      <td>3.515578</td>\n      <td>...</td>\n      <td>False</td>\n      <td>False</td>\n      <td>False</td>\n      <td>False</td>\n      <td>False</td>\n      <td>False</td>\n      <td>False</td>\n      <td>False</td>\n      <td>False</td>\n      <td>False</td>\n    </tr>\n    <tr>\n      <th>...</th>\n      <td>...</td>\n      <td>...</td>\n      <td>...</td>\n      <td>...</td>\n      <td>...</td>\n      <td>...</td>\n      <td>...</td>\n      <td>...</td>\n      <td>...</td>\n      <td>...</td>\n      <td>...</td>\n      <td>...</td>\n      <td>...</td>\n      <td>...</td>\n      <td>...</td>\n      <td>...</td>\n      <td>...</td>\n      <td>...</td>\n      <td>...</td>\n      <td>...</td>\n      <td>...</td>\n    </tr>\n    <tr>\n      <th>5483</th>\n      <td>5483</td>\n      <td>2013</td>\n      <td>0.155670</td>\n      <td>0.607993</td>\n      <td>0.117248</td>\n      <td>3.090168</td>\n      <td>0.766280</td>\n      <td>3.128192</td>\n      <td>1.515641</td>\n      <td>2.769193</td>\n      <td>...</td>\n      <td>False</td>\n      <td>False</td>\n      <td>False</td>\n      <td>False</td>\n      <td>False</td>\n      <td>False</td>\n      <td>False</td>\n      <td>False</td>\n      <td>False</td>\n      <td>True</td>\n    </tr>\n    <tr>\n      <th>5484</th>\n      <td>5484</td>\n      <td>2014</td>\n      <td>0.155993</td>\n      <td>0.608610</td>\n      <td>0.118073</td>\n      <td>3.093964</td>\n      <td>0.768914</td>\n      <td>3.140290</td>\n      <td>1.515470</td>\n      <td>2.778101</td>\n      <td>...</td>\n      <td>False</td>\n      <td>False</td>\n      <td>False</td>\n      <td>False</td>\n      <td>False</td>\n      <td>False</td>\n      <td>False</td>\n      <td>False</td>\n      <td>False</td>\n      <td>True</td>\n    </tr>\n    <tr>\n      <th>5485</th>\n      <td>5485</td>\n      <td>2015</td>\n      <td>0.156465</td>\n      <td>0.609363</td>\n      <td>0.119470</td>\n      <td>3.098687</td>\n      <td>0.771802</td>\n      <td>3.155710</td>\n      <td>1.514751</td>\n      <td>2.789152</td>\n      <td>...</td>\n      <td>False</td>\n      <td>False</td>\n      <td>False</td>\n      <td>False</td>\n      <td>False</td>\n      <td>False</td>\n      <td>False</td>\n      <td>False</td>\n      <td>False</td>\n      <td>True</td>\n    </tr>\n    <tr>\n      <th>5486</th>\n      <td>5486</td>\n      <td>2016</td>\n      <td>0.157111</td>\n      <td>0.610234</td>\n      <td>0.121456</td>\n      <td>3.104294</td>\n      <td>0.772275</td>\n      <td>3.174134</td>\n      <td>1.513269</td>\n      <td>2.799308</td>\n      <td>...</td>\n      <td>False</td>\n      <td>False</td>\n      <td>False</td>\n      <td>False</td>\n      <td>False</td>\n      <td>False</td>\n      <td>False</td>\n      <td>False</td>\n      <td>False</td>\n      <td>True</td>\n    </tr>\n    <tr>\n      <th>5487</th>\n      <td>5487</td>\n      <td>2017</td>\n      <td>0.157963</td>\n      <td>0.611242</td>\n      <td>0.124443</td>\n      <td>3.110926</td>\n      <td>0.772648</td>\n      <td>3.192789</td>\n      <td>1.510943</td>\n      <td>2.812022</td>\n      <td>...</td>\n      <td>False</td>\n      <td>False</td>\n      <td>False</td>\n      <td>False</td>\n      <td>False</td>\n      <td>False</td>\n      <td>False</td>\n      <td>False</td>\n      <td>False</td>\n      <td>True</td>\n    </tr>\n  </tbody>\n</table>\n<p>5488 rows × 418 columns</p>\n</div>"
     },
     "execution_count": 20,
     "metadata": {},
     "output_type": "execute_result"
    }
   ],
   "source": [
    "from sklearn.preprocessing import LabelEncoder, OrdinalEncoder\n",
    "\n",
    "datos_procesados_ecoding = pd.get_dummies(datos_procesados, columns=qualitative_columns)\n",
    "datos_procesados_ecoding"
   ]
  },
  {
   "cell_type": "code",
   "execution_count": 21,
   "metadata": {
    "ExecuteTime": {
     "end_time": "2024-03-17T01:40:01.059007Z",
     "start_time": "2024-03-17T01:40:00.883975200Z"
    }
   },
   "outputs": [
    {
     "data": {
      "text/plain": "      Unnamed: 0      Year  Schizophrenia (%)  Bipolar disorder (%)  \\\n0              0 -1.671258           0.160560              0.697779   \n1              1 -1.547461           0.160312              0.697961   \n2              2 -1.423664           0.160135              0.698107   \n3              3 -1.299867           0.160037              0.698257   \n4              4 -1.176070           0.160022              0.698469   \n...          ...       ...                ...                   ...   \n5483        5483  1.176070           0.155670              0.607993   \n5484        5484  1.299867           0.155993              0.608610   \n5485        5485  1.423664           0.156465              0.609363   \n5486        5486  1.547461           0.157111              0.610234   \n5487        5487  1.671258           0.157963              0.611242   \n\n      Eating disorders (%)  Anxiety disorders (%)  Drug use disorders (%)  \\\n0                 0.101855               4.828830                1.677082   \n1                 0.099313               4.829740                1.684746   \n2                 0.096692               4.831108                1.694334   \n3                 0.094336               4.830864                1.705320   \n4                 0.092439               4.829423                1.716069   \n...                    ...                    ...                     ...   \n5483              0.117248               3.090168                0.766280   \n5484              0.118073               3.093964                0.768914   \n5485              0.119470               3.098687                0.771802   \n5486              0.121456               3.104294                0.772275   \n5487              0.124443               3.110926                0.772648   \n\n      Depression (%)  Alcohol use disorders (%)  Prevalence in males (%)  ...  \\\n0           4.071831                   0.672404                 3.499982  ...   \n1           4.079531                   0.671768                 3.503947  ...   \n2           4.088358                   0.670644                 3.508912  ...   \n3           4.096190                   0.669738                 3.513429  ...   \n4           4.099582                   0.669260                 3.515578  ...   \n...              ...                        ...                      ...  ...   \n5483        3.128192                   1.515641                 2.769193  ...   \n5484        3.140290                   1.515470                 2.778101  ...   \n5485        3.155710                   1.514751                 2.789152  ...   \n5486        3.174134                   1.513269                 2.799308  ...   \n5487        3.192789                   1.510943                 2.812022  ...   \n\n      Code_VCT  Code_VEN  Code_VIR  Code_VNM  Code_VUT  Code_WSM  Code_YEM  \\\n0        False     False     False     False     False     False     False   \n1        False     False     False     False     False     False     False   \n2        False     False     False     False     False     False     False   \n3        False     False     False     False     False     False     False   \n4        False     False     False     False     False     False     False   \n...        ...       ...       ...       ...       ...       ...       ...   \n5483     False     False     False     False     False     False     False   \n5484     False     False     False     False     False     False     False   \n5485     False     False     False     False     False     False     False   \n5486     False     False     False     False     False     False     False   \n5487     False     False     False     False     False     False     False   \n\n      Code_ZAF  Code_ZMB  Code_ZWE  \n0        False     False     False  \n1        False     False     False  \n2        False     False     False  \n3        False     False     False  \n4        False     False     False  \n...        ...       ...       ...  \n5483     False     False      True  \n5484     False     False      True  \n5485     False     False      True  \n5486     False     False      True  \n5487     False     False      True  \n\n[5488 rows x 418 columns]",
      "text/html": "<div>\n<style scoped>\n    .dataframe tbody tr th:only-of-type {\n        vertical-align: middle;\n    }\n\n    .dataframe tbody tr th {\n        vertical-align: top;\n    }\n\n    .dataframe thead th {\n        text-align: right;\n    }\n</style>\n<table border=\"1\" class=\"dataframe\">\n  <thead>\n    <tr style=\"text-align: right;\">\n      <th></th>\n      <th>Unnamed: 0</th>\n      <th>Year</th>\n      <th>Schizophrenia (%)</th>\n      <th>Bipolar disorder (%)</th>\n      <th>Eating disorders (%)</th>\n      <th>Anxiety disorders (%)</th>\n      <th>Drug use disorders (%)</th>\n      <th>Depression (%)</th>\n      <th>Alcohol use disorders (%)</th>\n      <th>Prevalence in males (%)</th>\n      <th>...</th>\n      <th>Code_VCT</th>\n      <th>Code_VEN</th>\n      <th>Code_VIR</th>\n      <th>Code_VNM</th>\n      <th>Code_VUT</th>\n      <th>Code_WSM</th>\n      <th>Code_YEM</th>\n      <th>Code_ZAF</th>\n      <th>Code_ZMB</th>\n      <th>Code_ZWE</th>\n    </tr>\n  </thead>\n  <tbody>\n    <tr>\n      <th>0</th>\n      <td>0</td>\n      <td>-1.671258</td>\n      <td>0.160560</td>\n      <td>0.697779</td>\n      <td>0.101855</td>\n      <td>4.828830</td>\n      <td>1.677082</td>\n      <td>4.071831</td>\n      <td>0.672404</td>\n      <td>3.499982</td>\n      <td>...</td>\n      <td>False</td>\n      <td>False</td>\n      <td>False</td>\n      <td>False</td>\n      <td>False</td>\n      <td>False</td>\n      <td>False</td>\n      <td>False</td>\n      <td>False</td>\n      <td>False</td>\n    </tr>\n    <tr>\n      <th>1</th>\n      <td>1</td>\n      <td>-1.547461</td>\n      <td>0.160312</td>\n      <td>0.697961</td>\n      <td>0.099313</td>\n      <td>4.829740</td>\n      <td>1.684746</td>\n      <td>4.079531</td>\n      <td>0.671768</td>\n      <td>3.503947</td>\n      <td>...</td>\n      <td>False</td>\n      <td>False</td>\n      <td>False</td>\n      <td>False</td>\n      <td>False</td>\n      <td>False</td>\n      <td>False</td>\n      <td>False</td>\n      <td>False</td>\n      <td>False</td>\n    </tr>\n    <tr>\n      <th>2</th>\n      <td>2</td>\n      <td>-1.423664</td>\n      <td>0.160135</td>\n      <td>0.698107</td>\n      <td>0.096692</td>\n      <td>4.831108</td>\n      <td>1.694334</td>\n      <td>4.088358</td>\n      <td>0.670644</td>\n      <td>3.508912</td>\n      <td>...</td>\n      <td>False</td>\n      <td>False</td>\n      <td>False</td>\n      <td>False</td>\n      <td>False</td>\n      <td>False</td>\n      <td>False</td>\n      <td>False</td>\n      <td>False</td>\n      <td>False</td>\n    </tr>\n    <tr>\n      <th>3</th>\n      <td>3</td>\n      <td>-1.299867</td>\n      <td>0.160037</td>\n      <td>0.698257</td>\n      <td>0.094336</td>\n      <td>4.830864</td>\n      <td>1.705320</td>\n      <td>4.096190</td>\n      <td>0.669738</td>\n      <td>3.513429</td>\n      <td>...</td>\n      <td>False</td>\n      <td>False</td>\n      <td>False</td>\n      <td>False</td>\n      <td>False</td>\n      <td>False</td>\n      <td>False</td>\n      <td>False</td>\n      <td>False</td>\n      <td>False</td>\n    </tr>\n    <tr>\n      <th>4</th>\n      <td>4</td>\n      <td>-1.176070</td>\n      <td>0.160022</td>\n      <td>0.698469</td>\n      <td>0.092439</td>\n      <td>4.829423</td>\n      <td>1.716069</td>\n      <td>4.099582</td>\n      <td>0.669260</td>\n      <td>3.515578</td>\n      <td>...</td>\n      <td>False</td>\n      <td>False</td>\n      <td>False</td>\n      <td>False</td>\n      <td>False</td>\n      <td>False</td>\n      <td>False</td>\n      <td>False</td>\n      <td>False</td>\n      <td>False</td>\n    </tr>\n    <tr>\n      <th>...</th>\n      <td>...</td>\n      <td>...</td>\n      <td>...</td>\n      <td>...</td>\n      <td>...</td>\n      <td>...</td>\n      <td>...</td>\n      <td>...</td>\n      <td>...</td>\n      <td>...</td>\n      <td>...</td>\n      <td>...</td>\n      <td>...</td>\n      <td>...</td>\n      <td>...</td>\n      <td>...</td>\n      <td>...</td>\n      <td>...</td>\n      <td>...</td>\n      <td>...</td>\n      <td>...</td>\n    </tr>\n    <tr>\n      <th>5483</th>\n      <td>5483</td>\n      <td>1.176070</td>\n      <td>0.155670</td>\n      <td>0.607993</td>\n      <td>0.117248</td>\n      <td>3.090168</td>\n      <td>0.766280</td>\n      <td>3.128192</td>\n      <td>1.515641</td>\n      <td>2.769193</td>\n      <td>...</td>\n      <td>False</td>\n      <td>False</td>\n      <td>False</td>\n      <td>False</td>\n      <td>False</td>\n      <td>False</td>\n      <td>False</td>\n      <td>False</td>\n      <td>False</td>\n      <td>True</td>\n    </tr>\n    <tr>\n      <th>5484</th>\n      <td>5484</td>\n      <td>1.299867</td>\n      <td>0.155993</td>\n      <td>0.608610</td>\n      <td>0.118073</td>\n      <td>3.093964</td>\n      <td>0.768914</td>\n      <td>3.140290</td>\n      <td>1.515470</td>\n      <td>2.778101</td>\n      <td>...</td>\n      <td>False</td>\n      <td>False</td>\n      <td>False</td>\n      <td>False</td>\n      <td>False</td>\n      <td>False</td>\n      <td>False</td>\n      <td>False</td>\n      <td>False</td>\n      <td>True</td>\n    </tr>\n    <tr>\n      <th>5485</th>\n      <td>5485</td>\n      <td>1.423664</td>\n      <td>0.156465</td>\n      <td>0.609363</td>\n      <td>0.119470</td>\n      <td>3.098687</td>\n      <td>0.771802</td>\n      <td>3.155710</td>\n      <td>1.514751</td>\n      <td>2.789152</td>\n      <td>...</td>\n      <td>False</td>\n      <td>False</td>\n      <td>False</td>\n      <td>False</td>\n      <td>False</td>\n      <td>False</td>\n      <td>False</td>\n      <td>False</td>\n      <td>False</td>\n      <td>True</td>\n    </tr>\n    <tr>\n      <th>5486</th>\n      <td>5486</td>\n      <td>1.547461</td>\n      <td>0.157111</td>\n      <td>0.610234</td>\n      <td>0.121456</td>\n      <td>3.104294</td>\n      <td>0.772275</td>\n      <td>3.174134</td>\n      <td>1.513269</td>\n      <td>2.799308</td>\n      <td>...</td>\n      <td>False</td>\n      <td>False</td>\n      <td>False</td>\n      <td>False</td>\n      <td>False</td>\n      <td>False</td>\n      <td>False</td>\n      <td>False</td>\n      <td>False</td>\n      <td>True</td>\n    </tr>\n    <tr>\n      <th>5487</th>\n      <td>5487</td>\n      <td>1.671258</td>\n      <td>0.157963</td>\n      <td>0.611242</td>\n      <td>0.124443</td>\n      <td>3.110926</td>\n      <td>0.772648</td>\n      <td>3.192789</td>\n      <td>1.510943</td>\n      <td>2.812022</td>\n      <td>...</td>\n      <td>False</td>\n      <td>False</td>\n      <td>False</td>\n      <td>False</td>\n      <td>False</td>\n      <td>False</td>\n      <td>False</td>\n      <td>False</td>\n      <td>False</td>\n      <td>True</td>\n    </tr>\n  </tbody>\n</table>\n<p>5488 rows × 418 columns</p>\n</div>"
     },
     "execution_count": 21,
     "metadata": {},
     "output_type": "execute_result"
    }
   ],
   "source": [
    "#standar scaler\n",
    "from sklearn.preprocessing import StandardScaler\n",
    "\n",
    "scaler = StandardScaler()\n",
    "datos_procesados_ecoding_scaled = datos_procesados_ecoding.copy()\n",
    "datos_procesados_ecoding_scaled['Year'] = scaler.fit_transform(datos_procesados_ecoding_scaled[['Year']])\n",
    "\n",
    "datos_procesados_ecoding_scaled"
   ],
   "id": "d4eff21b64956ad9"
  },
  {
   "cell_type": "code",
   "execution_count": 22,
   "id": "e46d8e10",
   "metadata": {
    "ExecuteTime": {
     "end_time": "2024-03-17T01:40:01.085112400Z",
     "start_time": "2024-03-17T01:40:00.911930100Z"
    }
   },
   "outputs": [],
   "source": [
    "from sklearn.cluster import KMeans\n",
    "from sklearn import metrics\n",
    "from sklearn.metrics import silhouette_samples, silhouette_score\n"
   ]
  },
  {
   "cell_type": "code",
   "execution_count": 23,
   "id": "6f0dc115",
   "metadata": {
    "ExecuteTime": {
     "end_time": "2024-03-17T01:40:31.549022800Z",
     "start_time": "2024-03-17T01:40:00.941274900Z"
    }
   },
   "outputs": [
    {
     "name": "stdout",
     "output_type": "stream",
     "text": [
      "For n_clusters = 2 The average silhouette_score is : 0.990636024417179\n",
      "    Cluster  0 : 0.990636024417179\n",
      "    Cluster  1 : 0.990636024417179\n",
      "For n_clusters = 3 The average silhouette_score is : 0.9723169125703224\n",
      "    Cluster  0 : 0.9723169125703224\n",
      "    Cluster  1 : 0.9723169125703224\n",
      "    Cluster  2 : 0.9723169125703224\n",
      "For n_clusters = 4 The average silhouette_score is : 0.9710444087975618\n",
      "    Cluster  0 : 0.9710444087975618\n",
      "    Cluster  1 : 0.9710444087975618\n",
      "    Cluster  2 : 0.9710444087975618\n",
      "    Cluster  3 : 0.9710444087975618\n",
      "For n_clusters = 5 The average silhouette_score is : 0.8497381806812192\n",
      "    Cluster  0 : 0.8497381806812192\n",
      "    Cluster  1 : 0.8497381806812192\n",
      "    Cluster  2 : 0.8497381806812192\n",
      "    Cluster  3 : 0.8497381806812192\n",
      "    Cluster  4 : 0.8497381806812192\n",
      "For n_clusters = 6 The average silhouette_score is : 0.8494792073847675\n",
      "    Cluster  0 : 0.8494792073847675\n",
      "    Cluster  1 : 0.8494792073847675\n",
      "    Cluster  2 : 0.8494792073847675\n",
      "    Cluster  3 : 0.8494792073847675\n",
      "    Cluster  4 : 0.8494792073847675\n",
      "    Cluster  5 : 0.8494792073847675\n",
      "For n_clusters = 7 The average silhouette_score is : 0.7673547570788427\n",
      "    Cluster  0 : 0.7673547570788427\n",
      "    Cluster  1 : 0.7673547570788427\n",
      "    Cluster  2 : 0.7673547570788427\n",
      "    Cluster  3 : 0.7673547570788427\n",
      "    Cluster  4 : 0.7673547570788427\n",
      "    Cluster  5 : 0.7673547570788427\n",
      "    Cluster  6 : 0.7673547570788427\n",
      "For n_clusters = 8 The average silhouette_score is : 0.7656162140439401\n",
      "    Cluster  0 : 0.7656162140439401\n",
      "    Cluster  1 : 0.7656162140439401\n",
      "    Cluster  2 : 0.7656162140439401\n",
      "    Cluster  3 : 0.7656162140439401\n",
      "    Cluster  4 : 0.7656162140439401\n",
      "    Cluster  5 : 0.7656162140439401\n",
      "    Cluster  6 : 0.7656162140439401\n",
      "    Cluster  7 : 0.7656162140439401\n",
      "For n_clusters = 9 The average silhouette_score is : 0.7654072048700832\n",
      "    Cluster  0 : 0.7654072048700832\n",
      "    Cluster  1 : 0.7654072048700832\n",
      "    Cluster  2 : 0.7654072048700832\n",
      "    Cluster  3 : 0.7654072048700832\n",
      "    Cluster  4 : 0.7654072048700832\n",
      "    Cluster  5 : 0.7654072048700832\n",
      "    Cluster  6 : 0.7654072048700832\n",
      "    Cluster  7 : 0.7654072048700832\n",
      "    Cluster  8 : 0.7654072048700832\n"
     ]
    }
   ],
   "source": [
    "#aplicacion coeficiente de silueta\n",
    "range_n_clusters = list (range(2,10))\n",
    "for n_clusters in range_n_clusters:\n",
    "    clusterer = KMeans(n_clusters=n_clusters, random_state=10)\n",
    "    cluster_labels = clusterer.fit_predict(datos_procesados_ecoding)\n",
    "    silhouette_avg = silhouette_score(datos_procesados_ecoding, cluster_labels)\n",
    "    print(\"For n_clusters =\", n_clusters,\n",
    "          \"The average silhouette_score is :\", silhouette_avg) \n",
    "    for cluster in range(0, n_clusters):\n",
    "        cluster_silhouette_values = silhouette_samples(datos_procesados_ecoding, cluster_labels)\n",
    "        print(\"    Cluster \", cluster, \":\", np.mean(cluster_silhouette_values))"
   ]
  },
  {
   "cell_type": "markdown",
   "id": "7c92ad9c",
   "metadata": {},
   "source": [
    "### Representación del codo para el k óptimo"
   ]
  },
  {
   "cell_type": "code",
   "execution_count": 24,
   "id": "4f45798b",
   "metadata": {
    "ExecuteTime": {
     "end_time": "2024-03-17T01:40:39.744308300Z",
     "start_time": "2024-03-17T01:40:31.535426800Z"
    }
   },
   "outputs": [
    {
     "name": "stderr",
     "output_type": "stream",
     "text": [
      "C:\\Users\\marka\\AppData\\Local\\Temp\\ipykernel_215416\\3741248093.py:25: UserWarning: FigureCanvasAgg is non-interactive, and thus cannot be shown\n",
      "  plt.show()\n"
     ]
    }
   ],
   "source": [
    "#representación del codo\n",
    "from kneed import KneeLocator\n",
    "kmeans_kwargs = {\n",
    "    \"init\": \"random\",\n",
    "    \"n_init\": 10,\n",
    "    \"max_iter\": 300,\n",
    "    \"random_state\": 42,\n",
    "}\n",
    "\n",
    "# Creamos una lista para almacenar los valores de WCSS\n",
    "\n",
    "wcss = []\n",
    "\n",
    "for i in range(1, 11):\n",
    "    kmeans = KMeans(n_clusters=i, **kmeans_kwargs)\n",
    "    kmeans.fit(datos_procesados_ecoding)\n",
    "    wcss.append(kmeans.inertia_)\n",
    "\n",
    "plt.figure(figsize=(10,5))\n",
    "plt.plot(range(1, 11), wcss, marker='o', linestyle='--')\n",
    "\n",
    "plt.title('Elbow Method')\n",
    "plt.xlabel('Number of clusters')\n",
    "plt.ylabel('WCSS')\n",
    "plt.show()\n"
   ]
  },
  {
   "cell_type": "markdown",
   "metadata": {},
   "source": [
    "### Clustering con K-means"
   ],
   "id": "ae515ac47fd329b"
  },
  {
   "cell_type": "code",
   "execution_count": 25,
   "metadata": {
    "ExecuteTime": {
     "end_time": "2024-03-17T01:40:40.263423500Z",
     "start_time": "2024-03-17T01:40:39.743304300Z"
    }
   },
   "outputs": [],
   "source": [
    "from sklearn.cluster import KMeans\n",
    "\n",
    "kmeans = KMeans(n_clusters=3, random_state=0)\n",
    "kmeans.fit(datos_procesados_ecoding)\n",
    "\n",
    "clusters_identificados = kmeans.predict(datos_procesados_ecoding)"
   ],
   "id": "859046fc3b67dbfb"
  },
  {
   "cell_type": "code",
   "execution_count": 26,
   "metadata": {
    "ExecuteTime": {
     "end_time": "2024-03-17T01:40:40.275774600Z",
     "start_time": "2024-03-17T01:40:40.261978900Z"
    }
   },
   "outputs": [
    {
     "data": {
      "text/plain": "   Unnamed: 0  Year  Schizophrenia (%)  Bipolar disorder (%)  \\\n0           0  1990           0.160560              0.697779   \n1           1  1991           0.160312              0.697961   \n2           2  1992           0.160135              0.698107   \n3           3  1993           0.160037              0.698257   \n4           4  1994           0.160022              0.698469   \n\n   Eating disorders (%)  Anxiety disorders (%)  Drug use disorders (%)  \\\n0              0.101855               4.828830                1.677082   \n1              0.099313               4.829740                1.684746   \n2              0.096692               4.831108                1.694334   \n3              0.094336               4.830864                1.705320   \n4              0.092439               4.829423                1.716069   \n\n   Depression (%)  Alcohol use disorders (%)  Prevalence in males (%)  ...  \\\n0        4.071831                   0.672404                 3.499982  ...   \n1        4.079531                   0.671768                 3.503947  ...   \n2        4.088358                   0.670644                 3.508912  ...   \n3        4.096190                   0.669738                 3.513429  ...   \n4        4.099582                   0.669260                 3.515578  ...   \n\n   Code_VEN  Code_VIR  Code_VNM  Code_VUT  Code_WSM  Code_YEM  Code_ZAF  \\\n0     False     False     False     False     False     False     False   \n1     False     False     False     False     False     False     False   \n2     False     False     False     False     False     False     False   \n3     False     False     False     False     False     False     False   \n4     False     False     False     False     False     False     False   \n\n   Code_ZMB  Code_ZWE  Cluster  \n0     False     False        0  \n1     False     False        0  \n2     False     False        0  \n3     False     False        0  \n4     False     False        0  \n\n[5 rows x 419 columns]",
      "text/html": "<div>\n<style scoped>\n    .dataframe tbody tr th:only-of-type {\n        vertical-align: middle;\n    }\n\n    .dataframe tbody tr th {\n        vertical-align: top;\n    }\n\n    .dataframe thead th {\n        text-align: right;\n    }\n</style>\n<table border=\"1\" class=\"dataframe\">\n  <thead>\n    <tr style=\"text-align: right;\">\n      <th></th>\n      <th>Unnamed: 0</th>\n      <th>Year</th>\n      <th>Schizophrenia (%)</th>\n      <th>Bipolar disorder (%)</th>\n      <th>Eating disorders (%)</th>\n      <th>Anxiety disorders (%)</th>\n      <th>Drug use disorders (%)</th>\n      <th>Depression (%)</th>\n      <th>Alcohol use disorders (%)</th>\n      <th>Prevalence in males (%)</th>\n      <th>...</th>\n      <th>Code_VEN</th>\n      <th>Code_VIR</th>\n      <th>Code_VNM</th>\n      <th>Code_VUT</th>\n      <th>Code_WSM</th>\n      <th>Code_YEM</th>\n      <th>Code_ZAF</th>\n      <th>Code_ZMB</th>\n      <th>Code_ZWE</th>\n      <th>Cluster</th>\n    </tr>\n  </thead>\n  <tbody>\n    <tr>\n      <th>0</th>\n      <td>0</td>\n      <td>1990</td>\n      <td>0.160560</td>\n      <td>0.697779</td>\n      <td>0.101855</td>\n      <td>4.828830</td>\n      <td>1.677082</td>\n      <td>4.071831</td>\n      <td>0.672404</td>\n      <td>3.499982</td>\n      <td>...</td>\n      <td>False</td>\n      <td>False</td>\n      <td>False</td>\n      <td>False</td>\n      <td>False</td>\n      <td>False</td>\n      <td>False</td>\n      <td>False</td>\n      <td>False</td>\n      <td>0</td>\n    </tr>\n    <tr>\n      <th>1</th>\n      <td>1</td>\n      <td>1991</td>\n      <td>0.160312</td>\n      <td>0.697961</td>\n      <td>0.099313</td>\n      <td>4.829740</td>\n      <td>1.684746</td>\n      <td>4.079531</td>\n      <td>0.671768</td>\n      <td>3.503947</td>\n      <td>...</td>\n      <td>False</td>\n      <td>False</td>\n      <td>False</td>\n      <td>False</td>\n      <td>False</td>\n      <td>False</td>\n      <td>False</td>\n      <td>False</td>\n      <td>False</td>\n      <td>0</td>\n    </tr>\n    <tr>\n      <th>2</th>\n      <td>2</td>\n      <td>1992</td>\n      <td>0.160135</td>\n      <td>0.698107</td>\n      <td>0.096692</td>\n      <td>4.831108</td>\n      <td>1.694334</td>\n      <td>4.088358</td>\n      <td>0.670644</td>\n      <td>3.508912</td>\n      <td>...</td>\n      <td>False</td>\n      <td>False</td>\n      <td>False</td>\n      <td>False</td>\n      <td>False</td>\n      <td>False</td>\n      <td>False</td>\n      <td>False</td>\n      <td>False</td>\n      <td>0</td>\n    </tr>\n    <tr>\n      <th>3</th>\n      <td>3</td>\n      <td>1993</td>\n      <td>0.160037</td>\n      <td>0.698257</td>\n      <td>0.094336</td>\n      <td>4.830864</td>\n      <td>1.705320</td>\n      <td>4.096190</td>\n      <td>0.669738</td>\n      <td>3.513429</td>\n      <td>...</td>\n      <td>False</td>\n      <td>False</td>\n      <td>False</td>\n      <td>False</td>\n      <td>False</td>\n      <td>False</td>\n      <td>False</td>\n      <td>False</td>\n      <td>False</td>\n      <td>0</td>\n    </tr>\n    <tr>\n      <th>4</th>\n      <td>4</td>\n      <td>1994</td>\n      <td>0.160022</td>\n      <td>0.698469</td>\n      <td>0.092439</td>\n      <td>4.829423</td>\n      <td>1.716069</td>\n      <td>4.099582</td>\n      <td>0.669260</td>\n      <td>3.515578</td>\n      <td>...</td>\n      <td>False</td>\n      <td>False</td>\n      <td>False</td>\n      <td>False</td>\n      <td>False</td>\n      <td>False</td>\n      <td>False</td>\n      <td>False</td>\n      <td>False</td>\n      <td>0</td>\n    </tr>\n  </tbody>\n</table>\n<p>5 rows × 419 columns</p>\n</div>"
     },
     "execution_count": 26,
     "metadata": {},
     "output_type": "execute_result"
    }
   ],
   "source": [
    "datos_con_clusters = datos_procesados_ecoding.copy()\n",
    "datos_con_clusters['Cluster'] = clusters_identificados\n",
    "datos_con_clusters.head()"
   ],
   "id": "a6f15b25c2d31e3f"
  },
  {
   "cell_type": "code",
   "execution_count": 27,
   "metadata": {
    "ExecuteTime": {
     "end_time": "2024-03-17T01:40:40.283012600Z",
     "start_time": "2024-03-17T01:40:40.274775500Z"
    }
   },
   "outputs": [
    {
     "name": "stdout",
     "output_type": "stream",
     "text": [
      "Datos en el cluster 0: 5404\n",
      "Datos en el cluster 1: 28\n",
      "Datos en el cluster 2: 56\n"
     ]
    }
   ],
   "source": [
    "datos_cluster_0 = datos_con_clusters[datos_con_clusters['Cluster'] == 0]\n",
    "datos_cluster_1 = datos_con_clusters[datos_con_clusters['Cluster'] == 1]\n",
    "datos_cluster_2 = datos_con_clusters[datos_con_clusters['Cluster'] == 2]\n",
    "\n",
    "print(f\"Datos en el cluster 0: {datos_cluster_0.shape[0]}\\nDatos en el cluster 1: {datos_cluster_1.shape[0]}\\nDatos en el cluster 2: {datos_cluster_2.shape[0]}\")"
   ],
   "id": "8f4a2e88b67e18a7"
  },
  {
   "cell_type": "code",
   "execution_count": 28,
   "metadata": {
    "ExecuteTime": {
     "end_time": "2024-03-17T01:40:40.313839300Z",
     "start_time": "2024-03-17T01:40:40.284011400Z"
    }
   },
   "outputs": [
    {
     "data": {
      "text/plain": "   Unnamed: 0  Year  Schizophrenia (%)  Bipolar disorder (%)  \\\n0           0  1990           0.160560              0.697779   \n1           1  1991           0.160312              0.697961   \n2           2  1992           0.160135              0.698107   \n3           3  1993           0.160037              0.698257   \n4           4  1994           0.160022              0.698469   \n\n   Eating disorders (%)  Anxiety disorders (%)  Drug use disorders (%)  \\\n0              0.101855               4.828830                1.677082   \n1              0.099313               4.829740                1.684746   \n2              0.096692               4.831108                1.694334   \n3              0.094336               4.830864                1.705320   \n4              0.092439               4.829423                1.716069   \n\n   Depression (%)  Alcohol use disorders (%)  Prevalence in males (%)  ...  \\\n0        4.071831                   0.672404                 3.499982  ...   \n1        4.079531                   0.671768                 3.503947  ...   \n2        4.088358                   0.670644                 3.508912  ...   \n3        4.096190                   0.669738                 3.513429  ...   \n4        4.099582                   0.669260                 3.515578  ...   \n\n   Code_VEN  Code_VIR  Code_VNM  Code_VUT  Code_WSM  Code_YEM  Code_ZAF  \\\n0     False     False     False     False     False     False     False   \n1     False     False     False     False     False     False     False   \n2     False     False     False     False     False     False     False   \n3     False     False     False     False     False     False     False   \n4     False     False     False     False     False     False     False   \n\n   Code_ZMB  Code_ZWE  Cluster  \n0     False     False        0  \n1     False     False        0  \n2     False     False        0  \n3     False     False        0  \n4     False     False        0  \n\n[5 rows x 419 columns]",
      "text/html": "<div>\n<style scoped>\n    .dataframe tbody tr th:only-of-type {\n        vertical-align: middle;\n    }\n\n    .dataframe tbody tr th {\n        vertical-align: top;\n    }\n\n    .dataframe thead th {\n        text-align: right;\n    }\n</style>\n<table border=\"1\" class=\"dataframe\">\n  <thead>\n    <tr style=\"text-align: right;\">\n      <th></th>\n      <th>Unnamed: 0</th>\n      <th>Year</th>\n      <th>Schizophrenia (%)</th>\n      <th>Bipolar disorder (%)</th>\n      <th>Eating disorders (%)</th>\n      <th>Anxiety disorders (%)</th>\n      <th>Drug use disorders (%)</th>\n      <th>Depression (%)</th>\n      <th>Alcohol use disorders (%)</th>\n      <th>Prevalence in males (%)</th>\n      <th>...</th>\n      <th>Code_VEN</th>\n      <th>Code_VIR</th>\n      <th>Code_VNM</th>\n      <th>Code_VUT</th>\n      <th>Code_WSM</th>\n      <th>Code_YEM</th>\n      <th>Code_ZAF</th>\n      <th>Code_ZMB</th>\n      <th>Code_ZWE</th>\n      <th>Cluster</th>\n    </tr>\n  </thead>\n  <tbody>\n    <tr>\n      <th>0</th>\n      <td>0</td>\n      <td>1990</td>\n      <td>0.160560</td>\n      <td>0.697779</td>\n      <td>0.101855</td>\n      <td>4.828830</td>\n      <td>1.677082</td>\n      <td>4.071831</td>\n      <td>0.672404</td>\n      <td>3.499982</td>\n      <td>...</td>\n      <td>False</td>\n      <td>False</td>\n      <td>False</td>\n      <td>False</td>\n      <td>False</td>\n      <td>False</td>\n      <td>False</td>\n      <td>False</td>\n      <td>False</td>\n      <td>0</td>\n    </tr>\n    <tr>\n      <th>1</th>\n      <td>1</td>\n      <td>1991</td>\n      <td>0.160312</td>\n      <td>0.697961</td>\n      <td>0.099313</td>\n      <td>4.829740</td>\n      <td>1.684746</td>\n      <td>4.079531</td>\n      <td>0.671768</td>\n      <td>3.503947</td>\n      <td>...</td>\n      <td>False</td>\n      <td>False</td>\n      <td>False</td>\n      <td>False</td>\n      <td>False</td>\n      <td>False</td>\n      <td>False</td>\n      <td>False</td>\n      <td>False</td>\n      <td>0</td>\n    </tr>\n    <tr>\n      <th>2</th>\n      <td>2</td>\n      <td>1992</td>\n      <td>0.160135</td>\n      <td>0.698107</td>\n      <td>0.096692</td>\n      <td>4.831108</td>\n      <td>1.694334</td>\n      <td>4.088358</td>\n      <td>0.670644</td>\n      <td>3.508912</td>\n      <td>...</td>\n      <td>False</td>\n      <td>False</td>\n      <td>False</td>\n      <td>False</td>\n      <td>False</td>\n      <td>False</td>\n      <td>False</td>\n      <td>False</td>\n      <td>False</td>\n      <td>0</td>\n    </tr>\n    <tr>\n      <th>3</th>\n      <td>3</td>\n      <td>1993</td>\n      <td>0.160037</td>\n      <td>0.698257</td>\n      <td>0.094336</td>\n      <td>4.830864</td>\n      <td>1.705320</td>\n      <td>4.096190</td>\n      <td>0.669738</td>\n      <td>3.513429</td>\n      <td>...</td>\n      <td>False</td>\n      <td>False</td>\n      <td>False</td>\n      <td>False</td>\n      <td>False</td>\n      <td>False</td>\n      <td>False</td>\n      <td>False</td>\n      <td>False</td>\n      <td>0</td>\n    </tr>\n    <tr>\n      <th>4</th>\n      <td>4</td>\n      <td>1994</td>\n      <td>0.160022</td>\n      <td>0.698469</td>\n      <td>0.092439</td>\n      <td>4.829423</td>\n      <td>1.716069</td>\n      <td>4.099582</td>\n      <td>0.669260</td>\n      <td>3.515578</td>\n      <td>...</td>\n      <td>False</td>\n      <td>False</td>\n      <td>False</td>\n      <td>False</td>\n      <td>False</td>\n      <td>False</td>\n      <td>False</td>\n      <td>False</td>\n      <td>False</td>\n      <td>0</td>\n    </tr>\n  </tbody>\n</table>\n<p>5 rows × 419 columns</p>\n</div>"
     },
     "execution_count": 28,
     "metadata": {},
     "output_type": "execute_result"
    }
   ],
   "source": [
    "datos_cluster_0.head()"
   ],
   "id": "fcde110edf21b50e"
  },
  {
   "cell_type": "code",
   "execution_count": 29,
   "metadata": {
    "ExecuteTime": {
     "end_time": "2024-03-17T01:40:40.336338200Z",
     "start_time": "2024-03-17T01:40:40.296712700Z"
    }
   },
   "outputs": [
    {
     "data": {
      "text/plain": "      Unnamed: 0  Year  Schizophrenia (%)  Bipolar disorder (%)  \\\n5376        5376  1990           0.253503              0.585743   \n5377        5377  1991           0.253542              0.585990   \n5378        5378  1992           0.253580              0.586309   \n5379        5379  1993           0.253643              0.586637   \n5380        5380  1994           0.253700              0.586930   \n\n      Eating disorders (%)  Anxiety disorders (%)  Drug use disorders (%)  \\\n5376              0.177865               3.774653                0.900850   \n5377              0.178034               3.772760                0.900952   \n5378              0.178218               3.771018                0.901787   \n5379              0.178419               3.769860                0.903045   \n5380              0.178688               3.769128                0.904346   \n\n      Depression (%)  Alcohol use disorders (%)  Prevalence in males (%)  ...  \\\n5376        3.541656                   1.438494                 2.741715  ...   \n5377        3.545953                   1.444019                 2.747003  ...   \n5378        3.549090                   1.449593                 2.751733  ...   \n5379        3.550657                   1.454155                 2.755950  ...   \n5380        3.550852                   1.457587                 2.759427  ...   \n\n      Code_VEN  Code_VIR  Code_VNM  Code_VUT  Code_WSM  Code_YEM  Code_ZAF  \\\n5376     False     False     False     False     False     False     False   \n5377     False     False     False     False     False     False     False   \n5378     False     False     False     False     False     False     False   \n5379     False     False     False     False     False     False     False   \n5380     False     False     False     False     False     False     False   \n\n      Code_ZMB  Code_ZWE  Cluster  \n5376     False     False        1  \n5377     False     False        1  \n5378     False     False        1  \n5379     False     False        1  \n5380     False     False        1  \n\n[5 rows x 419 columns]",
      "text/html": "<div>\n<style scoped>\n    .dataframe tbody tr th:only-of-type {\n        vertical-align: middle;\n    }\n\n    .dataframe tbody tr th {\n        vertical-align: top;\n    }\n\n    .dataframe thead th {\n        text-align: right;\n    }\n</style>\n<table border=\"1\" class=\"dataframe\">\n  <thead>\n    <tr style=\"text-align: right;\">\n      <th></th>\n      <th>Unnamed: 0</th>\n      <th>Year</th>\n      <th>Schizophrenia (%)</th>\n      <th>Bipolar disorder (%)</th>\n      <th>Eating disorders (%)</th>\n      <th>Anxiety disorders (%)</th>\n      <th>Drug use disorders (%)</th>\n      <th>Depression (%)</th>\n      <th>Alcohol use disorders (%)</th>\n      <th>Prevalence in males (%)</th>\n      <th>...</th>\n      <th>Code_VEN</th>\n      <th>Code_VIR</th>\n      <th>Code_VNM</th>\n      <th>Code_VUT</th>\n      <th>Code_WSM</th>\n      <th>Code_YEM</th>\n      <th>Code_ZAF</th>\n      <th>Code_ZMB</th>\n      <th>Code_ZWE</th>\n      <th>Cluster</th>\n    </tr>\n  </thead>\n  <tbody>\n    <tr>\n      <th>5376</th>\n      <td>5376</td>\n      <td>1990</td>\n      <td>0.253503</td>\n      <td>0.585743</td>\n      <td>0.177865</td>\n      <td>3.774653</td>\n      <td>0.900850</td>\n      <td>3.541656</td>\n      <td>1.438494</td>\n      <td>2.741715</td>\n      <td>...</td>\n      <td>False</td>\n      <td>False</td>\n      <td>False</td>\n      <td>False</td>\n      <td>False</td>\n      <td>False</td>\n      <td>False</td>\n      <td>False</td>\n      <td>False</td>\n      <td>1</td>\n    </tr>\n    <tr>\n      <th>5377</th>\n      <td>5377</td>\n      <td>1991</td>\n      <td>0.253542</td>\n      <td>0.585990</td>\n      <td>0.178034</td>\n      <td>3.772760</td>\n      <td>0.900952</td>\n      <td>3.545953</td>\n      <td>1.444019</td>\n      <td>2.747003</td>\n      <td>...</td>\n      <td>False</td>\n      <td>False</td>\n      <td>False</td>\n      <td>False</td>\n      <td>False</td>\n      <td>False</td>\n      <td>False</td>\n      <td>False</td>\n      <td>False</td>\n      <td>1</td>\n    </tr>\n    <tr>\n      <th>5378</th>\n      <td>5378</td>\n      <td>1992</td>\n      <td>0.253580</td>\n      <td>0.586309</td>\n      <td>0.178218</td>\n      <td>3.771018</td>\n      <td>0.901787</td>\n      <td>3.549090</td>\n      <td>1.449593</td>\n      <td>2.751733</td>\n      <td>...</td>\n      <td>False</td>\n      <td>False</td>\n      <td>False</td>\n      <td>False</td>\n      <td>False</td>\n      <td>False</td>\n      <td>False</td>\n      <td>False</td>\n      <td>False</td>\n      <td>1</td>\n    </tr>\n    <tr>\n      <th>5379</th>\n      <td>5379</td>\n      <td>1993</td>\n      <td>0.253643</td>\n      <td>0.586637</td>\n      <td>0.178419</td>\n      <td>3.769860</td>\n      <td>0.903045</td>\n      <td>3.550657</td>\n      <td>1.454155</td>\n      <td>2.755950</td>\n      <td>...</td>\n      <td>False</td>\n      <td>False</td>\n      <td>False</td>\n      <td>False</td>\n      <td>False</td>\n      <td>False</td>\n      <td>False</td>\n      <td>False</td>\n      <td>False</td>\n      <td>1</td>\n    </tr>\n    <tr>\n      <th>5380</th>\n      <td>5380</td>\n      <td>1994</td>\n      <td>0.253700</td>\n      <td>0.586930</td>\n      <td>0.178688</td>\n      <td>3.769128</td>\n      <td>0.904346</td>\n      <td>3.550852</td>\n      <td>1.457587</td>\n      <td>2.759427</td>\n      <td>...</td>\n      <td>False</td>\n      <td>False</td>\n      <td>False</td>\n      <td>False</td>\n      <td>False</td>\n      <td>False</td>\n      <td>False</td>\n      <td>False</td>\n      <td>False</td>\n      <td>1</td>\n    </tr>\n  </tbody>\n</table>\n<p>5 rows × 419 columns</p>\n</div>"
     },
     "execution_count": 29,
     "metadata": {},
     "output_type": "execute_result"
    }
   ],
   "source": [
    "datos_cluster_1.head()"
   ],
   "id": "e24671397aa7ca4b"
  },
  {
   "cell_type": "code",
   "execution_count": 30,
   "metadata": {
    "ExecuteTime": {
     "end_time": "2024-03-17T01:40:40.447448Z",
     "start_time": "2024-03-17T01:40:40.310799200Z"
    }
   },
   "outputs": [
    {
     "data": {
      "text/plain": "      Unnamed: 0  Year  Schizophrenia (%)  Bipolar disorder (%)  \\\n1036        1036  1990           0.318924              0.314535   \n1037        1037  1991           0.319391              0.314987   \n1038        1038  1992           0.319878              0.315466   \n1039        1039  1993           0.320381              0.315961   \n1040        1040  1994           0.320883              0.316452   \n\n      Eating disorders (%)  Anxiety disorders (%)  Drug use disorders (%)  \\\n1036              0.085918               3.128626                1.147397   \n1037              0.087021               3.132286                1.155388   \n1038              0.088183               3.137312                1.161280   \n1039              0.089405               3.143258                1.165176   \n1040              0.090790               3.149544                1.167726   \n\n      Depression (%)  Alcohol use disorders (%)  Prevalence in males (%)  ...  \\\n1036        3.573966                   0.981807                 2.674116  ...   \n1037        3.572288                   1.006175                 2.682025  ...   \n1038        3.568730                   1.030312                 2.688792  ...   \n1039        3.562113                   1.052846                 2.692819  ...   \n1040        3.551869                   1.072373                 2.693938  ...   \n\n      Code_VEN  Code_VIR  Code_VNM  Code_VUT  Code_WSM  Code_YEM  Code_ZAF  \\\n1036     False     False     False     False     False     False     False   \n1037     False     False     False     False     False     False     False   \n1038     False     False     False     False     False     False     False   \n1039     False     False     False     False     False     False     False   \n1040     False     False     False     False     False     False     False   \n\n      Code_ZMB  Code_ZWE  Cluster  \n1036     False     False        2  \n1037     False     False        2  \n1038     False     False        2  \n1039     False     False        2  \n1040     False     False        2  \n\n[5 rows x 419 columns]",
      "text/html": "<div>\n<style scoped>\n    .dataframe tbody tr th:only-of-type {\n        vertical-align: middle;\n    }\n\n    .dataframe tbody tr th {\n        vertical-align: top;\n    }\n\n    .dataframe thead th {\n        text-align: right;\n    }\n</style>\n<table border=\"1\" class=\"dataframe\">\n  <thead>\n    <tr style=\"text-align: right;\">\n      <th></th>\n      <th>Unnamed: 0</th>\n      <th>Year</th>\n      <th>Schizophrenia (%)</th>\n      <th>Bipolar disorder (%)</th>\n      <th>Eating disorders (%)</th>\n      <th>Anxiety disorders (%)</th>\n      <th>Drug use disorders (%)</th>\n      <th>Depression (%)</th>\n      <th>Alcohol use disorders (%)</th>\n      <th>Prevalence in males (%)</th>\n      <th>...</th>\n      <th>Code_VEN</th>\n      <th>Code_VIR</th>\n      <th>Code_VNM</th>\n      <th>Code_VUT</th>\n      <th>Code_WSM</th>\n      <th>Code_YEM</th>\n      <th>Code_ZAF</th>\n      <th>Code_ZMB</th>\n      <th>Code_ZWE</th>\n      <th>Cluster</th>\n    </tr>\n  </thead>\n  <tbody>\n    <tr>\n      <th>1036</th>\n      <td>1036</td>\n      <td>1990</td>\n      <td>0.318924</td>\n      <td>0.314535</td>\n      <td>0.085918</td>\n      <td>3.128626</td>\n      <td>1.147397</td>\n      <td>3.573966</td>\n      <td>0.981807</td>\n      <td>2.674116</td>\n      <td>...</td>\n      <td>False</td>\n      <td>False</td>\n      <td>False</td>\n      <td>False</td>\n      <td>False</td>\n      <td>False</td>\n      <td>False</td>\n      <td>False</td>\n      <td>False</td>\n      <td>2</td>\n    </tr>\n    <tr>\n      <th>1037</th>\n      <td>1037</td>\n      <td>1991</td>\n      <td>0.319391</td>\n      <td>0.314987</td>\n      <td>0.087021</td>\n      <td>3.132286</td>\n      <td>1.155388</td>\n      <td>3.572288</td>\n      <td>1.006175</td>\n      <td>2.682025</td>\n      <td>...</td>\n      <td>False</td>\n      <td>False</td>\n      <td>False</td>\n      <td>False</td>\n      <td>False</td>\n      <td>False</td>\n      <td>False</td>\n      <td>False</td>\n      <td>False</td>\n      <td>2</td>\n    </tr>\n    <tr>\n      <th>1038</th>\n      <td>1038</td>\n      <td>1992</td>\n      <td>0.319878</td>\n      <td>0.315466</td>\n      <td>0.088183</td>\n      <td>3.137312</td>\n      <td>1.161280</td>\n      <td>3.568730</td>\n      <td>1.030312</td>\n      <td>2.688792</td>\n      <td>...</td>\n      <td>False</td>\n      <td>False</td>\n      <td>False</td>\n      <td>False</td>\n      <td>False</td>\n      <td>False</td>\n      <td>False</td>\n      <td>False</td>\n      <td>False</td>\n      <td>2</td>\n    </tr>\n    <tr>\n      <th>1039</th>\n      <td>1039</td>\n      <td>1993</td>\n      <td>0.320381</td>\n      <td>0.315961</td>\n      <td>0.089405</td>\n      <td>3.143258</td>\n      <td>1.165176</td>\n      <td>3.562113</td>\n      <td>1.052846</td>\n      <td>2.692819</td>\n      <td>...</td>\n      <td>False</td>\n      <td>False</td>\n      <td>False</td>\n      <td>False</td>\n      <td>False</td>\n      <td>False</td>\n      <td>False</td>\n      <td>False</td>\n      <td>False</td>\n      <td>2</td>\n    </tr>\n    <tr>\n      <th>1040</th>\n      <td>1040</td>\n      <td>1994</td>\n      <td>0.320883</td>\n      <td>0.316452</td>\n      <td>0.090790</td>\n      <td>3.149544</td>\n      <td>1.167726</td>\n      <td>3.551869</td>\n      <td>1.072373</td>\n      <td>2.693938</td>\n      <td>...</td>\n      <td>False</td>\n      <td>False</td>\n      <td>False</td>\n      <td>False</td>\n      <td>False</td>\n      <td>False</td>\n      <td>False</td>\n      <td>False</td>\n      <td>False</td>\n      <td>2</td>\n    </tr>\n  </tbody>\n</table>\n<p>5 rows × 419 columns</p>\n</div>"
     },
     "execution_count": 30,
     "metadata": {},
     "output_type": "execute_result"
    }
   ],
   "source": [
    "datos_cluster_2.head()"
   ],
   "id": "324000ebdc7975d2"
  },
  {
   "cell_type": "markdown",
   "metadata": {},
   "source": [
    "#### Profilers"
   ],
   "id": "256d7f081edab0e6"
  }
 ],
 "metadata": {
  "kernelspec": {
   "display_name": "Python 3",
   "language": "python",
   "name": "python3"
  },
  "language_info": {
   "codemirror_mode": {
    "name": "ipython",
    "version": 3
   },
   "file_extension": ".py",
   "mimetype": "text/x-python",
   "name": "python",
   "nbconvert_exporter": "python",
   "pygments_lexer": "ipython3",
   "version": "3.11.7"
  }
 },
 "nbformat": 4,
 "nbformat_minor": 5
}
