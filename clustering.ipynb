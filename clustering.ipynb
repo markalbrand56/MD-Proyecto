{
 "cells": [
  {
   "cell_type": "code",
   "execution_count": 1,
   "id": "initial_id",
   "metadata": {
    "collapsed": true,
    "ExecuteTime": {
     "end_time": "2024-03-16T23:14:42.619965Z",
     "start_time": "2024-03-16T23:14:42.616944300Z"
    }
   },
   "outputs": [],
   "source": [
    "import numpy as np\n",
    "import matplotlib.pyplot as plt\n",
    "import pandas as pd\n",
    "import seaborn as sns\n",
    "\n",
    "# ignore all FutureWarnings\n",
    "import warnings\n",
    "warnings.simplefilter(action='ignore', category=FutureWarning)"
   ]
  },
  {
   "cell_type": "code",
   "outputs": [
    {
     "data": {
      "text/plain": "   Unnamed: 0       Entity Code  Year  Schizophrenia (%)_x  \\\n0           0  Afghanistan  AFG  1990             0.160560   \n1           1  Afghanistan  AFG  1991             0.160312   \n2           2  Afghanistan  AFG  1992             0.160135   \n3           3  Afghanistan  AFG  1993             0.160037   \n4           4  Afghanistan  AFG  1994             0.160022   \n\n   Bipolar disorder (%)_x  Eating disorders (%)_x  Anxiety disorders (%)_x  \\\n0                0.697779                0.101855                 4.828830   \n1                0.697961                0.099313                 4.829740   \n2                0.698107                0.096692                 4.831108   \n3                0.698257                0.094336                 4.830864   \n4                0.698469                0.092439                 4.829423   \n\n   Drug use disorders (%)_x  Depression (%)_x  ...  Drug use disorders (%)_y  \\\n0                  1.677082          4.071831  ...                  1.677082   \n1                  1.684746          4.079531  ...                  1.684746   \n2                  1.694334          4.088358  ...                  1.694334   \n3                  1.705320          4.096190  ...                  1.705320   \n4                  1.716069          4.099582  ...                  1.716069   \n\n   Depression (%)_y  Alcohol use disorders (%)_y  Prevalence in males (%)  \\\n0          4.071831                     0.672404                 3.499982   \n1          4.079531                     0.671768                 3.503947   \n2          4.088358                     0.670644                 3.508912   \n3          4.096190                     0.669738                 3.513429   \n4          4.099582                     0.669260                 3.515578   \n\n   Prevalence in females (%)  Population_x  \\\n0                   4.647815    12412000.0   \n1                   4.655772    13299000.0   \n2                   4.662066    14486000.0   \n3                   4.669012    15817000.0   \n4                   4.673050    17076000.0   \n\n   Suicide rate (deaths per 100,000 individuals)  \\\n0                                      10.318504   \n1                                      10.327010   \n2                                      10.271411   \n3                                      10.376123   \n4                                      10.575915   \n\n   Depressive disorder rates (number suffering per 100,000)  Population_y  \\\n0                                        4039.755763           12412000.0   \n1                                        4046.256034           13299000.0   \n2                                        4053.709902           14486000.0   \n3                                        4060.203474           15817000.0   \n4                                        4062.290365           17076000.0   \n\n   Prevalence - Depressive disorders - Sex: Both - Age: All Ages (Number) (people suffering from depression)  \n0                                      318435.813670                                                          \n1                                      329044.773956                                                          \n2                                      382544.572895                                                          \n3                                      440381.507393                                                          \n4                                      456916.645489                                                          \n\n[5 rows x 25 columns]",
      "text/html": "<div>\n<style scoped>\n    .dataframe tbody tr th:only-of-type {\n        vertical-align: middle;\n    }\n\n    .dataframe tbody tr th {\n        vertical-align: top;\n    }\n\n    .dataframe thead th {\n        text-align: right;\n    }\n</style>\n<table border=\"1\" class=\"dataframe\">\n  <thead>\n    <tr style=\"text-align: right;\">\n      <th></th>\n      <th>Unnamed: 0</th>\n      <th>Entity</th>\n      <th>Code</th>\n      <th>Year</th>\n      <th>Schizophrenia (%)_x</th>\n      <th>Bipolar disorder (%)_x</th>\n      <th>Eating disorders (%)_x</th>\n      <th>Anxiety disorders (%)_x</th>\n      <th>Drug use disorders (%)_x</th>\n      <th>Depression (%)_x</th>\n      <th>...</th>\n      <th>Drug use disorders (%)_y</th>\n      <th>Depression (%)_y</th>\n      <th>Alcohol use disorders (%)_y</th>\n      <th>Prevalence in males (%)</th>\n      <th>Prevalence in females (%)</th>\n      <th>Population_x</th>\n      <th>Suicide rate (deaths per 100,000 individuals)</th>\n      <th>Depressive disorder rates (number suffering per 100,000)</th>\n      <th>Population_y</th>\n      <th>Prevalence - Depressive disorders - Sex: Both - Age: All Ages (Number) (people suffering from depression)</th>\n    </tr>\n  </thead>\n  <tbody>\n    <tr>\n      <th>0</th>\n      <td>0</td>\n      <td>Afghanistan</td>\n      <td>AFG</td>\n      <td>1990</td>\n      <td>0.160560</td>\n      <td>0.697779</td>\n      <td>0.101855</td>\n      <td>4.828830</td>\n      <td>1.677082</td>\n      <td>4.071831</td>\n      <td>...</td>\n      <td>1.677082</td>\n      <td>4.071831</td>\n      <td>0.672404</td>\n      <td>3.499982</td>\n      <td>4.647815</td>\n      <td>12412000.0</td>\n      <td>10.318504</td>\n      <td>4039.755763</td>\n      <td>12412000.0</td>\n      <td>318435.813670</td>\n    </tr>\n    <tr>\n      <th>1</th>\n      <td>1</td>\n      <td>Afghanistan</td>\n      <td>AFG</td>\n      <td>1991</td>\n      <td>0.160312</td>\n      <td>0.697961</td>\n      <td>0.099313</td>\n      <td>4.829740</td>\n      <td>1.684746</td>\n      <td>4.079531</td>\n      <td>...</td>\n      <td>1.684746</td>\n      <td>4.079531</td>\n      <td>0.671768</td>\n      <td>3.503947</td>\n      <td>4.655772</td>\n      <td>13299000.0</td>\n      <td>10.327010</td>\n      <td>4046.256034</td>\n      <td>13299000.0</td>\n      <td>329044.773956</td>\n    </tr>\n    <tr>\n      <th>2</th>\n      <td>2</td>\n      <td>Afghanistan</td>\n      <td>AFG</td>\n      <td>1992</td>\n      <td>0.160135</td>\n      <td>0.698107</td>\n      <td>0.096692</td>\n      <td>4.831108</td>\n      <td>1.694334</td>\n      <td>4.088358</td>\n      <td>...</td>\n      <td>1.694334</td>\n      <td>4.088358</td>\n      <td>0.670644</td>\n      <td>3.508912</td>\n      <td>4.662066</td>\n      <td>14486000.0</td>\n      <td>10.271411</td>\n      <td>4053.709902</td>\n      <td>14486000.0</td>\n      <td>382544.572895</td>\n    </tr>\n    <tr>\n      <th>3</th>\n      <td>3</td>\n      <td>Afghanistan</td>\n      <td>AFG</td>\n      <td>1993</td>\n      <td>0.160037</td>\n      <td>0.698257</td>\n      <td>0.094336</td>\n      <td>4.830864</td>\n      <td>1.705320</td>\n      <td>4.096190</td>\n      <td>...</td>\n      <td>1.705320</td>\n      <td>4.096190</td>\n      <td>0.669738</td>\n      <td>3.513429</td>\n      <td>4.669012</td>\n      <td>15817000.0</td>\n      <td>10.376123</td>\n      <td>4060.203474</td>\n      <td>15817000.0</td>\n      <td>440381.507393</td>\n    </tr>\n    <tr>\n      <th>4</th>\n      <td>4</td>\n      <td>Afghanistan</td>\n      <td>AFG</td>\n      <td>1994</td>\n      <td>0.160022</td>\n      <td>0.698469</td>\n      <td>0.092439</td>\n      <td>4.829423</td>\n      <td>1.716069</td>\n      <td>4.099582</td>\n      <td>...</td>\n      <td>1.716069</td>\n      <td>4.099582</td>\n      <td>0.669260</td>\n      <td>3.515578</td>\n      <td>4.673050</td>\n      <td>17076000.0</td>\n      <td>10.575915</td>\n      <td>4062.290365</td>\n      <td>17076000.0</td>\n      <td>456916.645489</td>\n    </tr>\n  </tbody>\n</table>\n<p>5 rows × 25 columns</p>\n</div>"
     },
     "execution_count": 2,
     "metadata": {},
     "output_type": "execute_result"
    }
   ],
   "source": [
    "datos_procesados = pd.read_csv('merged_data.csv')\n",
    "datos_procesados.head()"
   ],
   "metadata": {
    "collapsed": false,
    "ExecuteTime": {
     "end_time": "2024-03-16T23:14:59.626941800Z",
     "start_time": "2024-03-16T23:14:59.595170700Z"
    }
   },
   "id": "c8b80edf4d3a237c",
   "execution_count": 2
  }
 ],
 "metadata": {
  "kernelspec": {
   "display_name": "Python 3",
   "language": "python",
   "name": "python3"
  },
  "language_info": {
   "codemirror_mode": {
    "name": "ipython",
    "version": 2
   },
   "file_extension": ".py",
   "mimetype": "text/x-python",
   "name": "python",
   "nbconvert_exporter": "python",
   "pygments_lexer": "ipython2",
   "version": "2.7.6"
  }
 },
 "nbformat": 4,
 "nbformat_minor": 5
}
