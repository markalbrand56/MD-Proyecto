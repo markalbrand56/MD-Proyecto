{
 "cells": [
  {
   "cell_type": "markdown",
   "id": "4ccb73dadf221e37",
   "metadata": {
    "collapsed": false
   },
   "source": [
    "# Resumen variables numéricas\n",
    "## number-with-depression-by-count"
   ]
  },
  {
   "cell_type": "code",
   "execution_count": 1,
   "id": "initial_id",
   "metadata": {
    "ExecuteTime": {
     "end_time": "2024-03-14T16:37:10.339731500Z",
     "start_time": "2024-03-14T16:37:10.327216200Z"
    },
    "collapsed": true
   },
   "outputs": [
    {
     "name": "stderr",
     "output_type": "stream",
     "text": [
      "C:\\Users\\PC\\AppData\\Local\\Temp\\ipykernel_6904\\561646326.py:3: DeprecationWarning: \n",
      "Pyarrow will become a required dependency of pandas in the next major release of pandas (pandas 3.0),\n",
      "(to allow more performant data types, such as the Arrow string type, and better interoperability with other libraries)\n",
      "but was not found to be installed on your system.\n",
      "If this would cause problems for you,\n",
      "please provide us feedback at https://github.com/pandas-dev/pandas/issues/54466\n",
      "        \n",
      "  import pandas as pd\n"
     ]
    }
   ],
   "source": [
    "import numpy as np\n",
    "import matplotlib.pyplot as plt\n",
    "import pandas as pd\n",
    "import seaborn as sns\n",
    "\n",
    "# ignore all FutureWarnings\n",
    "import warnings\n",
    "warnings.simplefilter(action='ignore', category=FutureWarning)"
   ]
  },
  {
   "cell_type": "code",
   "execution_count": 2,
   "id": "49b1f770d4d196de",
   "metadata": {
    "ExecuteTime": {
     "end_time": "2024-03-14T16:37:16.956860500Z",
     "start_time": "2024-03-14T16:37:10.331733500Z"
    },
    "collapsed": false
   },
   "outputs": [],
   "source": [
    "# con pandas, leer une xlsx\n",
    "excel_file = pd.ExcelFile('Mental health Depression disorder Data (1).xlsx')\n",
    "\n",
    "# Sheet prevalence-by-mental-and-substa\n",
    "dfs = {}  # Diccionario para almacenar los DataFrames\n",
    "for sheet_name in excel_file.sheet_names:\n",
    "    dfs[sheet_name] = excel_file.parse(sheet_name)"
   ]
  },
  {
   "cell_type": "code",
   "execution_count": 3,
   "id": "f8d686e8e3a236b8",
   "metadata": {
    "ExecuteTime": {
     "end_time": "2024-03-14T16:37:16.960242500Z",
     "start_time": "2024-03-14T16:37:16.957859900Z"
    },
    "collapsed": false
   },
   "outputs": [],
   "source": [
    "# Sheet suicide-rates-vs-prevalence-of-\n",
    "depression_count = dfs['number-with-depression-by-count']"
   ]
  },
  {
   "cell_type": "code",
   "execution_count": 4,
   "id": "9026cdb4c0627c05",
   "metadata": {
    "ExecuteTime": {
     "end_time": "2024-03-14T16:53:34.812758600Z",
     "start_time": "2024-03-14T16:53:34.805211400Z"
    },
    "collapsed": false
   },
   "outputs": [
    {
     "data": {
      "text/html": [
       "<div>\n",
       "<style scoped>\n",
       "    .dataframe tbody tr th:only-of-type {\n",
       "        vertical-align: middle;\n",
       "    }\n",
       "\n",
       "    .dataframe tbody tr th {\n",
       "        vertical-align: top;\n",
       "    }\n",
       "\n",
       "    .dataframe thead th {\n",
       "        text-align: right;\n",
       "    }\n",
       "</style>\n",
       "<table border=\"1\" class=\"dataframe\">\n",
       "  <thead>\n",
       "    <tr style=\"text-align: right;\">\n",
       "      <th></th>\n",
       "      <th>Entity</th>\n",
       "      <th>Code</th>\n",
       "      <th>Year</th>\n",
       "      <th>Prevalence - Depressive disorders - Sex: Both - Age: All Ages (Number) (people suffering from depression)</th>\n",
       "    </tr>\n",
       "  </thead>\n",
       "  <tbody>\n",
       "    <tr>\n",
       "      <th>0</th>\n",
       "      <td>Afghanistan</td>\n",
       "      <td>AFG</td>\n",
       "      <td>1990</td>\n",
       "      <td>318435.813670</td>\n",
       "    </tr>\n",
       "    <tr>\n",
       "      <th>1</th>\n",
       "      <td>Afghanistan</td>\n",
       "      <td>AFG</td>\n",
       "      <td>1991</td>\n",
       "      <td>329044.773956</td>\n",
       "    </tr>\n",
       "    <tr>\n",
       "      <th>2</th>\n",
       "      <td>Afghanistan</td>\n",
       "      <td>AFG</td>\n",
       "      <td>1992</td>\n",
       "      <td>382544.572895</td>\n",
       "    </tr>\n",
       "    <tr>\n",
       "      <th>3</th>\n",
       "      <td>Afghanistan</td>\n",
       "      <td>AFG</td>\n",
       "      <td>1993</td>\n",
       "      <td>440381.507393</td>\n",
       "    </tr>\n",
       "    <tr>\n",
       "      <th>4</th>\n",
       "      <td>Afghanistan</td>\n",
       "      <td>AFG</td>\n",
       "      <td>1994</td>\n",
       "      <td>456916.645489</td>\n",
       "    </tr>\n",
       "  </tbody>\n",
       "</table>\n",
       "</div>"
      ],
      "text/plain": [
       "        Entity Code  Year  \\\n",
       "0  Afghanistan  AFG  1990   \n",
       "1  Afghanistan  AFG  1991   \n",
       "2  Afghanistan  AFG  1992   \n",
       "3  Afghanistan  AFG  1993   \n",
       "4  Afghanistan  AFG  1994   \n",
       "\n",
       "   Prevalence - Depressive disorders - Sex: Both - Age: All Ages (Number) (people suffering from depression)  \n",
       "0                                      318435.813670                                                          \n",
       "1                                      329044.773956                                                          \n",
       "2                                      382544.572895                                                          \n",
       "3                                      440381.507393                                                          \n",
       "4                                      456916.645489                                                          "
      ]
     },
     "execution_count": 4,
     "metadata": {},
     "output_type": "execute_result"
    }
   ],
   "source": [
    "depression_count = depression_count.dropna()\n",
    "depression_count.head()"
   ]
  },
  {
   "cell_type": "markdown",
   "id": "551be2d675be9986",
   "metadata": {
    "collapsed": false
   },
   "source": [
    "### Variables numéricas"
   ]
  },
  {
   "cell_type": "code",
   "execution_count": 5,
   "id": "219e51d4f2912094",
   "metadata": {
    "ExecuteTime": {
     "end_time": "2024-03-14T16:49:38.254373500Z",
     "start_time": "2024-03-14T16:49:38.243976100Z"
    },
    "collapsed": false
   },
   "outputs": [
    {
     "data": {
      "text/plain": [
       "Entity                                                                                                        object\n",
       "Code                                                                                                          object\n",
       "Year                                                                                                           int64\n",
       "Prevalence - Depressive disorders - Sex: Both - Age: All Ages (Number) (people suffering from depression)    float64\n",
       "dtype: object"
      ]
     },
     "execution_count": 5,
     "metadata": {},
     "output_type": "execute_result"
    }
   ],
   "source": [
    "depression_count.dtypes"
   ]
  },
  {
   "cell_type": "markdown",
   "id": "baab3fa77f36a748",
   "metadata": {
    "collapsed": false
   },
   "source": [
    "| Nombre                    | Tipo de Dato | Tipo de variable      |\n",
    "|---------------------------|--------------|-----------------------|\n",
    "| Entity                    | object       | Cualitativa Nominal   |\n",
    "| Code                      | object       | Cualitativa Nominal   |\n",
    "| Year                      | int64        | Cuantitativa Discreta |\n",
    "| Prevalence - Depressive disorders - Sex: Both - Age: All Ages (Number) (people suffering from depression)         | float64      | Cuantitativa Continua |\n"
   ]
  },
  {
   "cell_type": "markdown",
   "id": "2d3e6e6f9ee68458",
   "metadata": {
    "collapsed": false
   },
   "source": [
    "### Análisis de dispersión de las variables numéricas"
   ]
  },
  {
   "cell_type": "code",
   "execution_count": 11,
   "id": "adeee003",
   "metadata": {},
   "outputs": [
    {
     "data": {
      "image/png": "[encoded data removed]",
      "text/plain": [
       "<Figure size 1000x600 with 1 Axes>"
      ]
     },
     "metadata": {},
     "output_type": "display_data"
    }
   ],
   "source": [
    "plt.figure(figsize=(10, 6))\n",
    "sns.boxplot(data=depression_count[['Prevalence - Depressive disorders - Sex: Both - Age: All Ages (Number) (people suffering from depression)']])\n",
    "plt.title('Diagrama de Caja y Bigotes')\n",
    "plt.show()"
   ]
  },
  {
   "cell_type": "markdown",
   "id": "119b30e06529c39f",
   "metadata": {
    "collapsed": false
   },
   "source": [
    "Con el diagrama anterior se puede observar que la variable analizada tiene una gran dispersión."
   ]
  },
  {
   "cell_type": "markdown",
   "id": "748da791340fec60",
   "metadata": {
    "collapsed": false
   },
   "source": [
    "### Análisis de variables cuantitativas"
   ]
  },
  {
   "cell_type": "markdown",
   "id": "ace424814fe1a51d",
   "metadata": {
    "collapsed": false
   },
   "source": [
    "#### Histogramas"
   ]
  },
  {
   "cell_type": "markdown",
   "id": "787fcce1",
   "metadata": {},
   "source": [
    "##### Año\n",
    "Tipo de distribución: Uniforme"
   ]
  },
  {
   "cell_type": "code",
   "execution_count": 11,
   "id": "e43a0175",
   "metadata": {},
   "outputs": [
    {
     "data": {
      "image/png": "[encoded data removed]",
      "text/plain": [
       "<Figure size 640x480 with 1 Axes>"
      ]
     },
     "metadata": {},
     "output_type": "display_data"
    }
   ],
   "source": [
    "# suicide rate\n",
    "plt.hist(depression_count['Year'], bins=10)\n",
    "plt.title('Histograma de Año')\n",
    "plt.show()"
   ]
  },
  {
   "cell_type": "markdown",
   "id": "ce5be473fd8a33b7",
   "metadata": {
    "collapsed": false
   },
   "source": [
    "##### Prevalencia de Depresión\n",
    "Tipo de distribución: Asimétrica Positiva"
   ]
  },
  {
   "cell_type": "code",
   "execution_count": 14,
   "id": "7ab1aef85c782497",
   "metadata": {
    "ExecuteTime": {
     "end_time": "2024-03-14T16:55:25.671835Z",
     "start_time": "2024-03-14T16:55:25.574433300Z"
    },
    "collapsed": false
   },
   "outputs": [
    {
     "data": {
      "image/png": "[encoded data removed]",
      "text/plain": [
       "<Figure size 640x480 with 1 Axes>"
      ]
     },
     "metadata": {},
     "output_type": "display_data"
    }
   ],
   "source": [
    "# suicide rate\n",
    "plt.hist(depression_count['Prevalence - Depressive disorders - Sex: Both - Age: All Ages (Number) (people suffering from depression)'], bins=10)\n",
    "plt.title('Histograma de la Prevalencia de Depresión por Conteo')\n",
    "plt.show()"
   ]
  },
  {
   "cell_type": "markdown",
   "id": "102849418bcae46f",
   "metadata": {
    "collapsed": false
   },
   "source": [
    "#### Análisis de correlación\n"
   ]
  },
  {
   "cell_type": "code",
   "execution_count": 15,
   "id": "2205bd1463337078",
   "metadata": {
    "ExecuteTime": {
     "end_time": "2024-03-14T17:08:55.737277800Z",
     "start_time": "2024-03-14T17:08:55.728154600Z"
    },
    "collapsed": false
   },
   "outputs": [
    {
     "data": {
      "text/html": [
       "<div>\n",
       "<style scoped>\n",
       "    .dataframe tbody tr th:only-of-type {\n",
       "        vertical-align: middle;\n",
       "    }\n",
       "\n",
       "    .dataframe tbody tr th {\n",
       "        vertical-align: top;\n",
       "    }\n",
       "\n",
       "    .dataframe thead th {\n",
       "        text-align: right;\n",
       "    }\n",
       "</style>\n",
       "<table border=\"1\" class=\"dataframe\">\n",
       "  <thead>\n",
       "    <tr style=\"text-align: right;\">\n",
       "      <th></th>\n",
       "      <th>Prevalence - Depressive disorders - Sex: Both - Age: All Ages (Number) (people suffering from depression)</th>\n",
       "    </tr>\n",
       "  </thead>\n",
       "  <tbody>\n",
       "    <tr>\n",
       "      <th>Prevalence - Depressive disorders - Sex: Both - Age: All Ages (Number) (people suffering from depression)</th>\n",
       "      <td>1.0</td>\n",
       "    </tr>\n",
       "  </tbody>\n",
       "</table>\n",
       "</div>"
      ],
      "text/plain": [
       "                                                    Prevalence - Depressive disorders - Sex: Both - Age: All Ages (Number) (people suffering from depression)\n",
       "Prevalence - Depressive disorders - Sex: Both -...                                                1.0                                                        "
      ]
     },
     "execution_count": 15,
     "metadata": {},
     "output_type": "execute_result"
    }
   ],
   "source": [
    "matriz_correlacion_pms = depression_count[['Prevalence - Depressive disorders - Sex: Both - Age: All Ages (Number) (people suffering from depression)']].corr()\n",
    "\n",
    "matriz_correlacion_pms"
   ]
  },
  {
   "cell_type": "markdown",
   "id": "58e081612fdf5c01",
   "metadata": {
    "collapsed": false
   },
   "source": [
    "### Análisis de variables cualitativas"
   ]
  },
  {
   "cell_type": "markdown",
   "id": "cba35325c9a24f19",
   "metadata": {
    "collapsed": false
   },
   "source": [
    "#### Tablas de frecuencia"
   ]
  },
  {
   "cell_type": "markdown",
   "id": "e2373194a5071755",
   "metadata": {
    "collapsed": false
   },
   "source": [
    "##### Entity"
   ]
  },
  {
   "cell_type": "code",
   "execution_count": 35,
   "id": "b640163e393afa16",
   "metadata": {
    "ExecuteTime": {
     "end_time": "2024-03-14T17:03:00.701641800Z",
     "start_time": "2024-03-14T17:03:00.691676800Z"
    },
    "collapsed": false
   },
   "outputs": [
    {
     "data": {
      "text/plain": [
       "Entity\n",
       "Afghanistan    28\n",
       "New Zealand    28\n",
       "Niger          28\n",
       "Nigeria        28\n",
       "North Korea    28\n",
       "               ..\n",
       "Greece         28\n",
       "Greenland      28\n",
       "Grenada        28\n",
       "Guam           28\n",
       "Zimbabwe       28\n",
       "Name: count, Length: 196, dtype: int64"
      ]
     },
     "execution_count": 35,
     "metadata": {},
     "output_type": "execute_result"
    }
   ],
   "source": [
    "depression_count['Entity'].value_counts()"
   ]
  },
  {
   "cell_type": "markdown",
   "id": "eb0dc7359f0e5d00",
   "metadata": {
    "collapsed": false
   },
   "source": [
    "##### Code"
   ]
  },
  {
   "cell_type": "code",
   "execution_count": 36,
   "id": "a7c589e7d6100d45",
   "metadata": {
    "ExecuteTime": {
     "end_time": "2024-03-14T17:03:26.764443800Z",
     "start_time": "2024-03-14T17:03:26.759412500Z"
    },
    "collapsed": false
   },
   "outputs": [
    {
     "data": {
      "text/plain": [
       "Code\n",
       "AFG    28\n",
       "NZL    28\n",
       "NER    28\n",
       "NGA    28\n",
       "PRK    28\n",
       "       ..\n",
       "GRC    28\n",
       "GRL    28\n",
       "GRD    28\n",
       "GUM    28\n",
       "ZWE    28\n",
       "Name: count, Length: 196, dtype: int64"
      ]
     },
     "execution_count": 36,
     "metadata": {},
     "output_type": "execute_result"
    }
   ],
   "source": [
    "depression_count['Code'].value_counts()"
   ]
  }
 ],
 "metadata": {
  "kernelspec": {
   "display_name": "Python 3",
   "language": "python",
   "name": "python3"
  },
  "language_info": {
   "codemirror_mode": {
    "name": "ipython",
    "version": 3
   },
   "file_extension": ".py",
   "mimetype": "text/x-python",
   "name": "python",
   "nbconvert_exporter": "python",
   "pygments_lexer": "ipython3",
   "version": "3.11.3"
  }
 },
 "nbformat": 4,
 "nbformat_minor": 5
}
