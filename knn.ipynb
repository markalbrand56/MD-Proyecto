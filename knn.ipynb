{
 "cells": [
  {
   "cell_type": "code",
   "execution_count": null,
   "metadata": {},
   "outputs": [],
   "source": [
    "import numpy as np\n",
    "import matplotlib.pyplot as plt\n",
    "import pandas as pd\n",
    "import seaborn as sns\n",
    "\n",
    "# ignore all FutureWarnings\n",
    "import warnings\n",
    "warnings.simplefilter(action='ignore', category=FutureWarning)"
   ]
  },
  {
   "cell_type": "code",
   "execution_count": null,
   "metadata": {},
   "outputs": [],
   "source": [
    "# indices en la primera columna\n",
    "datos_procesados = pd.read_csv('merged_data.csv', sep=',', encoding='utf-8', index_col=0)\n",
    "datos_procesados.head()"
   ]
  },
  {
   "cell_type": "code",
   "execution_count": null,
   "metadata": {},
   "outputs": [],
   "source": [
    "from sklearn.preprocessing import LabelEncoder, OrdinalEncoder\n",
    "\n",
    "datos_procesados_ecoding = pd.get_dummies(datos_procesados_scaled, columns=qualitative_columns)\n",
    "datos_procesados_ecoding"
   ]
  },
  {
   "cell_type": "code",
   "execution_count": null,
   "metadata": {},
   "outputs": [],
   "source": [
    "#standar scaler\n",
    "from sklearn.preprocessing import StandardScaler\n",
    "\n",
    "scaler = StandardScaler()\n",
    "datos_procesados_scaled = datos_procesados.copy()\n",
    "\n",
    "# escalar todas las columnas, excepto entity y code\n",
    "datos_procesados_scaled[datos_procesados.columns[2:]] = scaler.fit_transform(datos_procesados[datos_procesados.columns[2:]])\n",
    "datos_procesados_scaled.head()"
   ]
  },
  {
   "cell_type": "code",
   "execution_count": null,
   "metadata": {},
   "outputs": [],
   "source": [
    "qualitative_columns = ['Entity', 'Code'] "
   ]
  }
 ],
 "metadata": {
  "language_info": {
   "name": "python"
  }
 },
 "nbformat": 4,
 "nbformat_minor": 2
}
