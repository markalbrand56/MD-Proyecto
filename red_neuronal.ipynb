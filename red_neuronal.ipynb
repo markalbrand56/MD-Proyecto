{
 "cells": [
  {
   "metadata": {},
   "cell_type": "markdown",
   "source": [
    "# Red Neuronal\n",
    "\n",
    "En el archivo `red_neuronal.py` se entrena el modelo de la red neuronal, compuesto por 7 capas: \n",
    "\n",
    "1. Capa convolucional: Se encarga de extraer características de la serie temporal. Se utilizan 64 filtros de 3x1 para extraer características de la serie temporal.\n",
    "2. Capa de Max Pooling: Se encarga de reducir la dimensión de las características extraídas por la capa convolucional para quedarnos con las más importantes.\n",
    "3. Capa convolucional: Se encarga de extraer características de la serie temporal. Se utilizan 64 filtros de 3x1 para extraer características de la serie temporal.\n",
    "4. Capa de Max Pooling: Se encarga de reducir la dimensión de las características extraídas por la capa convolucional para quedarnos con las más importantes.\n",
    "5. Capa de aplanado: Se encarga de aplanar las características extraídas por la capa convolucional para poder conectarlas a una capa densa.\n",
    "6. Capa densa: Se encarga de aprender a partir de las características extraídas por las capas convolucionales y aplanadas. Se utilizan 64 neuronas y función de activación ReLU.\n",
    "7. Capa densa: Se encarga de realizar la regresión. Se utiliza 1 neurona para predecir el valor de la serie temporal.\n",
    "\n",
    "En este notebook se carga el modelo entrenado y se realizan las predicciones con los datos. "
   ],
   "id": "1152d2b88c3ff756"
  }
 ],
 "metadata": {
  "kernelspec": {
   "display_name": "Python 3",
   "language": "python",
   "name": "python3"
  },
  "language_info": {
   "codemirror_mode": {
    "name": "ipython",
    "version": 2
   },
   "file_extension": ".py",
   "mimetype": "text/x-python",
   "name": "python",
   "nbconvert_exporter": "python",
   "pygments_lexer": "ipython2",
   "version": "2.7.6"
  }
 },
 "nbformat": 4,
 "nbformat_minor": 5
}
