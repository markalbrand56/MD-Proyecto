{
 "cells": [
  {
   "metadata": {},
   "cell_type": "markdown",
   "source": [
    "# Red Neuronal\n",
    "\n",
    "En el archivo `red_neuronal.py` se entrena el modelo de la red neuronal, compuesto por 7 capas: \n",
    "\n",
    "1. Capa convolucional: Se encarga de extraer características de la serie temporal. Se utilizan 64 filtros de 3x1 para extraer características de la serie temporal.\n",
    "2. Capa de Max Pooling: Se encarga de reducir la dimensión de las características extraídas por la capa convolucional para quedarnos con las más importantes.\n",
    "3. Capa convolucional: Se encarga de extraer características de la serie temporal. Se utilizan 64 filtros de 3x1 para extraer características de la serie temporal.\n",
    "4. Capa de Max Pooling: Se encarga de reducir la dimensión de las características extraídas por la capa convolucional para quedarnos con las más importantes.\n",
    "5. Capa de aplanado: Se encarga de aplanar las características extraídas por la capa convolucional para poder conectarlas a una capa densa.\n",
    "6. Capa densa: Se encarga de aprender a partir de las características extraídas por las capas convolucionales y aplanadas. Se utilizan 64 neuronas y función de activación ReLU.\n",
    "7. Capa densa: Se encarga de realizar la regresión. Se utiliza 1 neurona para predecir el valor de la serie temporal.\n",
    "\n",
    "En este notebook se carga el modelo entrenado y se realizan las predicciones con los datos. "
   ],
   "id": "1152d2b88c3ff756"
  },
  {
   "metadata": {
    "ExecuteTime": {
     "end_time": "2024-05-14T19:24:47.410127Z",
     "start_time": "2024-05-14T19:24:46.803380Z"
    }
   },
   "cell_type": "code",
   "source": [
    "import numpy as np\n",
    "import pandas as pd\n",
    "import matplotlib.pyplot as plt"
   ],
   "id": "dcc5629b077ac88b",
   "outputs": [
    {
     "name": "stderr",
     "output_type": "stream",
     "text": [
      "C:\\Users\\marka\\AppData\\Local\\Temp\\ipykernel_205624\\256808149.py:2: DeprecationWarning: \n",
      "Pyarrow will become a required dependency of pandas in the next major release of pandas (pandas 3.0),\n",
      "(to allow more performant data types, such as the Arrow string type, and better interoperability with other libraries)\n",
      "but was not found to be installed on your system.\n",
      "If this would cause problems for you,\n",
      "please provide us feedback at https://github.com/pandas-dev/pandas/issues/54466\n",
      "        \n",
      "  import pandas as pd\n"
     ]
    }
   ],
   "execution_count": 1
  },
  {
   "metadata": {
    "ExecuteTime": {
     "end_time": "2024-05-14T19:24:59.539091Z",
     "start_time": "2024-05-14T19:24:59.521211Z"
    }
   },
   "cell_type": "code",
   "source": [
    "# Cargar datos\n",
    "data = pd.read_csv('merged_data.csv')"
   ],
   "id": "833d9fc83a7908b2",
   "outputs": [],
   "execution_count": 2
  },
  {
   "metadata": {
    "ExecuteTime": {
     "end_time": "2024-05-14T19:25:41.773517Z",
     "start_time": "2024-05-14T19:25:41.769398Z"
    }
   },
   "cell_type": "code",
   "source": [
    "validation_data = data[data['Year'] >= 2017]\n",
    "\n",
    "# imprimir que porcentaje de los datos son de validación\n",
    "print('Porcentaje de datos de validación: ', len(validation_data)/len(data)*100)"
   ],
   "id": "86dd30607595b172",
   "outputs": [
    {
     "name": "stdout",
     "output_type": "stream",
     "text": [
      "Porcentaje de datos de validación:  3.571428571428571\n"
     ]
    }
   ],
   "execution_count": 3
  }
 ],
 "metadata": {
  "kernelspec": {
   "display_name": "Python 3",
   "language": "python",
   "name": "python3"
  },
  "language_info": {
   "codemirror_mode": {
    "name": "ipython",
    "version": 2
   },
   "file_extension": ".py",
   "mimetype": "text/x-python",
   "name": "python",
   "nbconvert_exporter": "python",
   "pygments_lexer": "ipython2",
   "version": "2.7.6"
  }
 },
 "nbformat": 4,
 "nbformat_minor": 5
}
